{
  "cells": [
    {
      "cell_type": "markdown",
      "metadata": {
        "id": "hXxoLbl4pgdF"
      },
      "source": [
        "---\n",
        "\n",
        "Created for [learn-investments.rice-business.org](https://learn-investments.rice-business.org)\n",
        "    \n",
        "By [Kerry Back](https://kerryback.com) and [Kevin Crotty](https://kevin-crotty.com)\n",
        "    \n",
        "Jones Graduate School of Business, Rice University\n",
        "\n",
        "---\n"
      ]
    },
    {
      "cell_type": "markdown",
      "metadata": {
        "id": "mE0HBVEYpgdI"
      },
      "source": [
        "# EXAMPLE DATA"
      ]
    },
    {
      "cell_type": "code",
      "execution_count": 1,
      "metadata": {
        "id": "aofdy9WZpgdJ"
      },
      "outputs": [],
      "source": [
        "# means\n",
        "mn1 = 0.08\n",
        "mn2 = 0.12\n",
        "mn3 = 0.15\n",
        "\n",
        "# std devs\n",
        "sd1 = 0.15\n",
        "sd2 = 0.25\n",
        "sd3 = 0.35\n",
        "\n",
        "# correlations\n",
        "c12 = 0.15\n",
        "c13 = 0.60\n",
        "c23 = 0.30\n",
        "\n",
        "# risk-free rate\n",
        "rf = 0.02"
      ]
    },
    {
      "cell_type": "markdown",
      "metadata": {
        "id": "QlFPw_oYpgdK"
      },
      "source": [
        "# CREATE ARRAYS"
      ]
    },
    {
      "cell_type": "code",
      "execution_count": 2,
      "metadata": {
        "id": "Q3eA_pOqpgdL"
      },
      "outputs": [],
      "source": [
        "import numpy as np\n",
        "\n",
        "mn = np.array([mn1, mn2, mn3])\n",
        "sd = np.array([sd1, sd2, sd3])\n",
        "\n",
        "corr = np.identity(3)\n",
        "corr[0, 1] = corr[1, 0] = c12\n",
        "corr[0, 2] = corr[2, 0] = c13\n",
        "corr[1, 2] = corr[2, 1] = c23\n",
        "\n",
        "cov = np.diag(sd) @ corr @ np.diag(sd)"
      ]
    },
    {
      "cell_type": "markdown",
      "metadata": {
        "id": "4NECAJHOpgdM"
      },
      "source": [
        "# CHECK CORRELATIONS"
      ]
    },
    {
      "cell_type": "code",
      "execution_count": 3,
      "metadata": {
        "id": "aNPEMlnQpgdN",
        "outputId": "7bad8285-3ca2-4ba2-b6d5-73369258fb7d"
      },
      "outputs": [
        {
          "name": "stdout",
          "output_type": "stream",
          "text": [
            "correlations are acceptable\n"
          ]
        }
      ],
      "source": [
        "if np.all(np.linalg.eigvals(cov) > 0):\n",
        "    print(\"correlations are acceptable\")\n",
        "else:\n",
        "    print(\"correlations are inconsistent\")"
      ]
    },
    {
      "cell_type": "markdown",
      "metadata": {
        "id": "lEpJyGKcpgdP"
      },
      "source": [
        "# CALCULATE FRONTIER OF RISKY ASSETS"
      ]
    },
    {
      "cell_type": "code",
      "execution_count": 4,
      "metadata": {
        "id": "vxc1rb9QpgdQ"
      },
      "outputs": [],
      "source": [
        "# global minimum variance portfolio\n",
        "w = np.linalg.solve(cov, np.ones(3))\n",
        "gmv = w / np.sum(w)\n",
        "gmv_mn = gmv @ mn\n",
        "gmv_sd = np.sqrt(gmv @ cov @ gmv)\n",
        "\n",
        "# second frontier portfolio\n",
        "w = np.linalg.solve(cov, mn)\n",
        "second_port = w / np.sum(w)\n",
        "second_mn = second_port @ mn\n",
        "second_sd = np.sqrt(second_port @ cov @ second_port)\n",
        "\n",
        "# means to display\n",
        "min_mn = -0.1\n",
        "max_mn = 1.5*np.max(mn)\n",
        "mns = np.linspace(min_mn, max_mn, 101)\n",
        "\n",
        "# portfolio weights and risks\n",
        "gmv_wt = (mns - second_mn) / (gmv_mn - second_mn)\n",
        "second_wt = 1 - gmv_wt\n",
        "ports = (\n",
        "    gmv_wt.reshape(-1, 1) * gmv.reshape(1, -1) +\n",
        "    second_wt.reshape(-1, 1) * second_port.reshape(1, -1)\n",
        ")\n",
        "vr = np.diag(ports @ cov @ ports.T)\n",
        "sds = np.sqrt(vr)\n"
      ]
    },
    {
      "cell_type": "markdown",
      "metadata": {
        "id": "6dQNFMNepgdQ"
      },
      "source": [
        "# CALCULATE TANGENCY PORTFOLIO"
      ]
    },
    {
      "cell_type": "code",
      "execution_count": 5,
      "metadata": {
        "id": "HBl7-UGhpgdR"
      },
      "outputs": [],
      "source": [
        "if gmv_mn < rf:\n",
        "    print(\n",
        "        \"\"\"\n",
        "        Figure will be incorrect.  For these parameter values, all\n",
        "        efficient portfolios involve shorting risky assets and investing\n",
        "        more than 100% at the savings rate.\n",
        "        \"\"\"\n",
        "    )"
      ]
    },
    {
      "cell_type": "code",
      "execution_count": 6,
      "metadata": {
        "id": "FLLsdy1LpgdR"
      },
      "outputs": [],
      "source": [
        "tang = np.linalg.solve(cov, mn-rf)\n",
        "tang = tang / np.sum(tang)\n",
        "tang_mn = tang @ mn\n",
        "tang_sd = np.sqrt(tang @ cov @ tang)"
      ]
    },
    {
      "cell_type": "code",
      "execution_count": 16,
      "metadata": {},
      "outputs": [
        {
          "data": {
            "image/png": "[encoded data removed]",
            "text/plain": [
              "<Figure size 500x300 with 1 Axes>"
            ]
          },
          "metadata": {},
          "output_type": "display_data"
        }
      ],
      "source": [
        "import matplotlib.pyplot as plt\n",
        "import seaborn as sns \n",
        "sns.set_style(\"whitegrid\", {'axes.facecolor': '#f4f1e5'})\n",
        "colors = sns.color_palette()\n",
        "# Set the figure size to (5, 3) inches\n",
        "plt.figure(figsize=(5, 3))\n",
        "\n",
        "plt.plot(sds, mns, lw=3)\n",
        "\n",
        "# Fill the area to the right of the efficient frontier curve\n",
        "plt.fill_betweenx(mns, sds, max(sds)*1.2, alpha=0.5, color=colors[2])\n",
        "\n",
        "# Set font sizes to 14pt for all labels\n",
        "\n",
        "\n",
        "# Add labels and title\n",
        "plt.xlabel('')\n",
        "plt.ylabel('')\n",
        "\n",
        "# Remove tick labels\n",
        "plt.tick_params(axis='both', which='both', labelbottom=False, labelleft=False)\n",
        "\n",
        "# Set x-axis limit to ensure the filled area is visible\n",
        "plt.xlim(0, 0.4)\n",
        "plt.ylim(-0.05, 0.2)\n",
        "\n",
        "plt.scatter([tang_sd], [tang_mn], s=200, color=colors[3])\n",
        "plt.plot([0, 0.4], [rf, rf+0.4*(tang_mn-rf)/tang_sd], color=colors[1], lw=3)\n",
        "plt.subplots_adjust(left=0, right=1, top=1, bottom=0)\n",
        "plt.savefig(\"../posts/07-mean-variance/tangency.png\")\n",
        "\n",
        "\n"
      ]
    },
    {
      "cell_type": "markdown",
      "metadata": {
        "id": "hkKtrhhUpgdR"
      },
      "source": [
        "# FIGURE"
      ]
    },
    {
      "cell_type": "code",
      "execution_count": null,
      "metadata": {
        "id": "WrRW2rmxpgdS",
        "outputId": "d8cad384-ac56-454b-8fb1-21fd0d004d7f"
      },
      "outputs": [
        {
          "data": {
            "application/vnd.plotly.v1+json": {
              "config": {
                "plotlyServerURL": "https://plot.ly"
              },
              "data": [
                {
                  "customdata": [
                    [
                      2.232498976548335,
                      -0.2091642786127843,
                      -1.0233346979355513
                    ],
                    [
                      2.2023340546230767,
                      -0.19877946078718045,
                      -1.0035545938358963
                    ],
                    [
                      2.172169132697818,
                      -0.1883946429615766,
                      -0.9837744897362413
                    ],
                    [
                      2.1420042107725594,
                      -0.17800982513597274,
                      -0.9639943856365863
                    ],
                    [
                      2.1118392888472997,
                      -0.1676250073103689,
                      -0.9442142815369313
                    ],
                    [
                      2.081674366922041,
                      -0.15724018948476504,
                      -0.9244341774372765
                    ],
                    [
                      2.051509444996783,
                      -0.1468553716591614,
                      -0.9046540733376215
                    ],
                    [
                      2.021344523071524,
                      -0.13647055383355755,
                      -0.8848739692379666
                    ],
                    [
                      1.9911796011462646,
                      -0.1260857360079537,
                      -0.8650938651383118
                    ],
                    [
                      1.9610146792210066,
                      -0.11570091818234984,
                      -0.845313761038657
                    ],
                    [
                      1.9308497572957473,
                      -0.10531610035674599,
                      -0.8255336569390017
                    ],
                    [
                      1.9006848353704888,
                      -0.09493128253114214,
                      -0.8057535528393469
                    ],
                    [
                      1.8705199134452304,
                      -0.08454646470553828,
                      -0.7859734487396919
                    ],
                    [
                      1.8403549915199715,
                      -0.07416164687993443,
                      -0.7661933446400369
                    ],
                    [
                      1.8101900695947122,
                      -0.06377682905433057,
                      -0.746413240540382
                    ],
                    [
                      1.7800251476694542,
                      -0.05339201122872694,
                      -0.7266331364407272
                    ],
                    [
                      1.7498602257441953,
                      -0.04300719340312309,
                      -0.7068530323410723
                    ],
                    [
                      1.719695303818936,
                      -0.032622375577519014,
                      -0.6870729282414173
                    ],
                    [
                      1.6895303818936778,
                      -0.022237557751915382,
                      -0.6672928241417625
                    ],
                    [
                      1.6593654599684187,
                      -0.011852739926311529,
                      -0.6475127200421075
                    ],
                    [
                      1.6292005380431602,
                      -0.0014679221007076748,
                      -0.6277326159424526
                    ],
                    [
                      1.5990356161179011,
                      0.008916895724896179,
                      -0.6079525118427976
                    ],
                    [
                      1.5688706941926427,
                      0.01930171355049992,
                      -0.5881724077431427
                    ],
                    [
                      1.5387057722673838,
                      0.029686531376103886,
                      -0.5683923036434877
                    ],
                    [
                      1.508540850342125,
                      0.04007134920170774,
                      -0.5486121995438328
                    ],
                    [
                      1.4783759284168665,
                      0.05045616702731148,
                      -0.5288320954441779
                    ],
                    [
                      1.4482110064916072,
                      0.06084098485291545,
                      -0.5090519913445228
                    ],
                    [
                      1.418046084566349,
                      0.07122580267851919,
                      -0.48927188724486803
                    ],
                    [
                      1.3878811626410903,
                      0.08161062050412304,
                      -0.46949178314521306
                    ],
                    [
                      1.3577162407158312,
                      0.0919954383297269,
                      -0.44971167904555814
                    ],
                    [
                      1.3275513187905728,
                      0.10238025615533075,
                      -0.4299315749459032
                    ],
                    [
                      1.2973863968653137,
                      0.1127650739809345,
                      -0.4101514708462483
                    ],
                    [
                      1.267221474940055,
                      0.1231498918065384,
                      -0.3903713667465933
                    ],
                    [
                      1.2370565530147961,
                      0.13353470963214215,
                      -0.37059126264693837
                    ],
                    [
                      1.2068916310895375,
                      0.143919527457746,
                      -0.35081115854728345
                    ],
                    [
                      1.1767267091642786,
                      0.1543043452833499,
                      -0.3310310544476285
                    ],
                    [
                      1.14656178723902,
                      0.1646891631089537,
                      -0.31125095034797357
                    ],
                    [
                      1.1163968653137613,
                      0.1750739809345575,
                      -0.2914708462483187
                    ],
                    [
                      1.0862319433885024,
                      0.18545879876016141,
                      -0.2716907421486636
                    ],
                    [
                      1.0560670214632437,
                      0.19584361658576518,
                      -0.25191063804900876
                    ],
                    [
                      1.025902099537985,
                      0.20622843441136904,
                      -0.2321305339493539
                    ],
                    [
                      0.995737177612726,
                      0.21661325223697292,
                      -0.21235042984969882
                    ],
                    [
                      0.9655722556874673,
                      0.22699807006257672,
                      -0.19257032575004396
                    ],
                    [
                      0.9354073337622086,
                      0.2373828878881805,
                      -0.17279022165038907
                    ],
                    [
                      0.90524241183695,
                      0.24776770571378437,
                      -0.15301011755073415
                    ],
                    [
                      0.875077489911691,
                      0.2581525235393882,
                      -0.13323001345107913
                    ],
                    [
                      0.8449125679864323,
                      0.268537341364992,
                      -0.11344990935142422
                    ],
                    [
                      0.8147476460611737,
                      0.2789221591905958,
                      -0.09366980525176935
                    ],
                    [
                      0.7845827241359147,
                      0.2893069770161998,
                      -0.0738897011521143
                    ],
                    [
                      0.754417802210656,
                      0.2996917948418035,
                      -0.0541095970524594
                    ],
                    [
                      0.7242528802853974,
                      0.3100766126674074,
                      -0.03432949295280451
                    ],
                    [
                      0.6940879583601386,
                      0.3204614304930111,
                      -0.014549388853149624
                    ],
                    [
                      0.6639230364348797,
                      0.33084624831861503,
                      0.005230715246505421
                    ],
                    [
                      0.633758114509621,
                      0.3412310661442189,
                      0.025010819346160312
                    ],
                    [
                      0.6035931925843623,
                      0.3516158839698227,
                      0.0447909234458152
                    ],
                    [
                      0.5734282706591035,
                      0.3620007017954264,
                      0.06457102754547009
                    ],
                    [
                      0.5432633487338447,
                      0.3723855196210304,
                      0.08435113164512513
                    ],
                    [
                      0.5130984268085859,
                      0.38277033744663413,
                      0.10413123574478003
                    ],
                    [
                      0.4829335048833272,
                      0.393155155272238,
                      0.12391133984443492
                    ],
                    [
                      0.4527685829580683,
                      0.40353997309784195,
                      0.14369144394408997
                    ],
                    [
                      0.42260366103280966,
                      0.4139247909234457,
                      0.16347154804374486
                    ],
                    [
                      0.3924387391075509,
                      0.42430960874904955,
                      0.18325165214339972
                    ],
                    [
                      0.36227381718229235,
                      0.43469442657465335,
                      0.20303175624305464
                    ],
                    [
                      0.332108895257033,
                      0.44507924440025715,
                      0.22281186034270967
                    ],
                    [
                      0.3019439733317746,
                      0.45546406222586117,
                      0.24259196444236458
                    ],
                    [
                      0.2717790514065159,
                      0.4658488800514648,
                      0.26237206854201944
                    ],
                    [
                      0.24161412948125682,
                      0.4762336978770687,
                      0.28215217264167447
                    ],
                    [
                      0.2114492075559984,
                      0.4866185157026726,
                      0.30193227674132944
                    ],
                    [
                      0.18128428563073973,
                      0.49700333352827636,
                      0.32171238084098425
                    ],
                    [
                      0.15111936370548085,
                      0.50738815135388,
                      0.34149248494063916
                    ],
                    [
                      0.12095444178022197,
                      0.5177729691794841,
                      0.3612725890402942
                    ],
                    [
                      0.09078951985496353,
                      0.5281577870050879,
                      0.3810526931399491
                    ],
                    [
                      0.06062459792970465,
                      0.5385426048306917,
                      0.400832797239604
                    ],
                    [
                      0.030459676004445768,
                      0.5489274226562955,
                      0.4206129013392589
                    ],
                    [
                      0.00029475407918733154,
                      0.5593122404818992,
                      0.4403930054389138
                    ],
                    [
                      -0.029870167846071993,
                      0.5696970583075033,
                      0.46017310953856905
                    ],
                    [
                      -0.060035089771330874,
                      0.580081876133107,
                      0.47995321363822385
                    ],
                    [
                      -0.09020001169658931,
                      0.5904666939587108,
                      0.49973331773787877
                    ],
                    [
                      -0.12036493362184819,
                      0.6008515117843148,
                      0.5195134218375337
                    ],
                    [
                      -0.15052985554710618,
                      0.6112363296099187,
                      0.5392935259371885
                    ],
                    [
                      -0.1806947774723655,
                      0.6216211474355223,
                      0.5590736300368434
                    ],
                    [
                      -0.2108596993976244,
                      0.632005965261126,
                      0.5788537341364983
                    ],
                    [
                      -0.24102462132288283,
                      0.6423907830867303,
                      0.5986338382361536
                    ],
                    [
                      -0.27118954324814215,
                      0.6527756009123339,
                      0.6184139423358084
                    ],
                    [
                      -0.30135446517340103,
                      0.6631604187379377,
                      0.6381940464354633
                    ],
                    [
                      -0.331519387098659,
                      0.6735452365635416,
                      0.6579741505351182
                    ],
                    [
                      -0.3616843090239179,
                      0.6839300543891454,
                      0.6777542546347731
                    ],
                    [
                      -0.3918492309491768,
                      0.6943148722147492,
                      0.6975343587344279
                    ],
                    [
                      -0.42201415287443567,
                      0.704699690040353,
                      0.717314462834083
                    ],
                    [
                      -0.45217907479969455,
                      0.7150845078659569,
                      0.7370945669337381
                    ],
                    [
                      -0.4823439967249534,
                      0.7254693256915608,
                      0.7568746710333929
                    ],
                    [
                      -0.5125089186502119,
                      0.7358541435171646,
                      0.7766547751330479
                    ],
                    [
                      -0.5426738405754703,
                      0.7462389613427682,
                      0.7964348792327027
                    ],
                    [
                      -0.5728387625007296,
                      0.7566237791683723,
                      0.8162149833323575
                    ],
                    [
                      -0.6030036844259885,
                      0.7670085969939759,
                      0.8359950874320126
                    ],
                    [
                      -0.6331686063512465,
                      0.7773934148195798,
                      0.8557751915316674
                    ],
                    [
                      -0.6633335282765058,
                      0.7877782326451837,
                      0.8755552956313226
                    ],
                    [
                      -0.6934984502017643,
                      0.7981630504707875,
                      0.8953353997309775
                    ],
                    [
                      -0.7236633721270236,
                      0.8085478682963911,
                      0.9151155038306324
                    ],
                    [
                      -0.7538282940522825,
                      0.8189326861219954,
                      0.9348956079302873
                    ],
                    [
                      -0.7839932159775405,
                      0.8293175039475993,
                      0.9546757120299423
                    ]
                  ],
                  "hovertemplate": "asset 1: %{customdata[0]:.0%}<br>asset 2: %{customdata[1]:.0%}<br>asset 3: %{customdata[2]:.0%}<br><extra></extra>",
                  "mode": "lines",
                  "type": "scatter",
                  "x": [
                    0.32436691838496406,
                    0.3182467093257468,
                    0.31215006393240813,
                    0.3060783902721301,
                    0.30003320438308473,
                    0.2940161400933921,
                    0.28802895982988264,
                    0.282073566517997,
                    0.2761520166826837,
                    0.2702665348685911,
                    0.26441952950580094,
                    0.2586136103543174,
                    0.25285160766574516,
                    0.2471365932031128,
                    0.24147190325824971,
                    0.23586116379877783,
                    0.23030831786129216,
                    0.22481765528070463,
                    0.21939384480418142,
                    0.2140419685768201,
                    0.2087675588992489,
                    0.20357663703749007,
                    0.19847575370424547,
                    0.19347203061857376,
                    0.18857320227729096,
                    0.18378765672585728,
                    0.17912447368989728,
                    0.1745934579152827,
                    0.17020516496622592,
                    0.16597091605994246,
                    0.16190279780351075,
                    0.15801364199860776,
                    0.15431698007982014,
                    0.150826966376967,
                    0.14755826440505992,
                    0.14452589098227392,
                    0.14174501436184056,
                    0.1392307049141401,
                    0.1369976402992768,
                    0.1350597714587265,
                    0.133429960831998,
                    0.13211960941134104,
                    0.131138293784134,
                    0.13049343724668325,
                    0.1301900395365406,
                    0.13023048716345048,
                    0.13061446069009738,
                    0.13133894722485046,
                    0.1323983570031397,
                    0.13378473372683936,
                    0.1354880407335773,
                    0.13749650012824832,
                    0.13979696017955115,
                    0.14237526739430667,
                    0.1452166230773507,
                    0.14830590896053358,
                    0.15162797172508288,
                    0.15516786119730683,
                    0.1589110211717946,
                    0.1628434349717855,
                    0.16695172996764487,
                    0.1712232464567834,
                    0.17564607674936294,
                    0.18020908020939871,
                    0.184901879559467,
                    0.18971484312399348,
                    0.1946390569765765,
                    0.19966629024983729,
                    0.204788956210449,
                    0.21000007112291616,
                    0.2152932124330125,
                    0.22066247739489905,
                    0.22610244293818263,
                    0.23160812731293695,
                    0.23717495385143186,
                    0.2427987170346742,
                    0.24847555094047058,
                    0.25420190006939114,
                    0.25997449248885707,
                    0.2657903151979405,
                    0.27164659159178495,
                    0.27754076089122326,
                    0.28347045939737026,
                    0.28943350343051977,
                    0.29542787381593666,
                    0.30145170178484154,
                    0.3075032561661433,
                    0.31358093175257984,
                    0.3196832387334114,
                    0.3258087930943273,
                    0.331956307893543,
                    0.3381245853310212,
                    0.34431250953526066,
                    0.35051903999910566,
                    0.3567432056025063,
                    0.36298409916612207,
                    0.3692408724851056,
                    0.375512731797358,
                    0.3817989336450519,
                    0.38809878109228163,
                    0.3944116202653801
                  ],
                  "y": [
                    0,
                    0.0018,
                    0.0036,
                    0.0054,
                    0.0072,
                    0.009,
                    0.0108,
                    0.0126,
                    0.0144,
                    0.0162,
                    0.018,
                    0.019799999999999998,
                    0.0216,
                    0.0234,
                    0.0252,
                    0.027,
                    0.0288,
                    0.0306,
                    0.0324,
                    0.0342,
                    0.036,
                    0.0378,
                    0.039599999999999996,
                    0.0414,
                    0.0432,
                    0.045,
                    0.0468,
                    0.0486,
                    0.0504,
                    0.052199999999999996,
                    0.054,
                    0.055799999999999995,
                    0.0576,
                    0.0594,
                    0.0612,
                    0.063,
                    0.0648,
                    0.06659999999999999,
                    0.0684,
                    0.0702,
                    0.072,
                    0.0738,
                    0.0756,
                    0.0774,
                    0.07919999999999999,
                    0.081,
                    0.0828,
                    0.0846,
                    0.0864,
                    0.0882,
                    0.09,
                    0.09179999999999999,
                    0.0936,
                    0.0954,
                    0.0972,
                    0.09899999999999999,
                    0.1008,
                    0.1026,
                    0.10439999999999999,
                    0.1062,
                    0.108,
                    0.1098,
                    0.11159999999999999,
                    0.1134,
                    0.1152,
                    0.11699999999999999,
                    0.1188,
                    0.1206,
                    0.1224,
                    0.12419999999999999,
                    0.126,
                    0.1278,
                    0.1296,
                    0.1314,
                    0.13319999999999999,
                    0.135,
                    0.1368,
                    0.1386,
                    0.1404,
                    0.1422,
                    0.144,
                    0.14579999999999999,
                    0.1476,
                    0.1494,
                    0.1512,
                    0.153,
                    0.1548,
                    0.1566,
                    0.15839999999999999,
                    0.1602,
                    0.162,
                    0.1638,
                    0.1656,
                    0.1674,
                    0.1692,
                    0.17099999999999999,
                    0.1728,
                    0.1746,
                    0.1764,
                    0.1782,
                    0.18
                  ]
                },
                {
                  "hovertemplate": "%{text}<extra></extra>",
                  "marker": {
                    "size": 15
                  },
                  "mode": "markers",
                  "text": [
                    "Asset 1",
                    "Asset 2",
                    "Asset 3"
                  ],
                  "type": "scatter",
                  "x": [
                    0.15,
                    0.25,
                    0.35
                  ],
                  "y": [
                    0.08,
                    0.12,
                    0.15
                  ]
                },
                {
                  "customdata": [
                    [
                      0.5509184180043024,
                      0.36975012411054115,
                      0.07933145788515646
                    ]
                  ],
                  "hovertemplate": "tangency portfolio<br>asset 1: %{customdata[0]:.0%}<br>asset 2: %{customdata[1]:.0%}<br>asset 3: %{customdata[2]:.0%}<br><extra></extra>",
                  "marker": {
                    "size": 15
                  },
                  "mode": "markers",
                  "type": "scatter",
                  "x": [
                    0.1507637076349746
                  ],
                  "y": [
                    0.1003432070163826
                  ]
                },
                {
                  "customdata": [
                    [
                      0,
                      0,
                      0
                    ],
                    [
                      0.005509184180043024,
                      0.0036975012411054114,
                      0.0007933145788515646
                    ],
                    [
                      0.011018368360086048,
                      0.007395002482210823,
                      0.0015866291577031292
                    ],
                    [
                      0.01652755254012907,
                      0.011092503723316233,
                      0.002379943736554694
                    ],
                    [
                      0.022036736720172097,
                      0.014790004964421646,
                      0.0031732583154062584
                    ],
                    [
                      0.027545920900215123,
                      0.018487506205527058,
                      0.003966572894257823
                    ],
                    [
                      0.03305510508025814,
                      0.022185007446632467,
                      0.004759887473109388
                    ],
                    [
                      0.03856428926030117,
                      0.025882508687737883,
                      0.005553202051960952
                    ],
                    [
                      0.044073473440344194,
                      0.02958000992884329,
                      0.006346516630812517
                    ],
                    [
                      0.049582657620387216,
                      0.033277511169948704,
                      0.0071398312096640805
                    ],
                    [
                      0.055091841800430245,
                      0.036975012411054116,
                      0.007933145788515646
                    ],
                    [
                      0.06060102598047327,
                      0.04067251365215953,
                      0.00872646036736721
                    ],
                    [
                      0.06611021016051628,
                      0.044370014893264934,
                      0.009519774946218775
                    ],
                    [
                      0.07161939434055932,
                      0.04806751613437035,
                      0.010313089525070339
                    ],
                    [
                      0.07712857852060234,
                      0.051765017375475765,
                      0.011106404103921904
                    ],
                    [
                      0.08263776270064536,
                      0.05546251861658117,
                      0.011899718682773468
                    ],
                    [
                      0.08814694688068839,
                      0.05916001985768658,
                      0.012693033261625034
                    ],
                    [
                      0.09365613106073142,
                      0.062857521098792,
                      0.013486347840476599
                    ],
                    [
                      0.09916531524077443,
                      0.06655502233989741,
                      0.014279662419328161
                    ],
                    [
                      0.10467449942081745,
                      0.07025252358100281,
                      0.015072976998179726
                    ],
                    [
                      0.11018368360086049,
                      0.07395002482210823,
                      0.015866291577031292
                    ],
                    [
                      0.1156928677809035,
                      0.07764752606321364,
                      0.016659606155882856
                    ],
                    [
                      0.12120205196094654,
                      0.08134502730431906,
                      0.01745292073473442
                    ],
                    [
                      0.12671123614098956,
                      0.08504252854542446,
                      0.018246235313585987
                    ],
                    [
                      0.13222042032103257,
                      0.08874002978652987,
                      0.01903954989243755
                    ],
                    [
                      0.1377296045010756,
                      0.09243753102763529,
                      0.019832864471289114
                    ],
                    [
                      0.14323878868111864,
                      0.0961350322687407,
                      0.020626179050140678
                    ],
                    [
                      0.14874797286116165,
                      0.09983253350984611,
                      0.021419493628992245
                    ],
                    [
                      0.15425715704120468,
                      0.10353003475095153,
                      0.02221280820784381
                    ],
                    [
                      0.1597663412212477,
                      0.10722753599205692,
                      0.023006122786695372
                    ],
                    [
                      0.16527552540129073,
                      0.11092503723316234,
                      0.023799437365546936
                    ],
                    [
                      0.17078470958133374,
                      0.11462253847426776,
                      0.0245927519443985
                    ],
                    [
                      0.17629389376137677,
                      0.11832003971537317,
                      0.025386066523250067
                    ],
                    [
                      0.1818030779414198,
                      0.12201754095647858,
                      0.02617938110210163
                    ],
                    [
                      0.18731226212146285,
                      0.125715042197584,
                      0.026972695680953198
                    ],
                    [
                      0.19282144630150586,
                      0.1294125434386894,
                      0.02776601025980476
                    ],
                    [
                      0.19833063048154886,
                      0.13311004467979481,
                      0.028559324838656322
                    ],
                    [
                      0.2038398146615919,
                      0.13680754592090022,
                      0.02935263941750789
                    ],
                    [
                      0.2093489988416349,
                      0.14050504716200563,
                      0.030145953996359453
                    ],
                    [
                      0.21485818302167795,
                      0.14420254840311106,
                      0.03093926857521102
                    ],
                    [
                      0.22036736720172098,
                      0.14790004964421646,
                      0.031732583154062584
                    ],
                    [
                      0.22587655138176402,
                      0.15159755088532187,
                      0.03252589773291415
                    ],
                    [
                      0.231385735561807,
                      0.15529505212642727,
                      0.03331921231176571
                    ],
                    [
                      0.23689491974185004,
                      0.15899255336753268,
                      0.03411252689061728
                    ],
                    [
                      0.24240410392189307,
                      0.1626900546086381,
                      0.03490584146946884
                    ],
                    [
                      0.24791328810193608,
                      0.16638755584974352,
                      0.035699156048320406
                    ],
                    [
                      0.2534224722819791,
                      0.17008505709084892,
                      0.03649247062717197
                    ],
                    [
                      0.25893165646202215,
                      0.17378255833195436,
                      0.03728578520602353
                    ],
                    [
                      0.26444084064206513,
                      0.17748005957305973,
                      0.0380790997848751
                    ],
                    [
                      0.26995002482210817,
                      0.18117756081416517,
                      0.03887241436372666
                    ],
                    [
                      0.2754592090021512,
                      0.18487506205527057,
                      0.03966572894257823
                    ],
                    [
                      0.28096839318219424,
                      0.18857256329637598,
                      0.040459043521429795
                    ],
                    [
                      0.2864775773622373,
                      0.1922700645374814,
                      0.041252358100281356
                    ],
                    [
                      0.2919867615422803,
                      0.19596756577858682,
                      0.04204567267913292
                    ],
                    [
                      0.2974959457223233,
                      0.19966506701969222,
                      0.04283898725798449
                    ],
                    [
                      0.30300512990236633,
                      0.20336256826079765,
                      0.04363230183683606
                    ],
                    [
                      0.30851431408240937,
                      0.20706006950190306,
                      0.04442561641568762
                    ],
                    [
                      0.3140234982624524,
                      0.21075757074300847,
                      0.045218930994539185
                    ],
                    [
                      0.3195326824424954,
                      0.21445507198411384,
                      0.046012245573390745
                    ],
                    [
                      0.3250418666225384,
                      0.21815257322521928,
                      0.046805560152242305
                    ],
                    [
                      0.33055105080258146,
                      0.22185007446632468,
                      0.04759887473109387
                    ],
                    [
                      0.33606023498262444,
                      0.2255475757074301,
                      0.04839218930994544
                    ],
                    [
                      0.3415694191626675,
                      0.22924507694853552,
                      0.049185503888797
                    ],
                    [
                      0.3470786033427105,
                      0.23294257818964093,
                      0.04997881846764857
                    ],
                    [
                      0.35258778752275355,
                      0.23664007943074633,
                      0.050772133046500134
                    ],
                    [
                      0.3580969717027966,
                      0.24033758067185176,
                      0.0515654476253517
                    ],
                    [
                      0.3636061558828396,
                      0.24403508191295717,
                      0.05235876220420326
                    ],
                    [
                      0.36911534006288266,
                      0.24773258315406257,
                      0.05315207678305483
                    ],
                    [
                      0.3746245242429257,
                      0.251430084395168,
                      0.053945391361906396
                    ],
                    [
                      0.3801337084229687,
                      0.2551275856362734,
                      0.054738705940757956
                    ],
                    [
                      0.3856428926030117,
                      0.2588250868773788,
                      0.05553202051960952
                    ],
                    [
                      0.3911520767830547,
                      0.2625225881184842,
                      0.056325335098461084
                    ],
                    [
                      0.39666126096309773,
                      0.26622008935958963,
                      0.057118649677312644
                    ],
                    [
                      0.40217044514314076,
                      0.26991759060069503,
                      0.05791196425616421
                    ],
                    [
                      0.4076796293231838,
                      0.27361509184180044,
                      0.05870527883501578
                    ],
                    [
                      0.4131888135032268,
                      0.27731259308290584,
                      0.059498593413867346
                    ],
                    [
                      0.4186979976832698,
                      0.28101009432401125,
                      0.060291907992718906
                    ],
                    [
                      0.42420718186331285,
                      0.2847075955651167,
                      0.06108522257157047
                    ],
                    [
                      0.4297163660433559,
                      0.2884050968062221,
                      0.06187853715042204
                    ],
                    [
                      0.4352255502233989,
                      0.2921025980473275,
                      0.0626718517292736
                    ],
                    [
                      0.44073473440344196,
                      0.2958000992884329,
                      0.06346516630812517
                    ],
                    [
                      0.446243918583485,
                      0.29949760052953833,
                      0.06425848088697673
                    ],
                    [
                      0.45175310276352804,
                      0.30319510177064374,
                      0.0650517954658283
                    ],
                    [
                      0.457262286943571,
                      0.3068926030117492,
                      0.06584511004467987
                    ],
                    [
                      0.462771471123614,
                      0.31059010425285455,
                      0.06663842462353142
                    ],
                    [
                      0.46828065530365703,
                      0.31428760549395995,
                      0.06743173920238299
                    ],
                    [
                      0.47378983948370007,
                      0.31798510673506536,
                      0.06822505378123456
                    ],
                    [
                      0.4792990236637431,
                      0.3216826079761708,
                      0.06901836836008611
                    ],
                    [
                      0.48480820784378614,
                      0.3253801092172762,
                      0.06981168293893768
                    ],
                    [
                      0.4903173920238292,
                      0.32907761045838163,
                      0.07060499751778924
                    ],
                    [
                      0.49582657620387216,
                      0.33277511169948704,
                      0.07139831209664081
                    ],
                    [
                      0.5013357603839153,
                      0.33647261294059244,
                      0.07219162667549238
                    ],
                    [
                      0.5068449445639582,
                      0.34017011418169785,
                      0.07298494125434395
                    ],
                    [
                      0.5123541287440013,
                      0.3438676154228033,
                      0.07377825583319551
                    ],
                    [
                      0.5178633129240443,
                      0.3475651166639087,
                      0.07457157041204707
                    ],
                    [
                      0.5233724971040873,
                      0.3512626179050141,
                      0.07536488499089863
                    ],
                    [
                      0.5288816812841303,
                      0.35496011914611947,
                      0.0761581995697502
                    ],
                    [
                      0.5343908654641734,
                      0.3586576203872249,
                      0.07695151414860175
                    ],
                    [
                      0.5399000496442163,
                      0.36235512162833033,
                      0.07774482872745332
                    ],
                    [
                      0.5454092338242594,
                      0.36605262286943574,
                      0.07853814330630489
                    ],
                    [
                      0.5509184180043024,
                      0.36975012411054115,
                      0.07933145788515646
                    ],
                    [
                      0.5564276021843454,
                      0.37344762535164655,
                      0.08012477246400802
                    ],
                    [
                      0.5619367863643885,
                      0.37714512659275196,
                      0.08091808704285959
                    ],
                    [
                      0.5674459705444315,
                      0.3808426278338574,
                      0.08171140162171116
                    ],
                    [
                      0.5729551547244746,
                      0.3845401290749628,
                      0.08250471620056271
                    ],
                    [
                      0.5784643389045175,
                      0.3882376303160682,
                      0.08329803077941428
                    ],
                    [
                      0.5839735230845606,
                      0.39193513155717363,
                      0.08409134535826585
                    ],
                    [
                      0.5894827072646036,
                      0.39563263279827904,
                      0.08488465993711741
                    ],
                    [
                      0.5949918914446466,
                      0.39933013403938444,
                      0.08567797451596898
                    ],
                    [
                      0.6005010756246897,
                      0.4030276352804899,
                      0.08647128909482055
                    ],
                    [
                      0.6060102598047327,
                      0.4067251365215953,
                      0.08726460367367211
                    ],
                    [
                      0.6115194439847758,
                      0.4104226377627007,
                      0.08805791825252367
                    ],
                    [
                      0.6170286281648187,
                      0.4141201390038061,
                      0.08885123283137523
                    ],
                    [
                      0.6225378123448618,
                      0.4178176402449115,
                      0.0896445474102268
                    ],
                    [
                      0.6280469965249048,
                      0.42151514148601693,
                      0.09043786198907837
                    ],
                    [
                      0.6335561807049479,
                      0.4252126427271224,
                      0.09123117656792994
                    ],
                    [
                      0.6390653648849908,
                      0.4289101439682277,
                      0.09202449114678149
                    ],
                    [
                      0.6445745490650338,
                      0.4326076452093331,
                      0.09281780572563304
                    ],
                    [
                      0.6500837332450768,
                      0.43630514645043855,
                      0.09361112030448461
                    ],
                    [
                      0.6555929174251198,
                      0.44000264769154396,
                      0.09440443488333618
                    ],
                    [
                      0.6611021016051629,
                      0.44370014893264936,
                      0.09519774946218774
                    ],
                    [
                      0.6666112857852059,
                      0.44739765017375477,
                      0.09599106404103931
                    ],
                    [
                      0.6721204699652489,
                      0.4510951514148602,
                      0.09678437861989088
                    ],
                    [
                      0.677629654145292,
                      0.4547926526559656,
                      0.09757769319874245
                    ],
                    [
                      0.683138838325335,
                      0.45849015389707104,
                      0.098371007777594
                    ],
                    [
                      0.688648022505378,
                      0.46218765513817645,
                      0.09916432235644557
                    ],
                    [
                      0.694157206685421,
                      0.46588515637928185,
                      0.09995763693529713
                    ],
                    [
                      0.6996663908654641,
                      0.46958265762038726,
                      0.1007509515141487
                    ],
                    [
                      0.7051755750455071,
                      0.47328015886149266,
                      0.10154426609300027
                    ],
                    [
                      0.7106847592255501,
                      0.47697766010259807,
                      0.10233758067185184
                    ],
                    [
                      0.7161939434055932,
                      0.4806751613437035,
                      0.1031308952507034
                    ],
                    [
                      0.7217031275856362,
                      0.48437266258480893,
                      0.10392420982955496
                    ],
                    [
                      0.7272123117656792,
                      0.48807016382591434,
                      0.10471752440840652
                    ],
                    [
                      0.7327214959457222,
                      0.49176766506701974,
                      0.10551083898725809
                    ],
                    [
                      0.7382306801257653,
                      0.49546516630812515,
                      0.10630415356610966
                    ],
                    [
                      0.7437398643058083,
                      0.49916266754923055,
                      0.10709746814496122
                    ],
                    [
                      0.7492490484858514,
                      0.502860168790336,
                      0.10789078272381279
                    ],
                    [
                      0.7547582326658944,
                      0.5065576700314414,
                      0.10868409730266436
                    ],
                    [
                      0.7602674168459373,
                      0.5102551712725468,
                      0.10947741188151591
                    ],
                    [
                      0.7657766010259804,
                      0.5139526725136523,
                      0.11027072646036748
                    ],
                    [
                      0.7712857852060234,
                      0.5176501737547576,
                      0.11106404103921905
                    ],
                    [
                      0.7767949693860664,
                      0.521347674995863,
                      0.1118573556180706
                    ],
                    [
                      0.7823041535661094,
                      0.5250451762369684,
                      0.11265067019692217
                    ],
                    [
                      0.7878133377461524,
                      0.5287426774780738,
                      0.11344398477577372
                    ],
                    [
                      0.7933225219261955,
                      0.5324401787191793,
                      0.11423729935462529
                    ],
                    [
                      0.7988317061062384,
                      0.5361376799602846,
                      0.11503061393347686
                    ],
                    [
                      0.8043408902862815,
                      0.5398351812013901,
                      0.11582392851232842
                    ],
                    [
                      0.8098500744663245,
                      0.5435326824424954,
                      0.11661724309117999
                    ],
                    [
                      0.8153592586463676,
                      0.5472301836836009,
                      0.11741055767003156
                    ],
                    [
                      0.8208684428264106,
                      0.5509276849247063,
                      0.11820387224888312
                    ],
                    [
                      0.8263776270064536,
                      0.5546251861658117,
                      0.11899718682773469
                    ],
                    [
                      0.8318868111864967,
                      0.5583226874069172,
                      0.11979050140658624
                    ],
                    [
                      0.8373959953665396,
                      0.5620201886480225,
                      0.12058381598543781
                    ],
                    [
                      0.8429051795465827,
                      0.565717689889128,
                      0.12137713056428938
                    ],
                    [
                      0.8484143637266257,
                      0.5694151911302334,
                      0.12217044514314095
                    ],
                    [
                      0.8539235479066688,
                      0.5731126923713388,
                      0.12296375972199251
                    ],
                    [
                      0.8594327320867118,
                      0.5768101936124442,
                      0.12375707430084408
                    ],
                    [
                      0.8649419162667549,
                      0.5805076948535496,
                      0.12455038887969565
                    ],
                    [
                      0.8704511004467979,
                      0.584205196094655,
                      0.1253437034585472
                    ],
                    [
                      0.8759602846268408,
                      0.5879026973357605,
                      0.12613701803739877
                    ],
                    [
                      0.8814694688068839,
                      0.5916001985768659,
                      0.12693033261625034
                    ],
                    [
                      0.8869786529869269,
                      0.5952976998179713,
                      0.1277236471951019
                    ],
                    [
                      0.89248783716697,
                      0.5989952010590767,
                      0.12851696177395347
                    ],
                    [
                      0.897997021347013,
                      0.6026927023001821,
                      0.12931027635280504
                    ],
                    [
                      0.9035062055270561,
                      0.6063902035412875,
                      0.1301035909316566
                    ],
                    [
                      0.909015389707099,
                      0.6100877047823929,
                      0.13089690551050817
                    ],
                    [
                      0.914524573887142,
                      0.6137852060234984,
                      0.13169022008935974
                    ],
                    [
                      0.920033758067185,
                      0.6174827072646036,
                      0.13248353466821128
                    ],
                    [
                      0.925542942247228,
                      0.6211802085057091,
                      0.13327684924706285
                    ],
                    [
                      0.9310521264272711,
                      0.6248777097468146,
                      0.1340701638259144
                    ],
                    [
                      0.9365613106073141,
                      0.6285752109879199,
                      0.13486347840476598
                    ],
                    [
                      0.9420704947873572,
                      0.6322727122290254,
                      0.13565679298361755
                    ],
                    [
                      0.9475796789674001,
                      0.6359702134701307,
                      0.13645010756246911
                    ],
                    [
                      0.9530888631474431,
                      0.6396677147112362,
                      0.13724342214132068
                    ],
                    [
                      0.9585980473274862,
                      0.6433652159523416,
                      0.13803673672017222
                    ],
                    [
                      0.9641072315075292,
                      0.647062717193447,
                      0.1388300512990238
                    ],
                    [
                      0.9696164156875723,
                      0.6507602184345525,
                      0.13962336587787536
                    ],
                    [
                      0.9751255998676153,
                      0.6544577196756578,
                      0.14041668045672692
                    ],
                    [
                      0.9806347840476584,
                      0.6581552209167633,
                      0.1412099950355785
                    ],
                    [
                      0.9861439682277013,
                      0.6618527221578686,
                      0.14200330961443006
                    ],
                    [
                      0.9916531524077443,
                      0.6655502233989741,
                      0.14279662419328162
                    ],
                    [
                      0.9971623365877874,
                      0.6692477246400795,
                      0.1435899387721332
                    ],
                    [
                      1.0026715207678305,
                      0.6729452258811849,
                      0.14438325335098476
                    ],
                    [
                      1.0081807049478735,
                      0.6766427271222903,
                      0.14517656792983633
                    ],
                    [
                      1.0136898891279165,
                      0.6803402283633957,
                      0.1459698825086879
                    ],
                    [
                      1.0191990733079594,
                      0.6840377296045012,
                      0.14676319708753946
                    ],
                    [
                      1.0247082574880026,
                      0.6877352308456066,
                      0.14755651166639103
                    ],
                    [
                      1.0302174416680456,
                      0.691432732086712,
                      0.1483498262452426
                    ],
                    [
                      1.0357266258480886,
                      0.6951302333278174,
                      0.14914314082409413
                    ],
                    [
                      1.0412358100281316,
                      0.6988277345689228,
                      0.1499364554029457
                    ],
                    [
                      1.0467449942081746,
                      0.7025252358100282,
                      0.15072976998179727
                    ],
                    [
                      1.0522541783882178,
                      0.7062227370511336,
                      0.15152308456064884
                    ],
                    [
                      1.0577633625682605,
                      0.7099202382922389,
                      0.1523163991395004
                    ],
                    [
                      1.0632725467483035,
                      0.7136177395333444,
                      0.15310971371835194
                    ],
                    [
                      1.0687817309283467,
                      0.7173152407744497,
                      0.1539030282972035
                    ],
                    [
                      1.0742909151083897,
                      0.7210127420155552,
                      0.15469634287605508
                    ],
                    [
                      1.0798000992884327,
                      0.7247102432566607,
                      0.15548965745490664
                    ],
                    [
                      1.0853092834684757,
                      0.728407744497766,
                      0.1562829720337582
                    ],
                    [
                      1.0908184676485189,
                      0.7321052457388715,
                      0.15707628661260978
                    ],
                    [
                      1.0963276518285618,
                      0.7358027469799768,
                      0.15786960119146135
                    ],
                    [
                      1.1018368360086048,
                      0.7395002482210823,
                      0.1586629157703129
                    ]
                  ],
                  "hovertemplate": "asset 1: %{customdata[0]:.0%}<br>asset 2: %{customdata[1]:.0%}<br>asset 3: %{customdata[2]:.0%}<br><extra></extra>",
                  "line": {
                    "color": "#8C564B"
                  },
                  "mode": "lines",
                  "type": "scatter",
                  "x": [
                    0,
                    0.0015076370763497458,
                    0.0030152741526994916,
                    0.004522911229049237,
                    0.006030548305398983,
                    0.007538185381748729,
                    0.009045822458098474,
                    0.010553459534448221,
                    0.012061096610797966,
                    0.013568733687147711,
                    0.015076370763497458,
                    0.016584007839847204,
                    0.01809164491619695,
                    0.019599281992546697,
                    0.021106919068896442,
                    0.022614556145246188,
                    0.024122193221595933,
                    0.025629830297945685,
                    0.027137467374295423,
                    0.02864510445064517,
                    0.030152741526994917,
                    0.03166037860334466,
                    0.03316801567969441,
                    0.03467565275604415,
                    0.0361832898323939,
                    0.03769092690874365,
                    0.039198563985093395,
                    0.04070620106144314,
                    0.042213838137792885,
                    0.04372147521414263,
                    0.045229112290492375,
                    0.04673674936684212,
                    0.048244386443191865,
                    0.04975202351954162,
                    0.05125966059589137,
                    0.052767297672241115,
                    0.054274934748590846,
                    0.0557825718249406,
                    0.05729020890129034,
                    0.05879784597764009,
                    0.06030548305398983,
                    0.061813120130339586,
                    0.06332075720668932,
                    0.06482839428303908,
                    0.06633603135938881,
                    0.06784366843573855,
                    0.0693513055120883,
                    0.07085894258843806,
                    0.0723665796647878,
                    0.07387421674113755,
                    0.0753818538174873,
                    0.07688949089383704,
                    0.07839712797018679,
                    0.07990476504653654,
                    0.08141240212288628,
                    0.08292003919923603,
                    0.08442767627558577,
                    0.08593531335193552,
                    0.08744295042828526,
                    0.088950587504635,
                    0.09045822458098475,
                    0.09196586165733449,
                    0.09347349873368424,
                    0.09498113581003399,
                    0.09648877288638373,
                    0.09799640996273348,
                    0.09950404703908323,
                    0.10101168411543297,
                    0.10251932119178274,
                    0.10402695826813246,
                    0.10553459534448223,
                    0.10704223242083195,
                    0.10854986949718169,
                    0.11005750657353146,
                    0.1115651436498812,
                    0.11307278072623095,
                    0.11458041780258069,
                    0.11608805487893044,
                    0.11759569195528018,
                    0.11910332903162993,
                    0.12061096610797967,
                    0.12211860318432942,
                    0.12362624026067917,
                    0.12513387733702894,
                    0.12664151441337865,
                    0.12814915148972839,
                    0.12965678856607815,
                    0.13116442564242792,
                    0.13267206271877763,
                    0.1341796997951274,
                    0.1356873368714771,
                    0.1371949739478269,
                    0.1387026110241766,
                    0.14021024810052637,
                    0.1417178851768761,
                    0.14322552225322588,
                    0.1447331593295756,
                    0.14624079640592533,
                    0.1477484334822751,
                    0.14925607055862486,
                    0.1507637076349746,
                    0.15227134471132434,
                    0.15377898178767407,
                    0.15528661886402384,
                    0.15679425594037358,
                    0.15830189301672332,
                    0.15980953009307308,
                    0.1613171671694228,
                    0.16282480424577256,
                    0.1643324413221223,
                    0.16584007839847206,
                    0.1673477154748218,
                    0.16885535255117154,
                    0.1703629896275213,
                    0.17187062670387104,
                    0.1733782637802208,
                    0.17488590085657052,
                    0.17639353793292023,
                    0.17790117500927,
                    0.17940881208561976,
                    0.1809164491619695,
                    0.18242408623831927,
                    0.18393172331466898,
                    0.18543936039101874,
                    0.18694699746736848,
                    0.18845463454371822,
                    0.18996227162006799,
                    0.19146990869641772,
                    0.19297754577276746,
                    0.1944851828491172,
                    0.19599281992546697,
                    0.1975004570018167,
                    0.19900809407816647,
                    0.2005157311545162,
                    0.20202336823086595,
                    0.2035310053072157,
                    0.20503864238356548,
                    0.2065462794599152,
                    0.20805391653626493,
                    0.2095615536126147,
                    0.21106919068896446,
                    0.21257682776531417,
                    0.2140844648416639,
                    0.21559210191801362,
                    0.21709973899436338,
                    0.21860737607071315,
                    0.22011501314706292,
                    0.22162265022341263,
                    0.2231302872997624,
                    0.22463792437611213,
                    0.2261455614524619,
                    0.2276531985288116,
                    0.22916083560516137,
                    0.23066847268151114,
                    0.23217610975786088,
                    0.23368374683421061,
                    0.23519138391056035,
                    0.23669902098691012,
                    0.23820665806325986,
                    0.2397142951396096,
                    0.24122193221595933,
                    0.2427295692923091,
                    0.24423720636865884,
                    0.2457448434450086,
                    0.24725248052135834,
                    0.24876011759770808,
                    0.2502677546740579,
                    0.25177539175040753,
                    0.2532830288267573,
                    0.25479066590310706,
                    0.25629830297945677,
                    0.25780594005580654,
                    0.2593135771321563,
                    0.260821214208506,
                    0.26232885128485584,
                    0.26383648836120555,
                    0.26534412543755526,
                    0.266851762513905,
                    0.2683593995902548,
                    0.2698670366666045,
                    0.2713746737429542,
                    0.27288231081930403,
                    0.2743899478956538,
                    0.2758975849720035,
                    0.2774052220483532,
                    0.278912859124703,
                    0.28042049620105275,
                    0.28192813327740246,
                    0.2834357703537522,
                    0.284943407430102,
                    0.28645104450645176,
                    0.28795868158280147,
                    0.2894663186591512,
                    0.29097395573550094,
                    0.29248159281185065,
                    0.2939892298882004,
                    0.2954968669645502,
                    0.2970045040408999,
                    0.2985121411172497,
                    0.30001977819359943,
                    0.3015274152699492
                  ],
                  "y": [
                    0.02,
                    0.020803432070163826,
                    0.021606864140327652,
                    0.022410296210491478,
                    0.023213728280655304,
                    0.02401716035081913,
                    0.024820592420982956,
                    0.02562402449114678,
                    0.026427456561310608,
                    0.027230888631474433,
                    0.02803432070163826,
                    0.028837752771802085,
                    0.02964118484196591,
                    0.03044461691212974,
                    0.031248048982293566,
                    0.03205148105245739,
                    0.03285491312262122,
                    0.033658345192785044,
                    0.03446177726294887,
                    0.035265209333112696,
                    0.03606864140327652,
                    0.03687207347344035,
                    0.037675505543604174,
                    0.038478937613768,
                    0.039282369683931825,
                    0.04008580175409565,
                    0.04088923382425948,
                    0.0416926658944233,
                    0.04249609796458713,
                    0.043299530034750955,
                    0.04410296210491478,
                    0.04490639417507861,
                    0.04570982624524243,
                    0.04651325831540626,
                    0.047316690385570084,
                    0.04812012245573391,
                    0.048923554525897736,
                    0.04972698659606156,
                    0.05053041866622539,
                    0.051333850736389214,
                    0.05213728280655304,
                    0.052940714876716866,
                    0.05374414694688069,
                    0.05454757901704452,
                    0.05535101108720834,
                    0.05615444315737217,
                    0.056957875227535995,
                    0.05776130729769982,
                    0.05856473936786365,
                    0.05936817143802747,
                    0.0601716035081913,
                    0.060975035578355125,
                    0.06177846764851895,
                    0.06258189971868278,
                    0.0633853317888466,
                    0.06418876385901043,
                    0.06499219592917425,
                    0.06579562799933808,
                    0.0665990600695019,
                    0.06740249213966573,
                    0.06820592420982956,
                    0.06900935627999338,
                    0.06981278835015721,
                    0.07061622042032104,
                    0.07141965249048486,
                    0.07222308456064869,
                    0.07302651663081251,
                    0.07382994870097634,
                    0.07463338077114018,
                    0.07543681284130399,
                    0.07624024491146782,
                    0.07704367698163164,
                    0.07784710905179547,
                    0.0786505411219593,
                    0.07945397319212312,
                    0.08025740526228695,
                    0.08106083733245077,
                    0.0818642694026146,
                    0.08266770147277842,
                    0.08347113354294225,
                    0.08427456561310608,
                    0.08507799768326992,
                    0.08588142975343374,
                    0.08668486182359757,
                    0.08748829389376138,
                    0.0882917259639252,
                    0.08909515803408903,
                    0.08989859010425287,
                    0.09070202217441668,
                    0.09150545424458052,
                    0.09230888631474435,
                    0.09311231838490816,
                    0.093915750455072,
                    0.09471918252523583,
                    0.09552261459539965,
                    0.09632604666556346,
                    0.09712947873572729,
                    0.09793291080589112,
                    0.09873634287605494,
                    0.09953977494621877,
                    0.10034320701638261,
                    0.10114663908654642,
                    0.10195007115671026,
                    0.10275350322687407,
                    0.10355693529703791,
                    0.10436036736720174,
                    0.10516379943736556,
                    0.10596723150752937,
                    0.10677066357769321,
                    0.10757409564785704,
                    0.10837752771802087,
                    0.10918095978818469,
                    0.10998439185834852,
                    0.11078782392851234,
                    0.11159125599867617,
                    0.11239468806884,
                    0.11319812013900382,
                    0.11400155220916763,
                    0.11480498427933146,
                    0.11560841634949529,
                    0.11641184841965913,
                    0.11721528048982294,
                    0.11801871255998676,
                    0.11882214463015059,
                    0.11962557670031443,
                    0.12042900877047825,
                    0.12123244084064207,
                    0.12203587291080589,
                    0.12283930498096973,
                    0.12364273705113354,
                    0.12444616912129737,
                    0.1252496011914612,
                    0.12605303326162504,
                    0.12685646533178885,
                    0.1276598974019527,
                    0.1284633294721165,
                    0.12926676154228034,
                    0.13007019361244415,
                    0.130873625682608,
                    0.13167705775277183,
                    0.13248048982293564,
                    0.13328392189309946,
                    0.13408735396326327,
                    0.13489078603342708,
                    0.13569421810359095,
                    0.13649765017375476,
                    0.13730108224391857,
                    0.1381045143140824,
                    0.13890794638424625,
                    0.13971137845441006,
                    0.14051481052457387,
                    0.14131824259473771,
                    0.14212167466490153,
                    0.14292510673506537,
                    0.1437285388052292,
                    0.14453197087539302,
                    0.14533540294555683,
                    0.14613883501572067,
                    0.14694226708588448,
                    0.14774569915604832,
                    0.14854913122621213,
                    0.14935256329637597,
                    0.1501559953665398,
                    0.15095942743670362,
                    0.15176285950686746,
                    0.15256629157703128,
                    0.15336972364719512,
                    0.1541731557173589,
                    0.15497658778752274,
                    0.15578001985768658,
                    0.1565834519278504,
                    0.15738688399801423,
                    0.15819031606817804,
                    0.15899374813834188,
                    0.15979718020850572,
                    0.1606006122786695,
                    0.16140404434883335,
                    0.1622074764189972,
                    0.16301090848916103,
                    0.1638143405593248,
                    0.16461777262948868,
                    0.16542120469965252,
                    0.1662246367698163,
                    0.16702806883998014,
                    0.16783150091014398,
                    0.1686349329803078,
                    0.16943836505047163,
                    0.17024179712063545,
                    0.17104522919079929,
                    0.1718486612609631,
                    0.1726520933311269,
                    0.17345552540129075,
                    0.17425895747145456,
                    0.17506238954161837,
                    0.1758658216117822,
                    0.17666925368194603,
                    0.17747268575210987,
                    0.1782761178222737,
                    0.17907954989243752,
                    0.17988298196260136,
                    0.1806864140327652
                  ]
                }
              ],
              "layout": {
                "showlegend": false,
                "template": {
                  "data": {
                    "bar": [
                      {
                        "error_x": {
                          "color": "#2a3f5f"
                        },
                        "error_y": {
                          "color": "#2a3f5f"
                        },
                        "marker": {
                          "line": {
                            "color": "white",
                            "width": 0.5
                          },
                          "pattern": {
                            "fillmode": "overlay",
                            "size": 10,
                            "solidity": 0.2
                          }
                        },
                        "type": "bar"
                      }
                    ],
                    "barpolar": [
                      {
                        "marker": {
                          "line": {
                            "color": "white",
                            "width": 0.5
                          },
                          "pattern": {
                            "fillmode": "overlay",
                            "size": 10,
                            "solidity": 0.2
                          }
                        },
                        "type": "barpolar"
                      }
                    ],
                    "carpet": [
                      {
                        "aaxis": {
                          "endlinecolor": "#2a3f5f",
                          "gridcolor": "#C8D4E3",
                          "linecolor": "#C8D4E3",
                          "minorgridcolor": "#C8D4E3",
                          "startlinecolor": "#2a3f5f"
                        },
                        "baxis": {
                          "endlinecolor": "#2a3f5f",
                          "gridcolor": "#C8D4E3",
                          "linecolor": "#C8D4E3",
                          "minorgridcolor": "#C8D4E3",
                          "startlinecolor": "#2a3f5f"
                        },
                        "type": "carpet"
                      }
                    ],
                    "choropleth": [
                      {
                        "colorbar": {
                          "outlinewidth": 0,
                          "ticks": ""
                        },
                        "type": "choropleth"
                      }
                    ],
                    "contour": [
                      {
                        "colorbar": {
                          "outlinewidth": 0,
                          "ticks": ""
                        },
                        "colorscale": [
                          [
                            0,
                            "#0d0887"
                          ],
                          [
                            0.1111111111111111,
                            "#46039f"
                          ],
                          [
                            0.2222222222222222,
                            "#7201a8"
                          ],
                          [
                            0.3333333333333333,
                            "#9c179e"
                          ],
                          [
                            0.4444444444444444,
                            "#bd3786"
                          ],
                          [
                            0.5555555555555556,
                            "#d8576b"
                          ],
                          [
                            0.6666666666666666,
                            "#ed7953"
                          ],
                          [
                            0.7777777777777778,
                            "#fb9f3a"
                          ],
                          [
                            0.8888888888888888,
                            "#fdca26"
                          ],
                          [
                            1,
                            "#f0f921"
                          ]
                        ],
                        "type": "contour"
                      }
                    ],
                    "contourcarpet": [
                      {
                        "colorbar": {
                          "outlinewidth": 0,
                          "ticks": ""
                        },
                        "type": "contourcarpet"
                      }
                    ],
                    "heatmap": [
                      {
                        "colorbar": {
                          "outlinewidth": 0,
                          "ticks": ""
                        },
                        "colorscale": [
                          [
                            0,
                            "#0d0887"
                          ],
                          [
                            0.1111111111111111,
                            "#46039f"
                          ],
                          [
                            0.2222222222222222,
                            "#7201a8"
                          ],
                          [
                            0.3333333333333333,
                            "#9c179e"
                          ],
                          [
                            0.4444444444444444,
                            "#bd3786"
                          ],
                          [
                            0.5555555555555556,
                            "#d8576b"
                          ],
                          [
                            0.6666666666666666,
                            "#ed7953"
                          ],
                          [
                            0.7777777777777778,
                            "#fb9f3a"
                          ],
                          [
                            0.8888888888888888,
                            "#fdca26"
                          ],
                          [
                            1,
                            "#f0f921"
                          ]
                        ],
                        "type": "heatmap"
                      }
                    ],
                    "heatmapgl": [
                      {
                        "colorbar": {
                          "outlinewidth": 0,
                          "ticks": ""
                        },
                        "colorscale": [
                          [
                            0,
                            "#0d0887"
                          ],
                          [
                            0.1111111111111111,
                            "#46039f"
                          ],
                          [
                            0.2222222222222222,
                            "#7201a8"
                          ],
                          [
                            0.3333333333333333,
                            "#9c179e"
                          ],
                          [
                            0.4444444444444444,
                            "#bd3786"
                          ],
                          [
                            0.5555555555555556,
                            "#d8576b"
                          ],
                          [
                            0.6666666666666666,
                            "#ed7953"
                          ],
                          [
                            0.7777777777777778,
                            "#fb9f3a"
                          ],
                          [
                            0.8888888888888888,
                            "#fdca26"
                          ],
                          [
                            1,
                            "#f0f921"
                          ]
                        ],
                        "type": "heatmapgl"
                      }
                    ],
                    "histogram": [
                      {
                        "marker": {
                          "pattern": {
                            "fillmode": "overlay",
                            "size": 10,
                            "solidity": 0.2
                          }
                        },
                        "type": "histogram"
                      }
                    ],
                    "histogram2d": [
                      {
                        "colorbar": {
                          "outlinewidth": 0,
                          "ticks": ""
                        },
                        "colorscale": [
                          [
                            0,
                            "#0d0887"
                          ],
                          [
                            0.1111111111111111,
                            "#46039f"
                          ],
                          [
                            0.2222222222222222,
                            "#7201a8"
                          ],
                          [
                            0.3333333333333333,
                            "#9c179e"
                          ],
                          [
                            0.4444444444444444,
                            "#bd3786"
                          ],
                          [
                            0.5555555555555556,
                            "#d8576b"
                          ],
                          [
                            0.6666666666666666,
                            "#ed7953"
                          ],
                          [
                            0.7777777777777778,
                            "#fb9f3a"
                          ],
                          [
                            0.8888888888888888,
                            "#fdca26"
                          ],
                          [
                            1,
                            "#f0f921"
                          ]
                        ],
                        "type": "histogram2d"
                      }
                    ],
                    "histogram2dcontour": [
                      {
                        "colorbar": {
                          "outlinewidth": 0,
                          "ticks": ""
                        },
                        "colorscale": [
                          [
                            0,
                            "#0d0887"
                          ],
                          [
                            0.1111111111111111,
                            "#46039f"
                          ],
                          [
                            0.2222222222222222,
                            "#7201a8"
                          ],
                          [
                            0.3333333333333333,
                            "#9c179e"
                          ],
                          [
                            0.4444444444444444,
                            "#bd3786"
                          ],
                          [
                            0.5555555555555556,
                            "#d8576b"
                          ],
                          [
                            0.6666666666666666,
                            "#ed7953"
                          ],
                          [
                            0.7777777777777778,
                            "#fb9f3a"
                          ],
                          [
                            0.8888888888888888,
                            "#fdca26"
                          ],
                          [
                            1,
                            "#f0f921"
                          ]
                        ],
                        "type": "histogram2dcontour"
                      }
                    ],
                    "mesh3d": [
                      {
                        "colorbar": {
                          "outlinewidth": 0,
                          "ticks": ""
                        },
                        "type": "mesh3d"
                      }
                    ],
                    "parcoords": [
                      {
                        "line": {
                          "colorbar": {
                            "outlinewidth": 0,
                            "ticks": ""
                          }
                        },
                        "type": "parcoords"
                      }
                    ],
                    "pie": [
                      {
                        "automargin": true,
                        "type": "pie"
                      }
                    ],
                    "scatter": [
                      {
                        "fillpattern": {
                          "fillmode": "overlay",
                          "size": 10,
                          "solidity": 0.2
                        },
                        "type": "scatter"
                      }
                    ],
                    "scatter3d": [
                      {
                        "line": {
                          "colorbar": {
                            "outlinewidth": 0,
                            "ticks": ""
                          }
                        },
                        "marker": {
                          "colorbar": {
                            "outlinewidth": 0,
                            "ticks": ""
                          }
                        },
                        "type": "scatter3d"
                      }
                    ],
                    "scattercarpet": [
                      {
                        "marker": {
                          "colorbar": {
                            "outlinewidth": 0,
                            "ticks": ""
                          }
                        },
                        "type": "scattercarpet"
                      }
                    ],
                    "scattergeo": [
                      {
                        "marker": {
                          "colorbar": {
                            "outlinewidth": 0,
                            "ticks": ""
                          }
                        },
                        "type": "scattergeo"
                      }
                    ],
                    "scattergl": [
                      {
                        "marker": {
                          "colorbar": {
                            "outlinewidth": 0,
                            "ticks": ""
                          }
                        },
                        "type": "scattergl"
                      }
                    ],
                    "scattermapbox": [
                      {
                        "marker": {
                          "colorbar": {
                            "outlinewidth": 0,
                            "ticks": ""
                          }
                        },
                        "type": "scattermapbox"
                      }
                    ],
                    "scatterpolar": [
                      {
                        "marker": {
                          "colorbar": {
                            "outlinewidth": 0,
                            "ticks": ""
                          }
                        },
                        "type": "scatterpolar"
                      }
                    ],
                    "scatterpolargl": [
                      {
                        "marker": {
                          "colorbar": {
                            "outlinewidth": 0,
                            "ticks": ""
                          }
                        },
                        "type": "scatterpolargl"
                      }
                    ],
                    "scatterternary": [
                      {
                        "marker": {
                          "colorbar": {
                            "outlinewidth": 0,
                            "ticks": ""
                          }
                        },
                        "type": "scatterternary"
                      }
                    ],
                    "surface": [
                      {
                        "colorbar": {
                          "outlinewidth": 0,
                          "ticks": ""
                        },
                        "colorscale": [
                          [
                            0,
                            "#0d0887"
                          ],
                          [
                            0.1111111111111111,
                            "#46039f"
                          ],
                          [
                            0.2222222222222222,
                            "#7201a8"
                          ],
                          [
                            0.3333333333333333,
                            "#9c179e"
                          ],
                          [
                            0.4444444444444444,
                            "#bd3786"
                          ],
                          [
                            0.5555555555555556,
                            "#d8576b"
                          ],
                          [
                            0.6666666666666666,
                            "#ed7953"
                          ],
                          [
                            0.7777777777777778,
                            "#fb9f3a"
                          ],
                          [
                            0.8888888888888888,
                            "#fdca26"
                          ],
                          [
                            1,
                            "#f0f921"
                          ]
                        ],
                        "type": "surface"
                      }
                    ],
                    "table": [
                      {
                        "cells": {
                          "fill": {
                            "color": "#EBF0F8"
                          },
                          "line": {
                            "color": "white"
                          }
                        },
                        "header": {
                          "fill": {
                            "color": "#C8D4E3"
                          },
                          "line": {
                            "color": "white"
                          }
                        },
                        "type": "table"
                      }
                    ]
                  },
                  "layout": {
                    "annotationdefaults": {
                      "arrowcolor": "#2a3f5f",
                      "arrowhead": 0,
                      "arrowwidth": 1
                    },
                    "autotypenumbers": "strict",
                    "coloraxis": {
                      "colorbar": {
                        "outlinewidth": 0,
                        "ticks": ""
                      }
                    },
                    "colorscale": {
                      "diverging": [
                        [
                          0,
                          "#8e0152"
                        ],
                        [
                          0.1,
                          "#c51b7d"
                        ],
                        [
                          0.2,
                          "#de77ae"
                        ],
                        [
                          0.3,
                          "#f1b6da"
                        ],
                        [
                          0.4,
                          "#fde0ef"
                        ],
                        [
                          0.5,
                          "#f7f7f7"
                        ],
                        [
                          0.6,
                          "#e6f5d0"
                        ],
                        [
                          0.7,
                          "#b8e186"
                        ],
                        [
                          0.8,
                          "#7fbc41"
                        ],
                        [
                          0.9,
                          "#4d9221"
                        ],
                        [
                          1,
                          "#276419"
                        ]
                      ],
                      "sequential": [
                        [
                          0,
                          "#0d0887"
                        ],
                        [
                          0.1111111111111111,
                          "#46039f"
                        ],
                        [
                          0.2222222222222222,
                          "#7201a8"
                        ],
                        [
                          0.3333333333333333,
                          "#9c179e"
                        ],
                        [
                          0.4444444444444444,
                          "#bd3786"
                        ],
                        [
                          0.5555555555555556,
                          "#d8576b"
                        ],
                        [
                          0.6666666666666666,
                          "#ed7953"
                        ],
                        [
                          0.7777777777777778,
                          "#fb9f3a"
                        ],
                        [
                          0.8888888888888888,
                          "#fdca26"
                        ],
                        [
                          1,
                          "#f0f921"
                        ]
                      ],
                      "sequentialminus": [
                        [
                          0,
                          "#0d0887"
                        ],
                        [
                          0.1111111111111111,
                          "#46039f"
                        ],
                        [
                          0.2222222222222222,
                          "#7201a8"
                        ],
                        [
                          0.3333333333333333,
                          "#9c179e"
                        ],
                        [
                          0.4444444444444444,
                          "#bd3786"
                        ],
                        [
                          0.5555555555555556,
                          "#d8576b"
                        ],
                        [
                          0.6666666666666666,
                          "#ed7953"
                        ],
                        [
                          0.7777777777777778,
                          "#fb9f3a"
                        ],
                        [
                          0.8888888888888888,
                          "#fdca26"
                        ],
                        [
                          1,
                          "#f0f921"
                        ]
                      ]
                    },
                    "colorway": [
                      "#636efa",
                      "#EF553B",
                      "#00cc96",
                      "#ab63fa",
                      "#FFA15A",
                      "#19d3f3",
                      "#FF6692",
                      "#B6E880",
                      "#FF97FF",
                      "#FECB52"
                    ],
                    "font": {
                      "color": "#2a3f5f"
                    },
                    "geo": {
                      "bgcolor": "white",
                      "lakecolor": "white",
                      "landcolor": "white",
                      "showlakes": true,
                      "showland": true,
                      "subunitcolor": "#C8D4E3"
                    },
                    "hoverlabel": {
                      "align": "left"
                    },
                    "hovermode": "closest",
                    "mapbox": {
                      "style": "light"
                    },
                    "paper_bgcolor": "white",
                    "plot_bgcolor": "white",
                    "polar": {
                      "angularaxis": {
                        "gridcolor": "#EBF0F8",
                        "linecolor": "#EBF0F8",
                        "ticks": ""
                      },
                      "bgcolor": "white",
                      "radialaxis": {
                        "gridcolor": "#EBF0F8",
                        "linecolor": "#EBF0F8",
                        "ticks": ""
                      }
                    },
                    "scene": {
                      "xaxis": {
                        "backgroundcolor": "white",
                        "gridcolor": "#DFE8F3",
                        "gridwidth": 2,
                        "linecolor": "#EBF0F8",
                        "showbackground": true,
                        "ticks": "",
                        "zerolinecolor": "#EBF0F8"
                      },
                      "yaxis": {
                        "backgroundcolor": "white",
                        "gridcolor": "#DFE8F3",
                        "gridwidth": 2,
                        "linecolor": "#EBF0F8",
                        "showbackground": true,
                        "ticks": "",
                        "zerolinecolor": "#EBF0F8"
                      },
                      "zaxis": {
                        "backgroundcolor": "white",
                        "gridcolor": "#DFE8F3",
                        "gridwidth": 2,
                        "linecolor": "#EBF0F8",
                        "showbackground": true,
                        "ticks": "",
                        "zerolinecolor": "#EBF0F8"
                      }
                    },
                    "shapedefaults": {
                      "line": {
                        "color": "#2a3f5f"
                      }
                    },
                    "ternary": {
                      "aaxis": {
                        "gridcolor": "#DFE8F3",
                        "linecolor": "#A2B1C6",
                        "ticks": ""
                      },
                      "baxis": {
                        "gridcolor": "#DFE8F3",
                        "linecolor": "#A2B1C6",
                        "ticks": ""
                      },
                      "bgcolor": "white",
                      "caxis": {
                        "gridcolor": "#DFE8F3",
                        "linecolor": "#A2B1C6",
                        "ticks": ""
                      }
                    },
                    "title": {
                      "x": 0.05
                    },
                    "xaxis": {
                      "automargin": true,
                      "gridcolor": "#EBF0F8",
                      "linecolor": "#EBF0F8",
                      "ticks": "",
                      "title": {
                        "standoff": 15
                      },
                      "zerolinecolor": "#EBF0F8",
                      "zerolinewidth": 2
                    },
                    "yaxis": {
                      "automargin": true,
                      "gridcolor": "#EBF0F8",
                      "linecolor": "#EBF0F8",
                      "ticks": "",
                      "title": {
                        "standoff": 15
                      },
                      "zerolinecolor": "#EBF0F8",
                      "zerolinewidth": 2
                    }
                  }
                },
                "xaxis": {
                  "rangemode": "tozero",
                  "tickformat": ".0%",
                  "title": {
                    "text": "Standard Deviation"
                  }
                },
                "yaxis": {
                  "rangemode": "tozero",
                  "tickformat": ".0%",
                  "title": {
                    "text": "Expected Return"
                  }
                }
              }
            }
          },
          "metadata": {},
          "output_type": "display_data"
        }
      ],
      "source": [
        "import plotly.graph_objects as go\n",
        "import plotly.io as pio\n",
        "plotly_template = pio.templates[\"simple_white\"]\n",
        "colors = plotly_template.layout.colorway\n",
        "\n",
        "# frontier of risky assets\n",
        "string = 'asset 1: %{customdata[0]:.0%}<br>'\n",
        "string += 'asset 2: %{customdata[1]:.0%}<br>'\n",
        "string += 'asset 3: %{customdata[2]:.0%}<br>'\n",
        "string += '<extra></extra>'\n",
        "trace1 = go.Scatter(\n",
        "    x=sds,\n",
        "    y=mns,\n",
        "    mode=\"lines\",\n",
        "    customdata=ports,\n",
        "    hovertemplate=string\n",
        ")\n",
        "\n",
        "# three assets\n",
        "trace2 = go.Scatter(\n",
        "    x=sd,\n",
        "    y=mn,\n",
        "    text=[\"Asset 1\", \"Asset 2\", \"Asset 3\"],\n",
        "    hovertemplate=\"%{text}<extra></extra>\",\n",
        "    mode=\"markers\",\n",
        "    marker=dict(size=15)\n",
        ")\n",
        "\n",
        "# tangency portfolio\n",
        "string = \"tangency portfolio<br>\"\n",
        "string += 'asset 1: %{customdata[0]:.0%}<br>'\n",
        "string += 'asset 2: %{customdata[1]:.0%}<br>'\n",
        "string += 'asset 3: %{customdata[2]:.0%}<br>'\n",
        "string += '<extra></extra>'\n",
        "trace3 = go.Scatter(\n",
        "    x=[tang_sd],\n",
        "    y=[tang_mn],\n",
        "    customdata=tang.reshape(1, -1),\n",
        "    hovertemplate=string,\n",
        "    mode=\"markers\",\n",
        "    marker=dict(size=15)\n",
        ")\n",
        "\n",
        "# frontier including risk-free asset\n",
        "ports = np.arange(0, 2.01, 0.01).reshape(-1, 1) * tang.reshape(1, -1)\n",
        "x = np.sqrt(np.diag(ports @ cov @ ports.T))\n",
        "y = rf + ports @ (mn-rf)\n",
        "string = 'asset 1: %{customdata[0]:.0%}<br>'\n",
        "string += 'asset 2: %{customdata[1]:.0%}<br>'\n",
        "string += 'asset 3: %{customdata[2]:.0%}<br>'\n",
        "string += '<extra></extra>'\n",
        "trace4 = go.Scatter(\n",
        "    x=x,\n",
        "    y=y,\n",
        "    mode=\"lines\",\n",
        "    customdata=ports,\n",
        "    hovertemplate=string,\n",
        "    line=dict(color=colors[5])\n",
        ")\n",
        "\n",
        "fig = go.Figure()\n",
        "for trace in (trace1, trace2, trace3, trace4):\n",
        "    fig.add_trace(trace)\n",
        "\n",
        "fig.update_layout(\n",
        "    xaxis_title=\"Standard Deviation\",\n",
        "    yaxis_title=\"Expected Return\",\n",
        "    xaxis_rangemode=\"tozero\",\n",
        "    yaxis_rangemode=\"tozero\",\n",
        "    xaxis_tickformat=\".0%\",\n",
        "    yaxis_tickformat=\".0%\",\n",
        "    template=\"plotly_white\",\n",
        "    showlegend=False\n",
        ")\n",
        "fig.show()"
      ]
    }
  ],
  "metadata": {
    "colab": {
      "provenance": []
    },
    "kernelspec": {
      "display_name": "Python 3",
      "language": "python",
      "name": "python3"
    },
    "language_info": {
      "codemirror_mode": {
        "name": "ipython",
        "version": 3
      },
      "file_extension": ".py",
      "mimetype": "text/x-python",
      "name": "python",
      "nbconvert_exporter": "python",
      "pygments_lexer": "ipython3",
      "version": "3.13.0"
    },
    "orig_nbformat": 4
  },
  "nbformat": 4,
  "nbformat_minor": 0
}
