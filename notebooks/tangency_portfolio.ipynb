{
  "cells": [
    {
      "cell_type": "markdown",
      "metadata": {
        "id": "hXxoLbl4pgdF"
      },
      "source": [
        "---\n",
        "\n",
        "Created for [learn-investments.rice-business.org](https://learn-investments.rice-business.org)\n",
        "    \n",
        "By [Kerry Back](https://kerryback.com) and [Kevin Crotty](https://kevin-crotty.com)\n",
        "    \n",
        "Jones Graduate School of Business, Rice University\n",
        "\n",
        "---\n"
      ]
    },
    {
      "cell_type": "markdown",
      "metadata": {
        "id": "mE0HBVEYpgdI"
      },
      "source": [
        "# EXAMPLE DATA"
      ]
    },
    {
      "cell_type": "code",
      "execution_count": 49,
      "metadata": {
        "id": "aofdy9WZpgdJ"
      },
      "outputs": [],
      "source": [
        "# means\n",
        "mn1 = 0.08\n",
        "mn2 = 0.12\n",
        "mn3 = 0.15\n",
        "\n",
        "# std devs\n",
        "sd1 = 0.15\n",
        "sd2 = 0.25\n",
        "sd3 = 0.35\n",
        "\n",
        "# correlations\n",
        "c12 = 0.15\n",
        "c13 = 0.60\n",
        "c23 = 0.30\n",
        "\n",
        "# risk-free rate\n",
        "rf = 0.02"
      ]
    },
    {
      "cell_type": "markdown",
      "metadata": {
        "id": "QlFPw_oYpgdK"
      },
      "source": [
        "# CREATE ARRAYS"
      ]
    },
    {
      "cell_type": "code",
      "execution_count": 50,
      "metadata": {
        "id": "Q3eA_pOqpgdL"
      },
      "outputs": [],
      "source": [
        "import numpy as np\n",
        "\n",
        "mn = np.array([mn1, mn2, mn3])\n",
        "sd = np.array([sd1, sd2, sd3])\n",
        "\n",
        "corr = np.identity(3)\n",
        "corr[0, 1] = corr[1, 0] = c12\n",
        "corr[0, 2] = corr[2, 0] = c13\n",
        "corr[1, 2] = corr[2, 1] = c23\n",
        "\n",
        "cov = np.diag(sd) @ corr @ np.diag(sd)"
      ]
    },
    {
      "cell_type": "markdown",
      "metadata": {
        "id": "4NECAJHOpgdM"
      },
      "source": [
        "# CHECK CORRELATIONS"
      ]
    },
    {
      "cell_type": "code",
      "execution_count": 51,
      "metadata": {
        "id": "aNPEMlnQpgdN",
        "outputId": "7bad8285-3ca2-4ba2-b6d5-73369258fb7d"
      },
      "outputs": [
        {
          "name": "stdout",
          "output_type": "stream",
          "text": [
            "correlations are acceptable\n"
          ]
        }
      ],
      "source": [
        "if np.all(np.linalg.eigvals(cov) > 0):\n",
        "    print(\"correlations are acceptable\")\n",
        "else:\n",
        "    print(\"correlations are inconsistent\")"
      ]
    },
    {
      "cell_type": "markdown",
      "metadata": {
        "id": "lEpJyGKcpgdP"
      },
      "source": [
        "# CALCULATE FRONTIER OF RISKY ASSETS"
      ]
    },
    {
      "cell_type": "code",
      "execution_count": 52,
      "metadata": {
        "id": "vxc1rb9QpgdQ"
      },
      "outputs": [],
      "source": [
        "# global minimum variance portfolio\n",
        "w = np.linalg.solve(cov, np.ones(3))\n",
        "gmv = w / np.sum(w)\n",
        "gmv_mn = gmv @ mn\n",
        "gmv_sd = np.sqrt(gmv @ cov @ gmv)\n",
        "\n",
        "# second frontier portfolio\n",
        "w = np.linalg.solve(cov, mn)\n",
        "second_port = w / np.sum(w)\n",
        "second_mn = second_port @ mn\n",
        "second_sd = np.sqrt(second_port @ cov @ second_port)\n",
        "\n",
        "# means to display\n",
        "min_mn = -0.1\n",
        "max_mn = 1.5*np.max(mn)\n",
        "mns = np.linspace(min_mn, max_mn, 101)\n",
        "\n",
        "# portfolio weights and risks\n",
        "gmv_wt = (mns - second_mn) / (gmv_mn - second_mn)\n",
        "second_wt = 1 - gmv_wt\n",
        "ports = (\n",
        "    gmv_wt.reshape(-1, 1) * gmv.reshape(1, -1) +\n",
        "    second_wt.reshape(-1, 1) * second_port.reshape(1, -1)\n",
        ")\n",
        "vr = np.diag(ports @ cov @ ports.T)\n",
        "sds = np.sqrt(vr)\n"
      ]
    },
    {
      "cell_type": "markdown",
      "metadata": {
        "id": "6dQNFMNepgdQ"
      },
      "source": [
        "# CALCULATE TANGENCY PORTFOLIO"
      ]
    },
    {
      "cell_type": "code",
      "execution_count": 53,
      "metadata": {
        "id": "HBl7-UGhpgdR"
      },
      "outputs": [],
      "source": [
        "if gmv_mn < rf:\n",
        "    print(\n",
        "        \"\"\"\n",
        "        Figure will be incorrect.  For these parameter values, all\n",
        "        efficient portfolios involve shorting risky assets and investing\n",
        "        more than 100% at the savings rate.\n",
        "        \"\"\"\n",
        "    )"
      ]
    },
    {
      "cell_type": "code",
      "execution_count": 54,
      "metadata": {
        "id": "FLLsdy1LpgdR"
      },
      "outputs": [],
      "source": [
        "tang = np.linalg.solve(cov, mn-rf)\n",
        "tang = tang / np.sum(tang)\n",
        "tang_mn = tang @ mn\n",
        "tang_sd = np.sqrt(tang @ cov @ tang)"
      ]
    },
    {
      "cell_type": "code",
      "execution_count": 55,
      "metadata": {},
      "outputs": [
        {
          "data": {
            "image/png": "[encoded data removed]",
            "text/plain": [
              "<Figure size 500x300 with 1 Axes>"
            ]
          },
          "metadata": {},
          "output_type": "display_data"
        }
      ],
      "source": [
        "import matplotlib.pyplot as plt\n",
        "import seaborn as sns \n",
        "sns.set_style(\"whitegrid\", {'axes.facecolor': '#f4f1e5'})\n",
        "colors = sns.color_palette()\n",
        "# Set the figure size to (5, 3) inches\n",
        "plt.figure(figsize=(5, 3))\n",
        "\n",
        "plt.plot(sds, mns, lw=3)\n",
        "\n",
        "# Fill the area to the right of the efficient frontier curve\n",
        "plt.fill_betweenx(mns, sds, max(sds)*1.2, alpha=0.5, color=colors[2])\n",
        "\n",
        "# Set font sizes to 14pt for all labels\n",
        "\n",
        "\n",
        "# Add labels and title\n",
        "plt.xlabel('')\n",
        "plt.ylabel('')\n",
        "\n",
        "# Remove tick labels\n",
        "plt.tick_params(axis='both', which='both', labelbottom=False, labelleft=False)\n",
        "\n",
        "# Set x-axis limit to ensure the filled area is visible\n",
        "plt.xlim(0, 0.4)\n",
        "plt.ylim(-0.05, 0.2)\n",
        "\n",
        "plt.scatter([tang_sd], [tang_mn], s=200, color=colors[3])\n",
        "plt.plot([0, 0.4], [rf, rf+0.4*(tang_mn-rf)/tang_sd], color=colors[1], lw=3)\n",
        "plt.subplots_adjust(left=0, right=1, top=1, bottom=0)\n",
        "plt.savefig(\"../posts/07-mean-variance/tangency.png\")\n",
        "\n",
        "\n"
      ]
    },
    {
      "cell_type": "markdown",
      "metadata": {
        "id": "hkKtrhhUpgdR"
      },
      "source": [
        "# FIGURE"
      ]
    },
    {
      "cell_type": "code",
      "execution_count": 65,
      "metadata": {
        "id": "WrRW2rmxpgdS",
        "outputId": "d8cad384-ac56-454b-8fb1-21fd0d004d7f"
      },
      "outputs": [
        {
          "data": {
            "application/vnd.plotly.v1+json": {
              "config": {
                "plotlyServerURL": "https://plot.ly"
              },
              "data": [
                {
                  "customdata": [
                    [
                      0,
                      0,
                      0
                    ],
                    [
                      0.005509184180043024,
                      0.0036975012411054114,
                      0.0007933145788515646
                    ],
                    [
                      0.011018368360086048,
                      0.007395002482210823,
                      0.0015866291577031292
                    ],
                    [
                      0.01652755254012907,
                      0.011092503723316233,
                      0.002379943736554694
                    ],
                    [
                      0.022036736720172097,
                      0.014790004964421646,
                      0.0031732583154062584
                    ],
                    [
                      0.027545920900215123,
                      0.018487506205527058,
                      0.003966572894257823
                    ],
                    [
                      0.03305510508025814,
                      0.022185007446632467,
                      0.004759887473109388
                    ],
                    [
                      0.03856428926030117,
                      0.025882508687737883,
                      0.005553202051960952
                    ],
                    [
                      0.044073473440344194,
                      0.02958000992884329,
                      0.006346516630812517
                    ],
                    [
                      0.049582657620387216,
                      0.033277511169948704,
                      0.0071398312096640805
                    ],
                    [
                      0.055091841800430245,
                      0.036975012411054116,
                      0.007933145788515646
                    ],
                    [
                      0.06060102598047327,
                      0.04067251365215953,
                      0.00872646036736721
                    ],
                    [
                      0.06611021016051628,
                      0.044370014893264934,
                      0.009519774946218775
                    ],
                    [
                      0.07161939434055932,
                      0.04806751613437035,
                      0.010313089525070339
                    ],
                    [
                      0.07712857852060234,
                      0.051765017375475765,
                      0.011106404103921904
                    ],
                    [
                      0.08263776270064536,
                      0.05546251861658117,
                      0.011899718682773468
                    ],
                    [
                      0.08814694688068839,
                      0.05916001985768658,
                      0.012693033261625034
                    ],
                    [
                      0.09365613106073142,
                      0.062857521098792,
                      0.013486347840476599
                    ],
                    [
                      0.09916531524077443,
                      0.06655502233989741,
                      0.014279662419328161
                    ],
                    [
                      0.10467449942081745,
                      0.07025252358100281,
                      0.015072976998179726
                    ],
                    [
                      0.11018368360086049,
                      0.07395002482210823,
                      0.015866291577031292
                    ],
                    [
                      0.1156928677809035,
                      0.07764752606321364,
                      0.016659606155882856
                    ],
                    [
                      0.12120205196094654,
                      0.08134502730431906,
                      0.01745292073473442
                    ],
                    [
                      0.12671123614098956,
                      0.08504252854542446,
                      0.018246235313585987
                    ],
                    [
                      0.13222042032103257,
                      0.08874002978652987,
                      0.01903954989243755
                    ],
                    [
                      0.1377296045010756,
                      0.09243753102763529,
                      0.019832864471289114
                    ],
                    [
                      0.14323878868111864,
                      0.0961350322687407,
                      0.020626179050140678
                    ],
                    [
                      0.14874797286116165,
                      0.09983253350984611,
                      0.021419493628992245
                    ],
                    [
                      0.15425715704120468,
                      0.10353003475095153,
                      0.02221280820784381
                    ],
                    [
                      0.1597663412212477,
                      0.10722753599205692,
                      0.023006122786695372
                    ],
                    [
                      0.16527552540129073,
                      0.11092503723316234,
                      0.023799437365546936
                    ],
                    [
                      0.17078470958133374,
                      0.11462253847426776,
                      0.0245927519443985
                    ],
                    [
                      0.17629389376137677,
                      0.11832003971537317,
                      0.025386066523250067
                    ],
                    [
                      0.1818030779414198,
                      0.12201754095647858,
                      0.02617938110210163
                    ],
                    [
                      0.18731226212146285,
                      0.125715042197584,
                      0.026972695680953198
                    ],
                    [
                      0.19282144630150586,
                      0.1294125434386894,
                      0.02776601025980476
                    ],
                    [
                      0.19833063048154886,
                      0.13311004467979481,
                      0.028559324838656322
                    ],
                    [
                      0.2038398146615919,
                      0.13680754592090022,
                      0.02935263941750789
                    ],
                    [
                      0.2093489988416349,
                      0.14050504716200563,
                      0.030145953996359453
                    ],
                    [
                      0.21485818302167795,
                      0.14420254840311106,
                      0.03093926857521102
                    ],
                    [
                      0.22036736720172098,
                      0.14790004964421646,
                      0.031732583154062584
                    ],
                    [
                      0.22587655138176402,
                      0.15159755088532187,
                      0.03252589773291415
                    ],
                    [
                      0.231385735561807,
                      0.15529505212642727,
                      0.03331921231176571
                    ],
                    [
                      0.23689491974185004,
                      0.15899255336753268,
                      0.03411252689061728
                    ],
                    [
                      0.24240410392189307,
                      0.1626900546086381,
                      0.03490584146946884
                    ],
                    [
                      0.24791328810193608,
                      0.16638755584974352,
                      0.035699156048320406
                    ],
                    [
                      0.2534224722819791,
                      0.17008505709084892,
                      0.03649247062717197
                    ],
                    [
                      0.25893165646202215,
                      0.17378255833195436,
                      0.03728578520602353
                    ],
                    [
                      0.26444084064206513,
                      0.17748005957305973,
                      0.0380790997848751
                    ],
                    [
                      0.26995002482210817,
                      0.18117756081416517,
                      0.03887241436372666
                    ],
                    [
                      0.2754592090021512,
                      0.18487506205527057,
                      0.03966572894257823
                    ],
                    [
                      0.28096839318219424,
                      0.18857256329637598,
                      0.040459043521429795
                    ],
                    [
                      0.2864775773622373,
                      0.1922700645374814,
                      0.041252358100281356
                    ],
                    [
                      0.2919867615422803,
                      0.19596756577858682,
                      0.04204567267913292
                    ],
                    [
                      0.2974959457223233,
                      0.19966506701969222,
                      0.04283898725798449
                    ],
                    [
                      0.30300512990236633,
                      0.20336256826079765,
                      0.04363230183683606
                    ],
                    [
                      0.30851431408240937,
                      0.20706006950190306,
                      0.04442561641568762
                    ],
                    [
                      0.3140234982624524,
                      0.21075757074300847,
                      0.045218930994539185
                    ],
                    [
                      0.3195326824424954,
                      0.21445507198411384,
                      0.046012245573390745
                    ],
                    [
                      0.3250418666225384,
                      0.21815257322521928,
                      0.046805560152242305
                    ],
                    [
                      0.33055105080258146,
                      0.22185007446632468,
                      0.04759887473109387
                    ],
                    [
                      0.33606023498262444,
                      0.2255475757074301,
                      0.04839218930994544
                    ],
                    [
                      0.3415694191626675,
                      0.22924507694853552,
                      0.049185503888797
                    ],
                    [
                      0.3470786033427105,
                      0.23294257818964093,
                      0.04997881846764857
                    ],
                    [
                      0.35258778752275355,
                      0.23664007943074633,
                      0.050772133046500134
                    ],
                    [
                      0.3580969717027966,
                      0.24033758067185176,
                      0.0515654476253517
                    ],
                    [
                      0.3636061558828396,
                      0.24403508191295717,
                      0.05235876220420326
                    ],
                    [
                      0.36911534006288266,
                      0.24773258315406257,
                      0.05315207678305483
                    ],
                    [
                      0.3746245242429257,
                      0.251430084395168,
                      0.053945391361906396
                    ],
                    [
                      0.3801337084229687,
                      0.2551275856362734,
                      0.054738705940757956
                    ],
                    [
                      0.3856428926030117,
                      0.2588250868773788,
                      0.05553202051960952
                    ],
                    [
                      0.3911520767830547,
                      0.2625225881184842,
                      0.056325335098461084
                    ],
                    [
                      0.39666126096309773,
                      0.26622008935958963,
                      0.057118649677312644
                    ],
                    [
                      0.40217044514314076,
                      0.26991759060069503,
                      0.05791196425616421
                    ],
                    [
                      0.4076796293231838,
                      0.27361509184180044,
                      0.05870527883501578
                    ],
                    [
                      0.4131888135032268,
                      0.27731259308290584,
                      0.059498593413867346
                    ],
                    [
                      0.4186979976832698,
                      0.28101009432401125,
                      0.060291907992718906
                    ],
                    [
                      0.42420718186331285,
                      0.2847075955651167,
                      0.06108522257157047
                    ],
                    [
                      0.4297163660433559,
                      0.2884050968062221,
                      0.06187853715042204
                    ],
                    [
                      0.4352255502233989,
                      0.2921025980473275,
                      0.0626718517292736
                    ],
                    [
                      0.44073473440344196,
                      0.2958000992884329,
                      0.06346516630812517
                    ],
                    [
                      0.446243918583485,
                      0.29949760052953833,
                      0.06425848088697673
                    ],
                    [
                      0.45175310276352804,
                      0.30319510177064374,
                      0.0650517954658283
                    ],
                    [
                      0.457262286943571,
                      0.3068926030117492,
                      0.06584511004467987
                    ],
                    [
                      0.462771471123614,
                      0.31059010425285455,
                      0.06663842462353142
                    ],
                    [
                      0.46828065530365703,
                      0.31428760549395995,
                      0.06743173920238299
                    ],
                    [
                      0.47378983948370007,
                      0.31798510673506536,
                      0.06822505378123456
                    ],
                    [
                      0.4792990236637431,
                      0.3216826079761708,
                      0.06901836836008611
                    ],
                    [
                      0.48480820784378614,
                      0.3253801092172762,
                      0.06981168293893768
                    ],
                    [
                      0.4903173920238292,
                      0.32907761045838163,
                      0.07060499751778924
                    ],
                    [
                      0.49582657620387216,
                      0.33277511169948704,
                      0.07139831209664081
                    ],
                    [
                      0.5013357603839153,
                      0.33647261294059244,
                      0.07219162667549238
                    ],
                    [
                      0.5068449445639582,
                      0.34017011418169785,
                      0.07298494125434395
                    ],
                    [
                      0.5123541287440013,
                      0.3438676154228033,
                      0.07377825583319551
                    ],
                    [
                      0.5178633129240443,
                      0.3475651166639087,
                      0.07457157041204707
                    ],
                    [
                      0.5233724971040873,
                      0.3512626179050141,
                      0.07536488499089863
                    ],
                    [
                      0.5288816812841303,
                      0.35496011914611947,
                      0.0761581995697502
                    ],
                    [
                      0.5343908654641734,
                      0.3586576203872249,
                      0.07695151414860175
                    ],
                    [
                      0.5399000496442163,
                      0.36235512162833033,
                      0.07774482872745332
                    ],
                    [
                      0.5454092338242594,
                      0.36605262286943574,
                      0.07853814330630489
                    ],
                    [
                      0.5509184180043024,
                      0.36975012411054115,
                      0.07933145788515646
                    ],
                    [
                      0.5564276021843454,
                      0.37344762535164655,
                      0.08012477246400802
                    ],
                    [
                      0.5619367863643885,
                      0.37714512659275196,
                      0.08091808704285959
                    ],
                    [
                      0.5674459705444315,
                      0.3808426278338574,
                      0.08171140162171116
                    ],
                    [
                      0.5729551547244746,
                      0.3845401290749628,
                      0.08250471620056271
                    ],
                    [
                      0.5784643389045175,
                      0.3882376303160682,
                      0.08329803077941428
                    ],
                    [
                      0.5839735230845606,
                      0.39193513155717363,
                      0.08409134535826585
                    ],
                    [
                      0.5894827072646036,
                      0.39563263279827904,
                      0.08488465993711741
                    ],
                    [
                      0.5949918914446466,
                      0.39933013403938444,
                      0.08567797451596898
                    ],
                    [
                      0.6005010756246897,
                      0.4030276352804899,
                      0.08647128909482055
                    ],
                    [
                      0.6060102598047327,
                      0.4067251365215953,
                      0.08726460367367211
                    ],
                    [
                      0.6115194439847758,
                      0.4104226377627007,
                      0.08805791825252367
                    ],
                    [
                      0.6170286281648187,
                      0.4141201390038061,
                      0.08885123283137523
                    ],
                    [
                      0.6225378123448618,
                      0.4178176402449115,
                      0.0896445474102268
                    ],
                    [
                      0.6280469965249048,
                      0.42151514148601693,
                      0.09043786198907837
                    ],
                    [
                      0.6335561807049479,
                      0.4252126427271224,
                      0.09123117656792994
                    ],
                    [
                      0.6390653648849908,
                      0.4289101439682277,
                      0.09202449114678149
                    ],
                    [
                      0.6445745490650338,
                      0.4326076452093331,
                      0.09281780572563304
                    ],
                    [
                      0.6500837332450768,
                      0.43630514645043855,
                      0.09361112030448461
                    ],
                    [
                      0.6555929174251198,
                      0.44000264769154396,
                      0.09440443488333618
                    ],
                    [
                      0.6611021016051629,
                      0.44370014893264936,
                      0.09519774946218774
                    ],
                    [
                      0.6666112857852059,
                      0.44739765017375477,
                      0.09599106404103931
                    ],
                    [
                      0.6721204699652489,
                      0.4510951514148602,
                      0.09678437861989088
                    ],
                    [
                      0.677629654145292,
                      0.4547926526559656,
                      0.09757769319874245
                    ],
                    [
                      0.683138838325335,
                      0.45849015389707104,
                      0.098371007777594
                    ],
                    [
                      0.688648022505378,
                      0.46218765513817645,
                      0.09916432235644557
                    ],
                    [
                      0.694157206685421,
                      0.46588515637928185,
                      0.09995763693529713
                    ],
                    [
                      0.6996663908654641,
                      0.46958265762038726,
                      0.1007509515141487
                    ],
                    [
                      0.7051755750455071,
                      0.47328015886149266,
                      0.10154426609300027
                    ],
                    [
                      0.7106847592255501,
                      0.47697766010259807,
                      0.10233758067185184
                    ],
                    [
                      0.7161939434055932,
                      0.4806751613437035,
                      0.1031308952507034
                    ],
                    [
                      0.7217031275856362,
                      0.48437266258480893,
                      0.10392420982955496
                    ],
                    [
                      0.7272123117656792,
                      0.48807016382591434,
                      0.10471752440840652
                    ],
                    [
                      0.7327214959457222,
                      0.49176766506701974,
                      0.10551083898725809
                    ],
                    [
                      0.7382306801257653,
                      0.49546516630812515,
                      0.10630415356610966
                    ],
                    [
                      0.7437398643058083,
                      0.49916266754923055,
                      0.10709746814496122
                    ],
                    [
                      0.7492490484858514,
                      0.502860168790336,
                      0.10789078272381279
                    ],
                    [
                      0.7547582326658944,
                      0.5065576700314414,
                      0.10868409730266436
                    ],
                    [
                      0.7602674168459373,
                      0.5102551712725468,
                      0.10947741188151591
                    ],
                    [
                      0.7657766010259804,
                      0.5139526725136523,
                      0.11027072646036748
                    ],
                    [
                      0.7712857852060234,
                      0.5176501737547576,
                      0.11106404103921905
                    ],
                    [
                      0.7767949693860664,
                      0.521347674995863,
                      0.1118573556180706
                    ],
                    [
                      0.7823041535661094,
                      0.5250451762369684,
                      0.11265067019692217
                    ],
                    [
                      0.7878133377461524,
                      0.5287426774780738,
                      0.11344398477577372
                    ],
                    [
                      0.7933225219261955,
                      0.5324401787191793,
                      0.11423729935462529
                    ],
                    [
                      0.7988317061062384,
                      0.5361376799602846,
                      0.11503061393347686
                    ],
                    [
                      0.8043408902862815,
                      0.5398351812013901,
                      0.11582392851232842
                    ],
                    [
                      0.8098500744663245,
                      0.5435326824424954,
                      0.11661724309117999
                    ],
                    [
                      0.8153592586463676,
                      0.5472301836836009,
                      0.11741055767003156
                    ],
                    [
                      0.8208684428264106,
                      0.5509276849247063,
                      0.11820387224888312
                    ],
                    [
                      0.8263776270064536,
                      0.5546251861658117,
                      0.11899718682773469
                    ],
                    [
                      0.8318868111864967,
                      0.5583226874069172,
                      0.11979050140658624
                    ],
                    [
                      0.8373959953665396,
                      0.5620201886480225,
                      0.12058381598543781
                    ],
                    [
                      0.8429051795465827,
                      0.565717689889128,
                      0.12137713056428938
                    ],
                    [
                      0.8484143637266257,
                      0.5694151911302334,
                      0.12217044514314095
                    ],
                    [
                      0.8539235479066688,
                      0.5731126923713388,
                      0.12296375972199251
                    ],
                    [
                      0.8594327320867118,
                      0.5768101936124442,
                      0.12375707430084408
                    ],
                    [
                      0.8649419162667549,
                      0.5805076948535496,
                      0.12455038887969565
                    ],
                    [
                      0.8704511004467979,
                      0.584205196094655,
                      0.1253437034585472
                    ],
                    [
                      0.8759602846268408,
                      0.5879026973357605,
                      0.12613701803739877
                    ],
                    [
                      0.8814694688068839,
                      0.5916001985768659,
                      0.12693033261625034
                    ],
                    [
                      0.8869786529869269,
                      0.5952976998179713,
                      0.1277236471951019
                    ],
                    [
                      0.89248783716697,
                      0.5989952010590767,
                      0.12851696177395347
                    ],
                    [
                      0.897997021347013,
                      0.6026927023001821,
                      0.12931027635280504
                    ],
                    [
                      0.9035062055270561,
                      0.6063902035412875,
                      0.1301035909316566
                    ],
                    [
                      0.909015389707099,
                      0.6100877047823929,
                      0.13089690551050817
                    ],
                    [
                      0.914524573887142,
                      0.6137852060234984,
                      0.13169022008935974
                    ],
                    [
                      0.920033758067185,
                      0.6174827072646036,
                      0.13248353466821128
                    ],
                    [
                      0.925542942247228,
                      0.6211802085057091,
                      0.13327684924706285
                    ],
                    [
                      0.9310521264272711,
                      0.6248777097468146,
                      0.1340701638259144
                    ],
                    [
                      0.9365613106073141,
                      0.6285752109879199,
                      0.13486347840476598
                    ],
                    [
                      0.9420704947873572,
                      0.6322727122290254,
                      0.13565679298361755
                    ],
                    [
                      0.9475796789674001,
                      0.6359702134701307,
                      0.13645010756246911
                    ],
                    [
                      0.9530888631474431,
                      0.6396677147112362,
                      0.13724342214132068
                    ],
                    [
                      0.9585980473274862,
                      0.6433652159523416,
                      0.13803673672017222
                    ],
                    [
                      0.9641072315075292,
                      0.647062717193447,
                      0.1388300512990238
                    ],
                    [
                      0.9696164156875723,
                      0.6507602184345525,
                      0.13962336587787536
                    ],
                    [
                      0.9751255998676153,
                      0.6544577196756578,
                      0.14041668045672692
                    ],
                    [
                      0.9806347840476584,
                      0.6581552209167633,
                      0.1412099950355785
                    ],
                    [
                      0.9861439682277013,
                      0.6618527221578686,
                      0.14200330961443006
                    ],
                    [
                      0.9916531524077443,
                      0.6655502233989741,
                      0.14279662419328162
                    ],
                    [
                      0.9971623365877874,
                      0.6692477246400795,
                      0.1435899387721332
                    ],
                    [
                      1.0026715207678305,
                      0.6729452258811849,
                      0.14438325335098476
                    ],
                    [
                      1.0081807049478735,
                      0.6766427271222903,
                      0.14517656792983633
                    ],
                    [
                      1.0136898891279165,
                      0.6803402283633957,
                      0.1459698825086879
                    ],
                    [
                      1.0191990733079594,
                      0.6840377296045012,
                      0.14676319708753946
                    ],
                    [
                      1.0247082574880026,
                      0.6877352308456066,
                      0.14755651166639103
                    ],
                    [
                      1.0302174416680456,
                      0.691432732086712,
                      0.1483498262452426
                    ],
                    [
                      1.0357266258480886,
                      0.6951302333278174,
                      0.14914314082409413
                    ],
                    [
                      1.0412358100281316,
                      0.6988277345689228,
                      0.1499364554029457
                    ],
                    [
                      1.0467449942081746,
                      0.7025252358100282,
                      0.15072976998179727
                    ],
                    [
                      1.0522541783882178,
                      0.7062227370511336,
                      0.15152308456064884
                    ],
                    [
                      1.0577633625682605,
                      0.7099202382922389,
                      0.1523163991395004
                    ],
                    [
                      1.0632725467483035,
                      0.7136177395333444,
                      0.15310971371835194
                    ],
                    [
                      1.0687817309283467,
                      0.7173152407744497,
                      0.1539030282972035
                    ],
                    [
                      1.0742909151083897,
                      0.7210127420155552,
                      0.15469634287605508
                    ],
                    [
                      1.0798000992884327,
                      0.7247102432566607,
                      0.15548965745490664
                    ],
                    [
                      1.0853092834684757,
                      0.728407744497766,
                      0.1562829720337582
                    ],
                    [
                      1.0908184676485189,
                      0.7321052457388715,
                      0.15707628661260978
                    ],
                    [
                      1.0963276518285618,
                      0.7358027469799768,
                      0.15786960119146135
                    ],
                    [
                      1.1018368360086048,
                      0.7395002482210823,
                      0.1586629157703129
                    ],
                    [
                      1.107346020188648,
                      0.7431977494621878,
                      0.1594562303491645
                    ],
                    [
                      1.1128552043686908,
                      0.7468952507032931,
                      0.16024954492801605
                    ],
                    [
                      1.118364388548734,
                      0.7505927519443986,
                      0.1610428595068676
                    ],
                    [
                      1.123873572728777,
                      0.7542902531855039,
                      0.16183617408571918
                    ],
                    [
                      1.12938275690882,
                      0.7579877544266093,
                      0.16262948866457072
                    ],
                    [
                      1.134891941088863,
                      0.7616852556677148,
                      0.16342280324342232
                    ],
                    [
                      1.140401125268906,
                      0.7653827569088201,
                      0.16421611782227385
                    ],
                    [
                      1.1459103094489491,
                      0.7690802581499256,
                      0.16500943240112542
                    ],
                    [
                      1.1514194936289919,
                      0.772777759391031,
                      0.165802746979977
                    ],
                    [
                      1.156928677809035,
                      0.7764752606321365,
                      0.16659606155882856
                    ],
                    [
                      1.162437861989078,
                      0.7801727618732418,
                      0.16738937613768012
                    ],
                    [
                      1.1679470461691213,
                      0.7838702631143473,
                      0.1681826907165317
                    ],
                    [
                      1.173456230349164,
                      0.7875677643554526,
                      0.16897600529538323
                    ],
                    [
                      1.1789654145292072,
                      0.7912652655965581,
                      0.16976931987423483
                    ],
                    [
                      1.1844745987092502,
                      0.7949627668376634,
                      0.17056263445308636
                    ],
                    [
                      1.1899837828892932,
                      0.7986602680787689,
                      0.17135594903193796
                    ],
                    [
                      1.1954929670693362,
                      0.8023577693198742,
                      0.1721492636107895
                    ],
                    [
                      1.2010021512493794,
                      0.8060552705609798,
                      0.1729425781896411
                    ],
                    [
                      1.2065113354294223,
                      0.809752771802085,
                      0.17373589276849263
                    ],
                    [
                      1.2120205196094653,
                      0.8134502730431906,
                      0.17452920734734423
                    ],
                    [
                      1.2175297037895083,
                      0.817147774284296,
                      0.17532252192619577
                    ],
                    [
                      1.2230388879695515,
                      0.8208452755254014,
                      0.17611583650504734
                    ],
                    [
                      1.2285480721495943,
                      0.8245427767665068,
                      0.1769091510838989
                    ],
                    [
                      1.2340572563296375,
                      0.8282402780076122,
                      0.17770246566275047
                    ],
                    [
                      1.2395664405096805,
                      0.8319377792487176,
                      0.17849578024160204
                    ],
                    [
                      1.2450756246897237,
                      0.835635280489823,
                      0.1792890948204536
                    ],
                    [
                      1.2505848088697664,
                      0.8393327817309284,
                      0.18008240939930514
                    ],
                    [
                      1.2560939930498096,
                      0.8430302829720339,
                      0.18087572397815674
                    ],
                    [
                      1.2616031772298526,
                      0.8467277842131392,
                      0.18166903855700828
                    ],
                    [
                      1.2671123614098958,
                      0.8504252854542448,
                      0.18246235313585987
                    ],
                    [
                      1.2726215455899386,
                      0.85412278669535,
                      0.1832556677147114
                    ],
                    [
                      1.2781307297699815,
                      0.8578202879364554,
                      0.18404898229356298
                    ],
                    [
                      1.2836399139500247,
                      0.8615177891775609,
                      0.18484229687241455
                    ],
                    [
                      1.2891490981300675,
                      0.8652152904186662,
                      0.18563561145126609
                    ],
                    [
                      1.2946582823101107,
                      0.8689127916597718,
                      0.18642892603011768
                    ],
                    [
                      1.3001674664901537,
                      0.8726102929008771,
                      0.18722224060896922
                    ],
                    [
                      1.3056766506701967,
                      0.8763077941419826,
                      0.18801555518782082
                    ],
                    [
                      1.3111858348502397,
                      0.8800052953830879,
                      0.18880886976667235
                    ],
                    [
                      1.3166950190302829,
                      0.8837027966241934,
                      0.18960218434552395
                    ],
                    [
                      1.3222042032103258,
                      0.8874002978652987,
                      0.1903954989243755
                    ],
                    [
                      1.3277133873903688,
                      0.8910977991064042,
                      0.19118881350322708
                    ],
                    [
                      1.3332225715704118,
                      0.8947953003475095,
                      0.19198212808207862
                    ],
                    [
                      1.338731755750455,
                      0.898492801588615,
                      0.1927754426609302
                    ],
                    [
                      1.3442409399304978,
                      0.9021903028297203,
                      0.19356875723978176
                    ],
                    [
                      1.349750124110541,
                      0.9058878040708259,
                      0.19436207181863333
                    ],
                    [
                      1.355259308290584,
                      0.9095853053119312,
                      0.1951553863974849
                    ],
                    [
                      1.3607684924706271,
                      0.9132828065530367,
                      0.19594870097633646
                    ],
                    [
                      1.36627767665067,
                      0.9169803077941421,
                      0.196742015555188
                    ],
                    [
                      1.371786860830713,
                      0.9206778090352475,
                      0.1975353301340396
                    ],
                    [
                      1.377296045010756,
                      0.9243753102763529,
                      0.19832864471289113
                    ],
                    [
                      1.3828052291907993,
                      0.9280728115174584,
                      0.19912195929174273
                    ],
                    [
                      1.388314413370842,
                      0.9317703127585637,
                      0.19991527387059427
                    ],
                    [
                      1.3938235975508853,
                      0.9354678139996692,
                      0.20070858844944586
                    ],
                    [
                      1.3993327817309282,
                      0.9391653152407745,
                      0.2015019030282974
                    ],
                    [
                      1.4048419659109712,
                      0.94286281648188,
                      0.202295217607149
                    ],
                    [
                      1.4103511500910142,
                      0.9465603177229853,
                      0.20308853218600054
                    ],
                    [
                      1.4158603342710572,
                      0.9502578189640907,
                      0.20388184676485208
                    ],
                    [
                      1.4213695184511002,
                      0.9539553202051961,
                      0.20467516134370367
                    ],
                    [
                      1.4268787026311431,
                      0.9576528214463015,
                      0.2054684759225552
                    ],
                    [
                      1.4323878868111863,
                      0.961350322687407,
                      0.2062617905014068
                    ],
                    [
                      1.4378970709912293,
                      0.9650478239285123,
                      0.20705510508025834
                    ],
                    [
                      1.4434062551712723,
                      0.9687453251696179,
                      0.2078484196591099
                    ],
                    [
                      1.4489154393513153,
                      0.9724428264107232,
                      0.20864173423796148
                    ],
                    [
                      1.4544246235313585,
                      0.9761403276518287,
                      0.20943504881681305
                    ],
                    [
                      1.4599338077114012,
                      0.979837828892934,
                      0.2102283633956646
                    ],
                    [
                      1.4654429918914444,
                      0.9835353301340395,
                      0.21102167797451618
                    ],
                    [
                      1.4709521760714874,
                      0.9872328313751448,
                      0.21181499255336772
                    ],
                    [
                      1.4764613602515306,
                      0.9909303326162503,
                      0.21260830713221932
                    ],
                    [
                      1.4819705444315734,
                      0.9946278338573556,
                      0.21340162171107085
                    ],
                    [
                      1.4874797286116166,
                      0.9983253350984611,
                      0.21419493628992245
                    ],
                    [
                      1.4929889127916596,
                      1.0020228363395665,
                      0.214988250868774
                    ],
                    [
                      1.4984980969717028,
                      1.005720337580672,
                      0.21578156544762558
                    ],
                    [
                      1.5040072811517455,
                      1.0094178388217774,
                      0.21657488002647712
                    ],
                    [
                      1.5095164653317887,
                      1.0131153400628827,
                      0.21736819460532872
                    ],
                    [
                      1.5150256495118317,
                      1.016812841303988,
                      0.21816150918418026
                    ],
                    [
                      1.5205348336918747,
                      1.0205103425450937,
                      0.21895482376303183
                    ],
                    [
                      1.5260440178719177,
                      1.024207843786199,
                      0.2197481383418834
                    ],
                    [
                      1.5315532020519609,
                      1.0279053450273046,
                      0.22054145292073496
                    ],
                    [
                      1.5370623862320036,
                      1.0316028462684097,
                      0.22133476749958653
                    ],
                    [
                      1.5425715704120468,
                      1.0353003475095153,
                      0.2221280820784381
                    ],
                    [
                      1.5480807545920898,
                      1.0389978487506206,
                      0.22292139665728963
                    ],
                    [
                      1.5535899387721328,
                      1.042695349991726,
                      0.2237147112361412
                    ],
                    [
                      1.5590991229521758,
                      1.0463928512328315,
                      0.22450802581499277
                    ],
                    [
                      1.5646083071322188,
                      1.050090352473937,
                      0.22530134039384433
                    ],
                    [
                      1.570117491312262,
                      1.0537878537150422,
                      0.2260946549726959
                    ],
                    [
                      1.5756266754923047,
                      1.0574853549561476,
                      0.22688796955154744
                    ],
                    [
                      1.581135859672348,
                      1.0611828561972532,
                      0.22768128413039904
                    ],
                    [
                      1.586645043852391,
                      1.0648803574383585,
                      0.22847459870925058
                    ],
                    [
                      1.5921542280324341,
                      1.0685778586794639,
                      0.22926791328810217
                    ],
                    [
                      1.5976634122124769,
                      1.0722753599205692,
                      0.2300612278669537
                    ],
                    [
                      1.60317259639252,
                      1.0759728611616748,
                      0.2308545424458053
                    ],
                    [
                      1.608681780572563,
                      1.0796703624027801,
                      0.23164785702465684
                    ],
                    [
                      1.6141909647526063,
                      1.0833678636438857,
                      0.23244117160350844
                    ],
                    [
                      1.619700148932649,
                      1.0870653648849908,
                      0.23323448618235998
                    ],
                    [
                      1.6252093331126922,
                      1.0907628661260964,
                      0.23402780076121155
                    ],
                    [
                      1.6307185172927352,
                      1.0944603673672018,
                      0.2348211153400631
                    ],
                    [
                      1.6362277014727782,
                      1.0981578686083073,
                      0.23561442991891468
                    ],
                    [
                      1.6417368856528212,
                      1.1018553698494127,
                      0.23640774449776625
                    ],
                    [
                      1.6472460698328644,
                      1.105552871090518,
                      0.23720105907661782
                    ],
                    [
                      1.6527552540129071,
                      1.1092503723316234,
                      0.23799437365546938
                    ],
                    [
                      1.6582644381929503,
                      1.112947873572729,
                      0.23878768823432095
                    ],
                    [
                      1.6637736223729933,
                      1.1166453748138343,
                      0.2395810028131725
                    ],
                    [
                      1.6692828065530365,
                      1.1203428760549397,
                      0.24037431739202408
                    ],
                    [
                      1.6747919907330793,
                      1.124040377296045,
                      0.24116763197087562
                    ],
                    [
                      1.6803011749131225,
                      1.1277378785371506,
                      0.24196094654972722
                    ],
                    [
                      1.6858103590931655,
                      1.131435379778256,
                      0.24275426112857876
                    ],
                    [
                      1.6913195432732087,
                      1.1351328810193615,
                      0.24354757570743035
                    ],
                    [
                      1.6968287274532514,
                      1.1388303822604668,
                      0.2443408902862819
                    ],
                    [
                      1.7023379116332944,
                      1.1425278835015722,
                      0.24513420486513343
                    ],
                    [
                      1.7078470958133376,
                      1.1462253847426775,
                      0.24592751944398503
                    ],
                    [
                      1.7133562799933804,
                      1.149922885983783,
                      0.24672083402283657
                    ],
                    [
                      1.7188654641734236,
                      1.1536203872248885,
                      0.24751414860168816
                    ],
                    [
                      1.7243746483534665,
                      1.1573178884659938,
                      0.2483074631805397
                    ],
                    [
                      1.7298838325335097,
                      1.1610153897070992,
                      0.2491007777593913
                    ],
                    [
                      1.7353930167135525,
                      1.1647128909482045,
                      0.24989409233824283
                    ],
                    [
                      1.7409022008935957,
                      1.16841039218931,
                      0.2506874069170944
                    ],
                    [
                      1.7464113850736387,
                      1.1721078934304154,
                      0.25148072149594597
                    ],
                    [
                      1.7519205692536817,
                      1.175805394671521,
                      0.25227403607479754
                    ],
                    [
                      1.7574297534337247,
                      1.1795028959126261,
                      0.2530673506536491
                    ],
                    [
                      1.7629389376137679,
                      1.1832003971537317,
                      0.25386066523250067
                    ],
                    [
                      1.7684481217938108,
                      1.186897898394837,
                      0.25465397981135224
                    ],
                    [
                      1.7739573059738538,
                      1.1905953996359426,
                      0.2554472943902038
                    ],
                    [
                      1.7794664901538968,
                      1.194292900877048,
                      0.2562406089690554
                    ],
                    [
                      1.78497567433394,
                      1.1979904021181533,
                      0.25703392354790694
                    ],
                    [
                      1.7904848585139828,
                      1.2016879033592587,
                      0.2578272381267585
                    ],
                    [
                      1.795994042694026,
                      1.2053854046003643,
                      0.2586205527056101
                    ],
                    [
                      1.801503226874069,
                      1.2090829058414696,
                      0.2594138672844616
                    ],
                    [
                      1.8070124110541121,
                      1.212780407082575,
                      0.2602071818633132
                    ],
                    [
                      1.812521595234155,
                      1.2164779083236803,
                      0.2610004964421647
                    ],
                    [
                      1.818030779414198,
                      1.2201754095647859,
                      0.26179381102101634
                    ],
                    [
                      1.823539963594241,
                      1.2238729108058912,
                      0.26258712559986785
                    ],
                    [
                      1.829049147774284,
                      1.2275704120469968,
                      0.2633804401787195
                    ],
                    [
                      1.834558331954327,
                      1.2312679132881021,
                      0.264173754757571
                    ],
                    [
                      1.84006751613437,
                      1.2349654145292073,
                      0.26496706933642256
                    ],
                    [
                      1.8455767003144132,
                      1.2386629157703128,
                      0.2657603839152741
                    ],
                    [
                      1.851085884494456,
                      1.2423604170114182,
                      0.2665536984941257
                    ],
                    [
                      1.8565950686744992,
                      1.2460579182525238,
                      0.26734701307297726
                    ],
                    [
                      1.8621042528545422,
                      1.2497554194936291,
                      0.2681403276518288
                    ],
                    [
                      1.8676134370345852,
                      1.2534529207347345,
                      0.2689336422306804
                    ],
                    [
                      1.8731226212146281,
                      1.2571504219758398,
                      0.26972695680953196
                    ],
                    [
                      1.8786318053946713,
                      1.2608479232169454,
                      0.2705202713883835
                    ],
                    [
                      1.8841409895747143,
                      1.2645454244580507,
                      0.2713135859672351
                    ],
                    [
                      1.8896501737547573,
                      1.268242925699156,
                      0.27210690054608666
                    ],
                    [
                      1.8951593579348003,
                      1.2719404269402614,
                      0.27290021512493823
                    ],
                    [
                      1.9006685421148435,
                      1.275637928181367,
                      0.2736935297037898
                    ],
                    [
                      1.9061777262948862,
                      1.2793354294224724,
                      0.27448684428264136
                    ],
                    [
                      1.9116869104749294,
                      1.283032930663578,
                      0.27528015886149293
                    ],
                    [
                      1.9171960946549724,
                      1.2867304319046833,
                      0.27607347344034444
                    ],
                    [
                      1.9227052788350156,
                      1.2904279331457886,
                      0.27686678801919606
                    ],
                    [
                      1.9282144630150584,
                      1.294125434386894,
                      0.2776601025980476
                    ],
                    [
                      1.9337236471951016,
                      1.2978229356279996,
                      0.2784534171768992
                    ],
                    [
                      1.9392328313751446,
                      1.301520436869105,
                      0.2792467317557507
                    ],
                    [
                      1.9447420155551876,
                      1.3052179381102103,
                      0.28004004633460233
                    ],
                    [
                      1.9502511997352305,
                      1.3089154393513156,
                      0.28083336091345384
                    ],
                    [
                      1.9557603839152737,
                      1.3126129405924212,
                      0.28162667549230547
                    ],
                    [
                      1.9612695680953167,
                      1.3163104418335265,
                      0.282419990071157
                    ],
                    [
                      1.9667787522753597,
                      1.320007943074632,
                      0.28321330465000855
                    ],
                    [
                      1.9722879364554027,
                      1.3237054443157372,
                      0.2840066192288601
                    ],
                    [
                      1.9777971206354457,
                      1.3274029455568426,
                      0.2847999338077117
                    ],
                    [
                      1.9833063048154886,
                      1.3311004467979481,
                      0.28559324838656325
                    ],
                    [
                      1.9888154889955316,
                      1.3347979480390535,
                      0.2863865629654148
                    ],
                    [
                      1.9943246731755748,
                      1.338495449280159,
                      0.2871798775442664
                    ],
                    [
                      1.9998338573556178,
                      1.3421929505212644,
                      0.28797319212311795
                    ],
                    [
                      2.005343041535661,
                      1.3458904517623698,
                      0.2887665067019695
                    ],
                    [
                      2.0108522257157038,
                      1.3495879530034751,
                      0.2895598212808211
                    ],
                    [
                      2.016361409895747,
                      1.3532854542445807,
                      0.29035313585967265
                    ],
                    [
                      2.0218705940757897,
                      1.356982955485686,
                      0.29114645043852416
                    ],
                    [
                      2.027379778255833,
                      1.3606804567267914,
                      0.2919397650173758
                    ],
                    [
                      2.0328889624358757,
                      1.3643779579678967,
                      0.2927330795962273
                    ],
                    [
                      2.038398146615919,
                      1.3680754592090023,
                      0.2935263941750789
                    ],
                    [
                      2.043907330795962,
                      1.3717729604501077,
                      0.29431970875393043
                    ],
                    [
                      2.0494165149760053,
                      1.3754704616912132,
                      0.29511302333278205
                    ],
                    [
                      2.054925699156048,
                      1.3791679629323184,
                      0.29590633791163357
                    ],
                    [
                      2.0604348833360913,
                      1.382865464173424,
                      0.2966996524904852
                    ],
                    [
                      2.065944067516134,
                      1.3865629654145293,
                      0.2974929670693367
                    ],
                    [
                      2.0714532516961772,
                      1.3902604666556349,
                      0.29828628164818827
                    ],
                    [
                      2.07696243587622,
                      1.3939579678967402,
                      0.29907959622703983
                    ],
                    [
                      2.082471620056263,
                      1.3976554691378456,
                      0.2998729108058914
                    ],
                    [
                      2.087980804236306,
                      1.401352970378951,
                      0.30066622538474297
                    ],
                    [
                      2.093489988416349,
                      1.4050504716200565,
                      0.30145953996359454
                    ],
                    [
                      2.0989991725963923,
                      1.4087479728611618,
                      0.3022528545424461
                    ],
                    [
                      2.1045083567764356,
                      1.4124454741022672,
                      0.30304616912129767
                    ],
                    [
                      2.1100175409564783,
                      1.4161429753433725,
                      0.30383948370014924
                    ],
                    [
                      2.115526725136521,
                      1.4198404765844779,
                      0.3046327982790008
                    ],
                    [
                      2.1210359093165643,
                      1.4235379778255834,
                      0.30542611285785237
                    ],
                    [
                      2.126545093496607,
                      1.4272354790666888,
                      0.3062194274367039
                    ],
                    [
                      2.1320542776766502,
                      1.4309329803077944,
                      0.3070127420155555
                    ],
                    [
                      2.1375634618566934,
                      1.4346304815488995,
                      0.307806056594407
                    ],
                    [
                      2.1430726460367366,
                      1.438327982790005,
                      0.30859937117325864
                    ],
                    [
                      2.1485818302167794,
                      1.4420254840311104,
                      0.30939268575211015
                    ],
                    [
                      2.1540910143968226,
                      1.445722985272216,
                      0.3101860003309618
                    ],
                    [
                      2.1596001985768654,
                      1.4494204865133213,
                      0.3109793149098133
                    ],
                    [
                      2.1651093827569086,
                      1.4531179877544267,
                      0.3117726294886649
                    ],
                    [
                      2.1706185669369513,
                      1.456815488995532,
                      0.3125659440675164
                    ],
                    [
                      2.1761277511169945,
                      1.4605129902366376,
                      0.313359258646368
                    ],
                    [
                      2.1816369352970377,
                      1.464210491477743,
                      0.31415257322521956
                    ],
                    [
                      2.1871461194770805,
                      1.4679079927188483,
                      0.3149458878040711
                    ],
                    [
                      2.1926553036571237,
                      1.4716054939599537,
                      0.3157392023829227
                    ],
                    [
                      2.198164487837167,
                      1.4753029952010592,
                      0.31653251696177426
                    ],
                    [
                      2.2036736720172097,
                      1.4790004964421646,
                      0.3173258315406258
                    ]
                  ],
                  "hovertemplate": "asset 1: %{customdata[0]:.0%}<br>asset 2: %{customdata[1]:.0%}<br>asset 3: %{customdata[2]:.0%}<br><extra></extra>",
                  "line": {
                    "width": 5
                  },
                  "mode": "lines",
                  "type": "scatter",
                  "x": [
                    0.6815485654972874,
                    0.6696883036480332,
                    0.6578362854765643,
                    0.6459929647227441,
                    0.6341588286762316,
                    0.6223344012986854,
                    0.6105202466967244,
                    0.5987169729918461,
                    0.5869252366404613,
                    0.5751457472653846,
                    0.5633792730696671,
                    0.55162664691493,
                    0.5398887731595876,
                    0.5281666353680184,
                    0.5164613050202651,
                    0.5047739513738309,
                    0.49310585265530876,
                    0.48145840879077045,
                    0.4698331559211372,
                    0.4582317829934362,
                    0.446656150772521,
                    0.43510831368242026,
                    0.4235905449644117,
                    0.412105365733071,
                    0.40065557862556017,
                    0.3892443068776084,
                    0.377875039827362,
                    0.3665516860518913,
                    0.3552786355883103,
                    0.344060832991132,
                    0.3329038633399516,
                    0.32181405374817285,
                    0.31079859344606403,
                    0.29986567613070514,
                    0.2890246689984288,
                    0.27828631370053203,
                    0.26766296537149803,
                    0.2571688768201738,
                    0.24682053584231808,
                    0.2366370642082121,
                    0.22664068684975167,
                    0.21685727852536119,
                    0.20731699182213265,
                    0.19805496328540612,
                    0.18911208158349418,
                    0.18053577998489367,
                    0.17238078153819505,
                    0.16470967599912628,
                    0.15759314206782155,
                    0.15110955304325813,
                    0.14534363814804938,
                    0.14038385524818092,
                    0.13631822333652435,
                    0.13322862585782408,
                    0.131184042540832,
                    0.1302337007913036,
                    0.13040152668314886,
                    0.13168324508397564,
                    0.13404690763106034,
                    0.13743670321317691,
                    0.1417790494742327,
                    0.14698955025640498,
                    0.15297952292511802,
                    0.15966126179905518,
                    0.1669517299676448,
                    0.17477476732688146,
                    0.1830621096354866,
                    0.1917535663534776,
                    0.2007966682228899,
                    0.21014602367069035,
                    0.2197625493455257,
                    0.22961267922338277,
                    0.23966761224764765,
                    0.2499026286294138,
                    0.2602964862735297,
                    0.27083089792683207,
                    0.2814900838616091,
                    0.29226039226694844,
                    0.303129978719853,
                    0.3140885363148738,
                    0.32512706873650826,
                    0.3362376994642655,
                    0.347413511239708,
                    0.3586484108118099,
                    0.36993701477254776,
                    0.38127455298624985,
                    0.39265678670558907,
                    0.4040799389627075,
                    0.4155406352371636,
                    0.4270358527448943,
                    0.4385628769753153,
                    0.45011926433693716,
                    0.4617028099639837,
                    0.4733115198947781,
                    0.48494358696308604,
                    0.496597369851268,
                    0.5082713748430291,
                    0.5199642398872273,
                    0.5316747206452782,
                    0.5434016782454946,
                    0.5551440685100214
                  ],
                  "y": [
                    -0.1,
                    -0.09675,
                    -0.0935,
                    -0.09025000000000001,
                    -0.08700000000000001,
                    -0.08375,
                    -0.08050000000000002,
                    -0.07725000000000001,
                    -0.07400000000000001,
                    -0.07075000000000001,
                    -0.0675,
                    -0.06425000000000002,
                    -0.06100000000000001,
                    -0.05775000000000001,
                    -0.054500000000000014,
                    -0.05125000000000002,
                    -0.048000000000000015,
                    -0.04475000000000001,
                    -0.041500000000000016,
                    -0.03825000000000002,
                    -0.03500000000000002,
                    -0.031750000000000014,
                    -0.028500000000000025,
                    -0.025250000000000022,
                    -0.02200000000000002,
                    -0.018750000000000017,
                    -0.015500000000000014,
                    -0.012250000000000025,
                    -0.009000000000000022,
                    -0.005750000000000019,
                    -0.00250000000000003,
                    0.0007499999999999729,
                    0.003999999999999976,
                    0.007249999999999979,
                    0.010499999999999982,
                    0.01374999999999997,
                    0.016999999999999973,
                    0.020249999999999976,
                    0.023499999999999965,
                    0.026749999999999968,
                    0.02999999999999997,
                    0.033249999999999974,
                    0.03649999999999998,
                    0.03974999999999998,
                    0.042999999999999955,
                    0.04624999999999996,
                    0.04949999999999996,
                    0.052749999999999964,
                    0.055999999999999966,
                    0.05924999999999997,
                    0.06249999999999997,
                    0.06574999999999998,
                    0.06899999999999998,
                    0.07224999999999995,
                    0.07549999999999996,
                    0.07874999999999996,
                    0.08199999999999996,
                    0.08524999999999996,
                    0.08849999999999997,
                    0.09174999999999997,
                    0.09499999999999995,
                    0.09824999999999995,
                    0.10149999999999995,
                    0.10474999999999995,
                    0.10799999999999996,
                    0.11124999999999996,
                    0.11449999999999996,
                    0.11774999999999997,
                    0.12099999999999997,
                    0.12424999999999994,
                    0.12749999999999995,
                    0.13074999999999995,
                    0.13399999999999995,
                    0.13724999999999996,
                    0.14049999999999996,
                    0.14374999999999996,
                    0.14699999999999994,
                    0.15024999999999997,
                    0.15349999999999994,
                    0.15674999999999997,
                    0.15999999999999995,
                    0.16324999999999992,
                    0.16649999999999995,
                    0.16974999999999993,
                    0.17299999999999996,
                    0.17624999999999993,
                    0.17949999999999997,
                    0.18274999999999994,
                    0.18599999999999992,
                    0.18924999999999995,
                    0.19249999999999992,
                    0.19574999999999995,
                    0.19899999999999993,
                    0.20224999999999996,
                    0.20549999999999993,
                    0.20874999999999996,
                    0.21199999999999994,
                    0.2152499999999999,
                    0.21849999999999994,
                    0.22174999999999992,
                    0.22499999999999998
                  ]
                },
                {
                  "customdata": [
                    [
                      0.5509184180043024,
                      0.36975012411054115,
                      0.07933145788515646
                    ]
                  ],
                  "hovertemplate": "tangency portfolio<br>asset 1: %{customdata[0]:.0%}<br>asset 2: %{customdata[1]:.0%}<br>asset 3: %{customdata[2]:.0%}<br><extra></extra>",
                  "marker": {
                    "size": 15
                  },
                  "mode": "markers",
                  "type": "scatter",
                  "x": [
                    0.1507637076349746
                  ],
                  "y": [
                    0.1003432070163826
                  ]
                },
                {
                  "customdata": [
                    [
                      0,
                      0,
                      0
                    ],
                    [
                      0.005509184180043024,
                      0.0036975012411054114,
                      0.0007933145788515646
                    ],
                    [
                      0.011018368360086048,
                      0.007395002482210823,
                      0.0015866291577031292
                    ],
                    [
                      0.01652755254012907,
                      0.011092503723316233,
                      0.002379943736554694
                    ],
                    [
                      0.022036736720172097,
                      0.014790004964421646,
                      0.0031732583154062584
                    ],
                    [
                      0.027545920900215123,
                      0.018487506205527058,
                      0.003966572894257823
                    ],
                    [
                      0.03305510508025814,
                      0.022185007446632467,
                      0.004759887473109388
                    ],
                    [
                      0.03856428926030117,
                      0.025882508687737883,
                      0.005553202051960952
                    ],
                    [
                      0.044073473440344194,
                      0.02958000992884329,
                      0.006346516630812517
                    ],
                    [
                      0.049582657620387216,
                      0.033277511169948704,
                      0.0071398312096640805
                    ],
                    [
                      0.055091841800430245,
                      0.036975012411054116,
                      0.007933145788515646
                    ],
                    [
                      0.06060102598047327,
                      0.04067251365215953,
                      0.00872646036736721
                    ],
                    [
                      0.06611021016051628,
                      0.044370014893264934,
                      0.009519774946218775
                    ],
                    [
                      0.07161939434055932,
                      0.04806751613437035,
                      0.010313089525070339
                    ],
                    [
                      0.07712857852060234,
                      0.051765017375475765,
                      0.011106404103921904
                    ],
                    [
                      0.08263776270064536,
                      0.05546251861658117,
                      0.011899718682773468
                    ],
                    [
                      0.08814694688068839,
                      0.05916001985768658,
                      0.012693033261625034
                    ],
                    [
                      0.09365613106073142,
                      0.062857521098792,
                      0.013486347840476599
                    ],
                    [
                      0.09916531524077443,
                      0.06655502233989741,
                      0.014279662419328161
                    ],
                    [
                      0.10467449942081745,
                      0.07025252358100281,
                      0.015072976998179726
                    ],
                    [
                      0.11018368360086049,
                      0.07395002482210823,
                      0.015866291577031292
                    ],
                    [
                      0.1156928677809035,
                      0.07764752606321364,
                      0.016659606155882856
                    ],
                    [
                      0.12120205196094654,
                      0.08134502730431906,
                      0.01745292073473442
                    ],
                    [
                      0.12671123614098956,
                      0.08504252854542446,
                      0.018246235313585987
                    ],
                    [
                      0.13222042032103257,
                      0.08874002978652987,
                      0.01903954989243755
                    ],
                    [
                      0.1377296045010756,
                      0.09243753102763529,
                      0.019832864471289114
                    ],
                    [
                      0.14323878868111864,
                      0.0961350322687407,
                      0.020626179050140678
                    ],
                    [
                      0.14874797286116165,
                      0.09983253350984611,
                      0.021419493628992245
                    ],
                    [
                      0.15425715704120468,
                      0.10353003475095153,
                      0.02221280820784381
                    ],
                    [
                      0.1597663412212477,
                      0.10722753599205692,
                      0.023006122786695372
                    ],
                    [
                      0.16527552540129073,
                      0.11092503723316234,
                      0.023799437365546936
                    ],
                    [
                      0.17078470958133374,
                      0.11462253847426776,
                      0.0245927519443985
                    ],
                    [
                      0.17629389376137677,
                      0.11832003971537317,
                      0.025386066523250067
                    ],
                    [
                      0.1818030779414198,
                      0.12201754095647858,
                      0.02617938110210163
                    ],
                    [
                      0.18731226212146285,
                      0.125715042197584,
                      0.026972695680953198
                    ],
                    [
                      0.19282144630150586,
                      0.1294125434386894,
                      0.02776601025980476
                    ],
                    [
                      0.19833063048154886,
                      0.13311004467979481,
                      0.028559324838656322
                    ],
                    [
                      0.2038398146615919,
                      0.13680754592090022,
                      0.02935263941750789
                    ],
                    [
                      0.2093489988416349,
                      0.14050504716200563,
                      0.030145953996359453
                    ],
                    [
                      0.21485818302167795,
                      0.14420254840311106,
                      0.03093926857521102
                    ],
                    [
                      0.22036736720172098,
                      0.14790004964421646,
                      0.031732583154062584
                    ],
                    [
                      0.22587655138176402,
                      0.15159755088532187,
                      0.03252589773291415
                    ],
                    [
                      0.231385735561807,
                      0.15529505212642727,
                      0.03331921231176571
                    ],
                    [
                      0.23689491974185004,
                      0.15899255336753268,
                      0.03411252689061728
                    ],
                    [
                      0.24240410392189307,
                      0.1626900546086381,
                      0.03490584146946884
                    ],
                    [
                      0.24791328810193608,
                      0.16638755584974352,
                      0.035699156048320406
                    ],
                    [
                      0.2534224722819791,
                      0.17008505709084892,
                      0.03649247062717197
                    ],
                    [
                      0.25893165646202215,
                      0.17378255833195436,
                      0.03728578520602353
                    ],
                    [
                      0.26444084064206513,
                      0.17748005957305973,
                      0.0380790997848751
                    ],
                    [
                      0.26995002482210817,
                      0.18117756081416517,
                      0.03887241436372666
                    ],
                    [
                      0.2754592090021512,
                      0.18487506205527057,
                      0.03966572894257823
                    ],
                    [
                      0.28096839318219424,
                      0.18857256329637598,
                      0.040459043521429795
                    ],
                    [
                      0.2864775773622373,
                      0.1922700645374814,
                      0.041252358100281356
                    ],
                    [
                      0.2919867615422803,
                      0.19596756577858682,
                      0.04204567267913292
                    ],
                    [
                      0.2974959457223233,
                      0.19966506701969222,
                      0.04283898725798449
                    ],
                    [
                      0.30300512990236633,
                      0.20336256826079765,
                      0.04363230183683606
                    ],
                    [
                      0.30851431408240937,
                      0.20706006950190306,
                      0.04442561641568762
                    ],
                    [
                      0.3140234982624524,
                      0.21075757074300847,
                      0.045218930994539185
                    ],
                    [
                      0.3195326824424954,
                      0.21445507198411384,
                      0.046012245573390745
                    ],
                    [
                      0.3250418666225384,
                      0.21815257322521928,
                      0.046805560152242305
                    ],
                    [
                      0.33055105080258146,
                      0.22185007446632468,
                      0.04759887473109387
                    ],
                    [
                      0.33606023498262444,
                      0.2255475757074301,
                      0.04839218930994544
                    ],
                    [
                      0.3415694191626675,
                      0.22924507694853552,
                      0.049185503888797
                    ],
                    [
                      0.3470786033427105,
                      0.23294257818964093,
                      0.04997881846764857
                    ],
                    [
                      0.35258778752275355,
                      0.23664007943074633,
                      0.050772133046500134
                    ],
                    [
                      0.3580969717027966,
                      0.24033758067185176,
                      0.0515654476253517
                    ],
                    [
                      0.3636061558828396,
                      0.24403508191295717,
                      0.05235876220420326
                    ],
                    [
                      0.36911534006288266,
                      0.24773258315406257,
                      0.05315207678305483
                    ],
                    [
                      0.3746245242429257,
                      0.251430084395168,
                      0.053945391361906396
                    ],
                    [
                      0.3801337084229687,
                      0.2551275856362734,
                      0.054738705940757956
                    ],
                    [
                      0.3856428926030117,
                      0.2588250868773788,
                      0.05553202051960952
                    ],
                    [
                      0.3911520767830547,
                      0.2625225881184842,
                      0.056325335098461084
                    ],
                    [
                      0.39666126096309773,
                      0.26622008935958963,
                      0.057118649677312644
                    ],
                    [
                      0.40217044514314076,
                      0.26991759060069503,
                      0.05791196425616421
                    ],
                    [
                      0.4076796293231838,
                      0.27361509184180044,
                      0.05870527883501578
                    ],
                    [
                      0.4131888135032268,
                      0.27731259308290584,
                      0.059498593413867346
                    ],
                    [
                      0.4186979976832698,
                      0.28101009432401125,
                      0.060291907992718906
                    ],
                    [
                      0.42420718186331285,
                      0.2847075955651167,
                      0.06108522257157047
                    ],
                    [
                      0.4297163660433559,
                      0.2884050968062221,
                      0.06187853715042204
                    ],
                    [
                      0.4352255502233989,
                      0.2921025980473275,
                      0.0626718517292736
                    ],
                    [
                      0.44073473440344196,
                      0.2958000992884329,
                      0.06346516630812517
                    ],
                    [
                      0.446243918583485,
                      0.29949760052953833,
                      0.06425848088697673
                    ],
                    [
                      0.45175310276352804,
                      0.30319510177064374,
                      0.0650517954658283
                    ],
                    [
                      0.457262286943571,
                      0.3068926030117492,
                      0.06584511004467987
                    ],
                    [
                      0.462771471123614,
                      0.31059010425285455,
                      0.06663842462353142
                    ],
                    [
                      0.46828065530365703,
                      0.31428760549395995,
                      0.06743173920238299
                    ],
                    [
                      0.47378983948370007,
                      0.31798510673506536,
                      0.06822505378123456
                    ],
                    [
                      0.4792990236637431,
                      0.3216826079761708,
                      0.06901836836008611
                    ],
                    [
                      0.48480820784378614,
                      0.3253801092172762,
                      0.06981168293893768
                    ],
                    [
                      0.4903173920238292,
                      0.32907761045838163,
                      0.07060499751778924
                    ],
                    [
                      0.49582657620387216,
                      0.33277511169948704,
                      0.07139831209664081
                    ],
                    [
                      0.5013357603839153,
                      0.33647261294059244,
                      0.07219162667549238
                    ],
                    [
                      0.5068449445639582,
                      0.34017011418169785,
                      0.07298494125434395
                    ],
                    [
                      0.5123541287440013,
                      0.3438676154228033,
                      0.07377825583319551
                    ],
                    [
                      0.5178633129240443,
                      0.3475651166639087,
                      0.07457157041204707
                    ],
                    [
                      0.5233724971040873,
                      0.3512626179050141,
                      0.07536488499089863
                    ],
                    [
                      0.5288816812841303,
                      0.35496011914611947,
                      0.0761581995697502
                    ],
                    [
                      0.5343908654641734,
                      0.3586576203872249,
                      0.07695151414860175
                    ],
                    [
                      0.5399000496442163,
                      0.36235512162833033,
                      0.07774482872745332
                    ],
                    [
                      0.5454092338242594,
                      0.36605262286943574,
                      0.07853814330630489
                    ],
                    [
                      0.5509184180043024,
                      0.36975012411054115,
                      0.07933145788515646
                    ],
                    [
                      0.5564276021843454,
                      0.37344762535164655,
                      0.08012477246400802
                    ],
                    [
                      0.5619367863643885,
                      0.37714512659275196,
                      0.08091808704285959
                    ],
                    [
                      0.5674459705444315,
                      0.3808426278338574,
                      0.08171140162171116
                    ],
                    [
                      0.5729551547244746,
                      0.3845401290749628,
                      0.08250471620056271
                    ],
                    [
                      0.5784643389045175,
                      0.3882376303160682,
                      0.08329803077941428
                    ],
                    [
                      0.5839735230845606,
                      0.39193513155717363,
                      0.08409134535826585
                    ],
                    [
                      0.5894827072646036,
                      0.39563263279827904,
                      0.08488465993711741
                    ],
                    [
                      0.5949918914446466,
                      0.39933013403938444,
                      0.08567797451596898
                    ],
                    [
                      0.6005010756246897,
                      0.4030276352804899,
                      0.08647128909482055
                    ],
                    [
                      0.6060102598047327,
                      0.4067251365215953,
                      0.08726460367367211
                    ],
                    [
                      0.6115194439847758,
                      0.4104226377627007,
                      0.08805791825252367
                    ],
                    [
                      0.6170286281648187,
                      0.4141201390038061,
                      0.08885123283137523
                    ],
                    [
                      0.6225378123448618,
                      0.4178176402449115,
                      0.0896445474102268
                    ],
                    [
                      0.6280469965249048,
                      0.42151514148601693,
                      0.09043786198907837
                    ],
                    [
                      0.6335561807049479,
                      0.4252126427271224,
                      0.09123117656792994
                    ],
                    [
                      0.6390653648849908,
                      0.4289101439682277,
                      0.09202449114678149
                    ],
                    [
                      0.6445745490650338,
                      0.4326076452093331,
                      0.09281780572563304
                    ],
                    [
                      0.6500837332450768,
                      0.43630514645043855,
                      0.09361112030448461
                    ],
                    [
                      0.6555929174251198,
                      0.44000264769154396,
                      0.09440443488333618
                    ],
                    [
                      0.6611021016051629,
                      0.44370014893264936,
                      0.09519774946218774
                    ],
                    [
                      0.6666112857852059,
                      0.44739765017375477,
                      0.09599106404103931
                    ],
                    [
                      0.6721204699652489,
                      0.4510951514148602,
                      0.09678437861989088
                    ],
                    [
                      0.677629654145292,
                      0.4547926526559656,
                      0.09757769319874245
                    ],
                    [
                      0.683138838325335,
                      0.45849015389707104,
                      0.098371007777594
                    ],
                    [
                      0.688648022505378,
                      0.46218765513817645,
                      0.09916432235644557
                    ],
                    [
                      0.694157206685421,
                      0.46588515637928185,
                      0.09995763693529713
                    ],
                    [
                      0.6996663908654641,
                      0.46958265762038726,
                      0.1007509515141487
                    ],
                    [
                      0.7051755750455071,
                      0.47328015886149266,
                      0.10154426609300027
                    ],
                    [
                      0.7106847592255501,
                      0.47697766010259807,
                      0.10233758067185184
                    ],
                    [
                      0.7161939434055932,
                      0.4806751613437035,
                      0.1031308952507034
                    ],
                    [
                      0.7217031275856362,
                      0.48437266258480893,
                      0.10392420982955496
                    ],
                    [
                      0.7272123117656792,
                      0.48807016382591434,
                      0.10471752440840652
                    ],
                    [
                      0.7327214959457222,
                      0.49176766506701974,
                      0.10551083898725809
                    ],
                    [
                      0.7382306801257653,
                      0.49546516630812515,
                      0.10630415356610966
                    ],
                    [
                      0.7437398643058083,
                      0.49916266754923055,
                      0.10709746814496122
                    ],
                    [
                      0.7492490484858514,
                      0.502860168790336,
                      0.10789078272381279
                    ],
                    [
                      0.7547582326658944,
                      0.5065576700314414,
                      0.10868409730266436
                    ],
                    [
                      0.7602674168459373,
                      0.5102551712725468,
                      0.10947741188151591
                    ],
                    [
                      0.7657766010259804,
                      0.5139526725136523,
                      0.11027072646036748
                    ],
                    [
                      0.7712857852060234,
                      0.5176501737547576,
                      0.11106404103921905
                    ],
                    [
                      0.7767949693860664,
                      0.521347674995863,
                      0.1118573556180706
                    ],
                    [
                      0.7823041535661094,
                      0.5250451762369684,
                      0.11265067019692217
                    ],
                    [
                      0.7878133377461524,
                      0.5287426774780738,
                      0.11344398477577372
                    ],
                    [
                      0.7933225219261955,
                      0.5324401787191793,
                      0.11423729935462529
                    ],
                    [
                      0.7988317061062384,
                      0.5361376799602846,
                      0.11503061393347686
                    ],
                    [
                      0.8043408902862815,
                      0.5398351812013901,
                      0.11582392851232842
                    ],
                    [
                      0.8098500744663245,
                      0.5435326824424954,
                      0.11661724309117999
                    ],
                    [
                      0.8153592586463676,
                      0.5472301836836009,
                      0.11741055767003156
                    ],
                    [
                      0.8208684428264106,
                      0.5509276849247063,
                      0.11820387224888312
                    ],
                    [
                      0.8263776270064536,
                      0.5546251861658117,
                      0.11899718682773469
                    ],
                    [
                      0.8318868111864967,
                      0.5583226874069172,
                      0.11979050140658624
                    ],
                    [
                      0.8373959953665396,
                      0.5620201886480225,
                      0.12058381598543781
                    ],
                    [
                      0.8429051795465827,
                      0.565717689889128,
                      0.12137713056428938
                    ],
                    [
                      0.8484143637266257,
                      0.5694151911302334,
                      0.12217044514314095
                    ],
                    [
                      0.8539235479066688,
                      0.5731126923713388,
                      0.12296375972199251
                    ],
                    [
                      0.8594327320867118,
                      0.5768101936124442,
                      0.12375707430084408
                    ],
                    [
                      0.8649419162667549,
                      0.5805076948535496,
                      0.12455038887969565
                    ],
                    [
                      0.8704511004467979,
                      0.584205196094655,
                      0.1253437034585472
                    ],
                    [
                      0.8759602846268408,
                      0.5879026973357605,
                      0.12613701803739877
                    ],
                    [
                      0.8814694688068839,
                      0.5916001985768659,
                      0.12693033261625034
                    ],
                    [
                      0.8869786529869269,
                      0.5952976998179713,
                      0.1277236471951019
                    ],
                    [
                      0.89248783716697,
                      0.5989952010590767,
                      0.12851696177395347
                    ],
                    [
                      0.897997021347013,
                      0.6026927023001821,
                      0.12931027635280504
                    ],
                    [
                      0.9035062055270561,
                      0.6063902035412875,
                      0.1301035909316566
                    ],
                    [
                      0.909015389707099,
                      0.6100877047823929,
                      0.13089690551050817
                    ],
                    [
                      0.914524573887142,
                      0.6137852060234984,
                      0.13169022008935974
                    ],
                    [
                      0.920033758067185,
                      0.6174827072646036,
                      0.13248353466821128
                    ],
                    [
                      0.925542942247228,
                      0.6211802085057091,
                      0.13327684924706285
                    ],
                    [
                      0.9310521264272711,
                      0.6248777097468146,
                      0.1340701638259144
                    ],
                    [
                      0.9365613106073141,
                      0.6285752109879199,
                      0.13486347840476598
                    ],
                    [
                      0.9420704947873572,
                      0.6322727122290254,
                      0.13565679298361755
                    ],
                    [
                      0.9475796789674001,
                      0.6359702134701307,
                      0.13645010756246911
                    ],
                    [
                      0.9530888631474431,
                      0.6396677147112362,
                      0.13724342214132068
                    ],
                    [
                      0.9585980473274862,
                      0.6433652159523416,
                      0.13803673672017222
                    ],
                    [
                      0.9641072315075292,
                      0.647062717193447,
                      0.1388300512990238
                    ],
                    [
                      0.9696164156875723,
                      0.6507602184345525,
                      0.13962336587787536
                    ],
                    [
                      0.9751255998676153,
                      0.6544577196756578,
                      0.14041668045672692
                    ],
                    [
                      0.9806347840476584,
                      0.6581552209167633,
                      0.1412099950355785
                    ],
                    [
                      0.9861439682277013,
                      0.6618527221578686,
                      0.14200330961443006
                    ],
                    [
                      0.9916531524077443,
                      0.6655502233989741,
                      0.14279662419328162
                    ],
                    [
                      0.9971623365877874,
                      0.6692477246400795,
                      0.1435899387721332
                    ],
                    [
                      1.0026715207678305,
                      0.6729452258811849,
                      0.14438325335098476
                    ],
                    [
                      1.0081807049478735,
                      0.6766427271222903,
                      0.14517656792983633
                    ],
                    [
                      1.0136898891279165,
                      0.6803402283633957,
                      0.1459698825086879
                    ],
                    [
                      1.0191990733079594,
                      0.6840377296045012,
                      0.14676319708753946
                    ],
                    [
                      1.0247082574880026,
                      0.6877352308456066,
                      0.14755651166639103
                    ],
                    [
                      1.0302174416680456,
                      0.691432732086712,
                      0.1483498262452426
                    ],
                    [
                      1.0357266258480886,
                      0.6951302333278174,
                      0.14914314082409413
                    ],
                    [
                      1.0412358100281316,
                      0.6988277345689228,
                      0.1499364554029457
                    ],
                    [
                      1.0467449942081746,
                      0.7025252358100282,
                      0.15072976998179727
                    ],
                    [
                      1.0522541783882178,
                      0.7062227370511336,
                      0.15152308456064884
                    ],
                    [
                      1.0577633625682605,
                      0.7099202382922389,
                      0.1523163991395004
                    ],
                    [
                      1.0632725467483035,
                      0.7136177395333444,
                      0.15310971371835194
                    ],
                    [
                      1.0687817309283467,
                      0.7173152407744497,
                      0.1539030282972035
                    ],
                    [
                      1.0742909151083897,
                      0.7210127420155552,
                      0.15469634287605508
                    ],
                    [
                      1.0798000992884327,
                      0.7247102432566607,
                      0.15548965745490664
                    ],
                    [
                      1.0853092834684757,
                      0.728407744497766,
                      0.1562829720337582
                    ],
                    [
                      1.0908184676485189,
                      0.7321052457388715,
                      0.15707628661260978
                    ],
                    [
                      1.0963276518285618,
                      0.7358027469799768,
                      0.15786960119146135
                    ],
                    [
                      1.1018368360086048,
                      0.7395002482210823,
                      0.1586629157703129
                    ],
                    [
                      1.107346020188648,
                      0.7431977494621878,
                      0.1594562303491645
                    ],
                    [
                      1.1128552043686908,
                      0.7468952507032931,
                      0.16024954492801605
                    ],
                    [
                      1.118364388548734,
                      0.7505927519443986,
                      0.1610428595068676
                    ],
                    [
                      1.123873572728777,
                      0.7542902531855039,
                      0.16183617408571918
                    ],
                    [
                      1.12938275690882,
                      0.7579877544266093,
                      0.16262948866457072
                    ],
                    [
                      1.134891941088863,
                      0.7616852556677148,
                      0.16342280324342232
                    ],
                    [
                      1.140401125268906,
                      0.7653827569088201,
                      0.16421611782227385
                    ],
                    [
                      1.1459103094489491,
                      0.7690802581499256,
                      0.16500943240112542
                    ],
                    [
                      1.1514194936289919,
                      0.772777759391031,
                      0.165802746979977
                    ],
                    [
                      1.156928677809035,
                      0.7764752606321365,
                      0.16659606155882856
                    ],
                    [
                      1.162437861989078,
                      0.7801727618732418,
                      0.16738937613768012
                    ],
                    [
                      1.1679470461691213,
                      0.7838702631143473,
                      0.1681826907165317
                    ],
                    [
                      1.173456230349164,
                      0.7875677643554526,
                      0.16897600529538323
                    ],
                    [
                      1.1789654145292072,
                      0.7912652655965581,
                      0.16976931987423483
                    ],
                    [
                      1.1844745987092502,
                      0.7949627668376634,
                      0.17056263445308636
                    ],
                    [
                      1.1899837828892932,
                      0.7986602680787689,
                      0.17135594903193796
                    ],
                    [
                      1.1954929670693362,
                      0.8023577693198742,
                      0.1721492636107895
                    ],
                    [
                      1.2010021512493794,
                      0.8060552705609798,
                      0.1729425781896411
                    ],
                    [
                      1.2065113354294223,
                      0.809752771802085,
                      0.17373589276849263
                    ],
                    [
                      1.2120205196094653,
                      0.8134502730431906,
                      0.17452920734734423
                    ],
                    [
                      1.2175297037895083,
                      0.817147774284296,
                      0.17532252192619577
                    ],
                    [
                      1.2230388879695515,
                      0.8208452755254014,
                      0.17611583650504734
                    ],
                    [
                      1.2285480721495943,
                      0.8245427767665068,
                      0.1769091510838989
                    ],
                    [
                      1.2340572563296375,
                      0.8282402780076122,
                      0.17770246566275047
                    ],
                    [
                      1.2395664405096805,
                      0.8319377792487176,
                      0.17849578024160204
                    ],
                    [
                      1.2450756246897237,
                      0.835635280489823,
                      0.1792890948204536
                    ],
                    [
                      1.2505848088697664,
                      0.8393327817309284,
                      0.18008240939930514
                    ],
                    [
                      1.2560939930498096,
                      0.8430302829720339,
                      0.18087572397815674
                    ],
                    [
                      1.2616031772298526,
                      0.8467277842131392,
                      0.18166903855700828
                    ],
                    [
                      1.2671123614098958,
                      0.8504252854542448,
                      0.18246235313585987
                    ],
                    [
                      1.2726215455899386,
                      0.85412278669535,
                      0.1832556677147114
                    ],
                    [
                      1.2781307297699815,
                      0.8578202879364554,
                      0.18404898229356298
                    ],
                    [
                      1.2836399139500247,
                      0.8615177891775609,
                      0.18484229687241455
                    ],
                    [
                      1.2891490981300675,
                      0.8652152904186662,
                      0.18563561145126609
                    ],
                    [
                      1.2946582823101107,
                      0.8689127916597718,
                      0.18642892603011768
                    ],
                    [
                      1.3001674664901537,
                      0.8726102929008771,
                      0.18722224060896922
                    ],
                    [
                      1.3056766506701967,
                      0.8763077941419826,
                      0.18801555518782082
                    ],
                    [
                      1.3111858348502397,
                      0.8800052953830879,
                      0.18880886976667235
                    ],
                    [
                      1.3166950190302829,
                      0.8837027966241934,
                      0.18960218434552395
                    ],
                    [
                      1.3222042032103258,
                      0.8874002978652987,
                      0.1903954989243755
                    ],
                    [
                      1.3277133873903688,
                      0.8910977991064042,
                      0.19118881350322708
                    ],
                    [
                      1.3332225715704118,
                      0.8947953003475095,
                      0.19198212808207862
                    ],
                    [
                      1.338731755750455,
                      0.898492801588615,
                      0.1927754426609302
                    ],
                    [
                      1.3442409399304978,
                      0.9021903028297203,
                      0.19356875723978176
                    ],
                    [
                      1.349750124110541,
                      0.9058878040708259,
                      0.19436207181863333
                    ],
                    [
                      1.355259308290584,
                      0.9095853053119312,
                      0.1951553863974849
                    ],
                    [
                      1.3607684924706271,
                      0.9132828065530367,
                      0.19594870097633646
                    ],
                    [
                      1.36627767665067,
                      0.9169803077941421,
                      0.196742015555188
                    ],
                    [
                      1.371786860830713,
                      0.9206778090352475,
                      0.1975353301340396
                    ],
                    [
                      1.377296045010756,
                      0.9243753102763529,
                      0.19832864471289113
                    ],
                    [
                      1.3828052291907993,
                      0.9280728115174584,
                      0.19912195929174273
                    ],
                    [
                      1.388314413370842,
                      0.9317703127585637,
                      0.19991527387059427
                    ],
                    [
                      1.3938235975508853,
                      0.9354678139996692,
                      0.20070858844944586
                    ],
                    [
                      1.3993327817309282,
                      0.9391653152407745,
                      0.2015019030282974
                    ],
                    [
                      1.4048419659109712,
                      0.94286281648188,
                      0.202295217607149
                    ],
                    [
                      1.4103511500910142,
                      0.9465603177229853,
                      0.20308853218600054
                    ],
                    [
                      1.4158603342710572,
                      0.9502578189640907,
                      0.20388184676485208
                    ],
                    [
                      1.4213695184511002,
                      0.9539553202051961,
                      0.20467516134370367
                    ],
                    [
                      1.4268787026311431,
                      0.9576528214463015,
                      0.2054684759225552
                    ],
                    [
                      1.4323878868111863,
                      0.961350322687407,
                      0.2062617905014068
                    ],
                    [
                      1.4378970709912293,
                      0.9650478239285123,
                      0.20705510508025834
                    ],
                    [
                      1.4434062551712723,
                      0.9687453251696179,
                      0.2078484196591099
                    ],
                    [
                      1.4489154393513153,
                      0.9724428264107232,
                      0.20864173423796148
                    ],
                    [
                      1.4544246235313585,
                      0.9761403276518287,
                      0.20943504881681305
                    ],
                    [
                      1.4599338077114012,
                      0.979837828892934,
                      0.2102283633956646
                    ],
                    [
                      1.4654429918914444,
                      0.9835353301340395,
                      0.21102167797451618
                    ],
                    [
                      1.4709521760714874,
                      0.9872328313751448,
                      0.21181499255336772
                    ],
                    [
                      1.4764613602515306,
                      0.9909303326162503,
                      0.21260830713221932
                    ],
                    [
                      1.4819705444315734,
                      0.9946278338573556,
                      0.21340162171107085
                    ],
                    [
                      1.4874797286116166,
                      0.9983253350984611,
                      0.21419493628992245
                    ],
                    [
                      1.4929889127916596,
                      1.0020228363395665,
                      0.214988250868774
                    ],
                    [
                      1.4984980969717028,
                      1.005720337580672,
                      0.21578156544762558
                    ],
                    [
                      1.5040072811517455,
                      1.0094178388217774,
                      0.21657488002647712
                    ],
                    [
                      1.5095164653317887,
                      1.0131153400628827,
                      0.21736819460532872
                    ],
                    [
                      1.5150256495118317,
                      1.016812841303988,
                      0.21816150918418026
                    ],
                    [
                      1.5205348336918747,
                      1.0205103425450937,
                      0.21895482376303183
                    ],
                    [
                      1.5260440178719177,
                      1.024207843786199,
                      0.2197481383418834
                    ],
                    [
                      1.5315532020519609,
                      1.0279053450273046,
                      0.22054145292073496
                    ],
                    [
                      1.5370623862320036,
                      1.0316028462684097,
                      0.22133476749958653
                    ],
                    [
                      1.5425715704120468,
                      1.0353003475095153,
                      0.2221280820784381
                    ],
                    [
                      1.5480807545920898,
                      1.0389978487506206,
                      0.22292139665728963
                    ],
                    [
                      1.5535899387721328,
                      1.042695349991726,
                      0.2237147112361412
                    ],
                    [
                      1.5590991229521758,
                      1.0463928512328315,
                      0.22450802581499277
                    ],
                    [
                      1.5646083071322188,
                      1.050090352473937,
                      0.22530134039384433
                    ],
                    [
                      1.570117491312262,
                      1.0537878537150422,
                      0.2260946549726959
                    ],
                    [
                      1.5756266754923047,
                      1.0574853549561476,
                      0.22688796955154744
                    ],
                    [
                      1.581135859672348,
                      1.0611828561972532,
                      0.22768128413039904
                    ],
                    [
                      1.586645043852391,
                      1.0648803574383585,
                      0.22847459870925058
                    ],
                    [
                      1.5921542280324341,
                      1.0685778586794639,
                      0.22926791328810217
                    ],
                    [
                      1.5976634122124769,
                      1.0722753599205692,
                      0.2300612278669537
                    ],
                    [
                      1.60317259639252,
                      1.0759728611616748,
                      0.2308545424458053
                    ],
                    [
                      1.608681780572563,
                      1.0796703624027801,
                      0.23164785702465684
                    ],
                    [
                      1.6141909647526063,
                      1.0833678636438857,
                      0.23244117160350844
                    ],
                    [
                      1.619700148932649,
                      1.0870653648849908,
                      0.23323448618235998
                    ],
                    [
                      1.6252093331126922,
                      1.0907628661260964,
                      0.23402780076121155
                    ],
                    [
                      1.6307185172927352,
                      1.0944603673672018,
                      0.2348211153400631
                    ],
                    [
                      1.6362277014727782,
                      1.0981578686083073,
                      0.23561442991891468
                    ],
                    [
                      1.6417368856528212,
                      1.1018553698494127,
                      0.23640774449776625
                    ],
                    [
                      1.6472460698328644,
                      1.105552871090518,
                      0.23720105907661782
                    ],
                    [
                      1.6527552540129071,
                      1.1092503723316234,
                      0.23799437365546938
                    ],
                    [
                      1.6582644381929503,
                      1.112947873572729,
                      0.23878768823432095
                    ],
                    [
                      1.6637736223729933,
                      1.1166453748138343,
                      0.2395810028131725
                    ],
                    [
                      1.6692828065530365,
                      1.1203428760549397,
                      0.24037431739202408
                    ],
                    [
                      1.6747919907330793,
                      1.124040377296045,
                      0.24116763197087562
                    ],
                    [
                      1.6803011749131225,
                      1.1277378785371506,
                      0.24196094654972722
                    ],
                    [
                      1.6858103590931655,
                      1.131435379778256,
                      0.24275426112857876
                    ],
                    [
                      1.6913195432732087,
                      1.1351328810193615,
                      0.24354757570743035
                    ],
                    [
                      1.6968287274532514,
                      1.1388303822604668,
                      0.2443408902862819
                    ],
                    [
                      1.7023379116332944,
                      1.1425278835015722,
                      0.24513420486513343
                    ],
                    [
                      1.7078470958133376,
                      1.1462253847426775,
                      0.24592751944398503
                    ],
                    [
                      1.7133562799933804,
                      1.149922885983783,
                      0.24672083402283657
                    ],
                    [
                      1.7188654641734236,
                      1.1536203872248885,
                      0.24751414860168816
                    ],
                    [
                      1.7243746483534665,
                      1.1573178884659938,
                      0.2483074631805397
                    ],
                    [
                      1.7298838325335097,
                      1.1610153897070992,
                      0.2491007777593913
                    ],
                    [
                      1.7353930167135525,
                      1.1647128909482045,
                      0.24989409233824283
                    ],
                    [
                      1.7409022008935957,
                      1.16841039218931,
                      0.2506874069170944
                    ],
                    [
                      1.7464113850736387,
                      1.1721078934304154,
                      0.25148072149594597
                    ],
                    [
                      1.7519205692536817,
                      1.175805394671521,
                      0.25227403607479754
                    ],
                    [
                      1.7574297534337247,
                      1.1795028959126261,
                      0.2530673506536491
                    ],
                    [
                      1.7629389376137679,
                      1.1832003971537317,
                      0.25386066523250067
                    ],
                    [
                      1.7684481217938108,
                      1.186897898394837,
                      0.25465397981135224
                    ],
                    [
                      1.7739573059738538,
                      1.1905953996359426,
                      0.2554472943902038
                    ],
                    [
                      1.7794664901538968,
                      1.194292900877048,
                      0.2562406089690554
                    ],
                    [
                      1.78497567433394,
                      1.1979904021181533,
                      0.25703392354790694
                    ],
                    [
                      1.7904848585139828,
                      1.2016879033592587,
                      0.2578272381267585
                    ],
                    [
                      1.795994042694026,
                      1.2053854046003643,
                      0.2586205527056101
                    ],
                    [
                      1.801503226874069,
                      1.2090829058414696,
                      0.2594138672844616
                    ],
                    [
                      1.8070124110541121,
                      1.212780407082575,
                      0.2602071818633132
                    ],
                    [
                      1.812521595234155,
                      1.2164779083236803,
                      0.2610004964421647
                    ],
                    [
                      1.818030779414198,
                      1.2201754095647859,
                      0.26179381102101634
                    ],
                    [
                      1.823539963594241,
                      1.2238729108058912,
                      0.26258712559986785
                    ],
                    [
                      1.829049147774284,
                      1.2275704120469968,
                      0.2633804401787195
                    ],
                    [
                      1.834558331954327,
                      1.2312679132881021,
                      0.264173754757571
                    ],
                    [
                      1.84006751613437,
                      1.2349654145292073,
                      0.26496706933642256
                    ],
                    [
                      1.8455767003144132,
                      1.2386629157703128,
                      0.2657603839152741
                    ],
                    [
                      1.851085884494456,
                      1.2423604170114182,
                      0.2665536984941257
                    ],
                    [
                      1.8565950686744992,
                      1.2460579182525238,
                      0.26734701307297726
                    ],
                    [
                      1.8621042528545422,
                      1.2497554194936291,
                      0.2681403276518288
                    ],
                    [
                      1.8676134370345852,
                      1.2534529207347345,
                      0.2689336422306804
                    ],
                    [
                      1.8731226212146281,
                      1.2571504219758398,
                      0.26972695680953196
                    ],
                    [
                      1.8786318053946713,
                      1.2608479232169454,
                      0.2705202713883835
                    ],
                    [
                      1.8841409895747143,
                      1.2645454244580507,
                      0.2713135859672351
                    ],
                    [
                      1.8896501737547573,
                      1.268242925699156,
                      0.27210690054608666
                    ],
                    [
                      1.8951593579348003,
                      1.2719404269402614,
                      0.27290021512493823
                    ],
                    [
                      1.9006685421148435,
                      1.275637928181367,
                      0.2736935297037898
                    ],
                    [
                      1.9061777262948862,
                      1.2793354294224724,
                      0.27448684428264136
                    ],
                    [
                      1.9116869104749294,
                      1.283032930663578,
                      0.27528015886149293
                    ],
                    [
                      1.9171960946549724,
                      1.2867304319046833,
                      0.27607347344034444
                    ],
                    [
                      1.9227052788350156,
                      1.2904279331457886,
                      0.27686678801919606
                    ],
                    [
                      1.9282144630150584,
                      1.294125434386894,
                      0.2776601025980476
                    ],
                    [
                      1.9337236471951016,
                      1.2978229356279996,
                      0.2784534171768992
                    ],
                    [
                      1.9392328313751446,
                      1.301520436869105,
                      0.2792467317557507
                    ],
                    [
                      1.9447420155551876,
                      1.3052179381102103,
                      0.28004004633460233
                    ],
                    [
                      1.9502511997352305,
                      1.3089154393513156,
                      0.28083336091345384
                    ],
                    [
                      1.9557603839152737,
                      1.3126129405924212,
                      0.28162667549230547
                    ],
                    [
                      1.9612695680953167,
                      1.3163104418335265,
                      0.282419990071157
                    ],
                    [
                      1.9667787522753597,
                      1.320007943074632,
                      0.28321330465000855
                    ],
                    [
                      1.9722879364554027,
                      1.3237054443157372,
                      0.2840066192288601
                    ],
                    [
                      1.9777971206354457,
                      1.3274029455568426,
                      0.2847999338077117
                    ],
                    [
                      1.9833063048154886,
                      1.3311004467979481,
                      0.28559324838656325
                    ],
                    [
                      1.9888154889955316,
                      1.3347979480390535,
                      0.2863865629654148
                    ],
                    [
                      1.9943246731755748,
                      1.338495449280159,
                      0.2871798775442664
                    ],
                    [
                      1.9998338573556178,
                      1.3421929505212644,
                      0.28797319212311795
                    ],
                    [
                      2.005343041535661,
                      1.3458904517623698,
                      0.2887665067019695
                    ],
                    [
                      2.0108522257157038,
                      1.3495879530034751,
                      0.2895598212808211
                    ],
                    [
                      2.016361409895747,
                      1.3532854542445807,
                      0.29035313585967265
                    ],
                    [
                      2.0218705940757897,
                      1.356982955485686,
                      0.29114645043852416
                    ],
                    [
                      2.027379778255833,
                      1.3606804567267914,
                      0.2919397650173758
                    ],
                    [
                      2.0328889624358757,
                      1.3643779579678967,
                      0.2927330795962273
                    ],
                    [
                      2.038398146615919,
                      1.3680754592090023,
                      0.2935263941750789
                    ],
                    [
                      2.043907330795962,
                      1.3717729604501077,
                      0.29431970875393043
                    ],
                    [
                      2.0494165149760053,
                      1.3754704616912132,
                      0.29511302333278205
                    ],
                    [
                      2.054925699156048,
                      1.3791679629323184,
                      0.29590633791163357
                    ],
                    [
                      2.0604348833360913,
                      1.382865464173424,
                      0.2966996524904852
                    ],
                    [
                      2.065944067516134,
                      1.3865629654145293,
                      0.2974929670693367
                    ],
                    [
                      2.0714532516961772,
                      1.3902604666556349,
                      0.29828628164818827
                    ],
                    [
                      2.07696243587622,
                      1.3939579678967402,
                      0.29907959622703983
                    ],
                    [
                      2.082471620056263,
                      1.3976554691378456,
                      0.2998729108058914
                    ],
                    [
                      2.087980804236306,
                      1.401352970378951,
                      0.30066622538474297
                    ],
                    [
                      2.093489988416349,
                      1.4050504716200565,
                      0.30145953996359454
                    ],
                    [
                      2.0989991725963923,
                      1.4087479728611618,
                      0.3022528545424461
                    ],
                    [
                      2.1045083567764356,
                      1.4124454741022672,
                      0.30304616912129767
                    ],
                    [
                      2.1100175409564783,
                      1.4161429753433725,
                      0.30383948370014924
                    ],
                    [
                      2.115526725136521,
                      1.4198404765844779,
                      0.3046327982790008
                    ],
                    [
                      2.1210359093165643,
                      1.4235379778255834,
                      0.30542611285785237
                    ],
                    [
                      2.126545093496607,
                      1.4272354790666888,
                      0.3062194274367039
                    ],
                    [
                      2.1320542776766502,
                      1.4309329803077944,
                      0.3070127420155555
                    ],
                    [
                      2.1375634618566934,
                      1.4346304815488995,
                      0.307806056594407
                    ],
                    [
                      2.1430726460367366,
                      1.438327982790005,
                      0.30859937117325864
                    ],
                    [
                      2.1485818302167794,
                      1.4420254840311104,
                      0.30939268575211015
                    ],
                    [
                      2.1540910143968226,
                      1.445722985272216,
                      0.3101860003309618
                    ],
                    [
                      2.1596001985768654,
                      1.4494204865133213,
                      0.3109793149098133
                    ],
                    [
                      2.1651093827569086,
                      1.4531179877544267,
                      0.3117726294886649
                    ],
                    [
                      2.1706185669369513,
                      1.456815488995532,
                      0.3125659440675164
                    ],
                    [
                      2.1761277511169945,
                      1.4605129902366376,
                      0.313359258646368
                    ],
                    [
                      2.1816369352970377,
                      1.464210491477743,
                      0.31415257322521956
                    ],
                    [
                      2.1871461194770805,
                      1.4679079927188483,
                      0.3149458878040711
                    ],
                    [
                      2.1926553036571237,
                      1.4716054939599537,
                      0.3157392023829227
                    ],
                    [
                      2.198164487837167,
                      1.4753029952010592,
                      0.31653251696177426
                    ],
                    [
                      2.2036736720172097,
                      1.4790004964421646,
                      0.3173258315406258
                    ]
                  ],
                  "hovertemplate": "asset 1: %{customdata[0]:.0%}<br>asset 2: %{customdata[1]:.0%}<br>asset 3: %{customdata[2]:.0%}<br><extra></extra>",
                  "line": {
                    "color": "#8C564B",
                    "width": 5
                  },
                  "mode": "lines",
                  "type": "scatter",
                  "x": [
                    0,
                    0.0015076370763497458,
                    0.0030152741526994916,
                    0.004522911229049237,
                    0.006030548305398983,
                    0.007538185381748729,
                    0.009045822458098474,
                    0.010553459534448221,
                    0.012061096610797966,
                    0.013568733687147713,
                    0.015076370763497458,
                    0.016584007839847204,
                    0.01809164491619695,
                    0.019599281992546697,
                    0.021106919068896442,
                    0.022614556145246188,
                    0.024122193221595933,
                    0.025629830297945685,
                    0.027137467374295426,
                    0.02864510445064517,
                    0.030152741526994917,
                    0.03166037860334466,
                    0.03316801567969441,
                    0.03467565275604415,
                    0.0361832898323939,
                    0.03769092690874365,
                    0.039198563985093395,
                    0.04070620106144314,
                    0.042213838137792885,
                    0.04372147521414262,
                    0.045229112290492375,
                    0.04673674936684212,
                    0.048244386443191865,
                    0.04975202351954162,
                    0.05125966059589137,
                    0.052767297672241115,
                    0.05427493474859085,
                    0.0557825718249406,
                    0.05729020890129034,
                    0.05879784597764009,
                    0.06030548305398983,
                    0.061813120130339586,
                    0.06332075720668932,
                    0.06482839428303908,
                    0.06633603135938881,
                    0.06784366843573857,
                    0.0693513055120883,
                    0.07085894258843806,
                    0.0723665796647878,
                    0.07387421674113755,
                    0.0753818538174873,
                    0.07688949089383704,
                    0.07839712797018679,
                    0.07990476504653654,
                    0.08141240212288628,
                    0.08292003919923603,
                    0.08442767627558577,
                    0.08593531335193552,
                    0.08744295042828525,
                    0.088950587504635,
                    0.09045822458098475,
                    0.09196586165733449,
                    0.09347349873368424,
                    0.09498113581003399,
                    0.09648877288638373,
                    0.09799640996273348,
                    0.09950404703908323,
                    0.10101168411543299,
                    0.10251932119178274,
                    0.10402695826813246,
                    0.10553459534448223,
                    0.10704223242083197,
                    0.1085498694971817,
                    0.11005750657353146,
                    0.1115651436498812,
                    0.11307278072623093,
                    0.11458041780258069,
                    0.11608805487893044,
                    0.11759569195528018,
                    0.11910332903162993,
                    0.12061096610797967,
                    0.12211860318432942,
                    0.12362624026067917,
                    0.12513387733702894,
                    0.12664151441337865,
                    0.12814915148972839,
                    0.12965678856607815,
                    0.13116442564242792,
                    0.13267206271877763,
                    0.1341796997951274,
                    0.13568733687147713,
                    0.1371949739478269,
                    0.1387026110241766,
                    0.1402102481005264,
                    0.1417178851768761,
                    0.14322552225322585,
                    0.1447331593295756,
                    0.14624079640592533,
                    0.1477484334822751,
                    0.14925607055862486,
                    0.1507637076349746,
                    0.15227134471132434,
                    0.15377898178767407,
                    0.15528661886402384,
                    0.15679425594037358,
                    0.15830189301672332,
                    0.15980953009307308,
                    0.1613171671694228,
                    0.16282480424577256,
                    0.1643324413221223,
                    0.16584007839847206,
                    0.1673477154748218,
                    0.16885535255117154,
                    0.1703629896275213,
                    0.17187062670387104,
                    0.1733782637802208,
                    0.1748859008565705,
                    0.17639353793292023,
                    0.17790117500927,
                    0.17940881208561976,
                    0.1809164491619695,
                    0.18242408623831927,
                    0.18393172331466898,
                    0.18543936039101874,
                    0.18694699746736848,
                    0.18845463454371825,
                    0.18996227162006799,
                    0.19146990869641772,
                    0.19297754577276746,
                    0.19448518284911723,
                    0.19599281992546697,
                    0.1975004570018167,
                    0.19900809407816647,
                    0.2005157311545162,
                    0.20202336823086597,
                    0.20353100530721568,
                    0.20503864238356548,
                    0.2065462794599152,
                    0.20805391653626493,
                    0.2095615536126147,
                    0.21106919068896446,
                    0.21257682776531417,
                    0.21408446484166394,
                    0.21559210191801362,
                    0.2170997389943634,
                    0.21860737607071315,
                    0.22011501314706292,
                    0.22162265022341263,
                    0.2231302872997624,
                    0.22463792437611213,
                    0.22614556145246187,
                    0.2276531985288116,
                    0.22916083560516137,
                    0.2306684726815111,
                    0.23217610975786088,
                    0.23368374683421061,
                    0.23519138391056035,
                    0.23669902098691012,
                    0.23820665806325986,
                    0.2397142951396096,
                    0.24122193221595933,
                    0.2427295692923091,
                    0.24423720636865884,
                    0.24574484344500858,
                    0.24725248052135834,
                    0.24876011759770808,
                    0.2502677546740579,
                    0.25177539175040753,
                    0.2532830288267573,
                    0.25479066590310706,
                    0.25629830297945677,
                    0.2578059400558066,
                    0.2593135771321563,
                    0.260821214208506,
                    0.26232885128485584,
                    0.2638364883612055,
                    0.26534412543755526,
                    0.266851762513905,
                    0.2683593995902548,
                    0.2698670366666045,
                    0.27137467374295426,
                    0.27288231081930403,
                    0.2743899478956538,
                    0.2758975849720035,
                    0.2774052220483532,
                    0.278912859124703,
                    0.2804204962010528,
                    0.2819281332774025,
                    0.2834357703537522,
                    0.284943407430102,
                    0.2864510445064517,
                    0.28795868158280147,
                    0.2894663186591512,
                    0.29097395573550094,
                    0.29248159281185065,
                    0.2939892298882004,
                    0.2954968669645502,
                    0.29700450404089995,
                    0.2985121411172497,
                    0.30001977819359943,
                    0.3015274152699492,
                    0.30303505234629896,
                    0.30454268942264867,
                    0.30605032649899844,
                    0.30755796357534815,
                    0.3090656006516979,
                    0.3105732377280477,
                    0.31208087480439733,
                    0.31358851188074716,
                    0.31509614895709687,
                    0.31660378603344663,
                    0.31811142310979634,
                    0.31961906018614616,
                    0.3211266972624958,
                    0.3226343343388456,
                    0.32414197141519535,
                    0.3256496084915451,
                    0.3271572455678948,
                    0.3286648826442446,
                    0.33017251972059436,
                    0.3316801567969441,
                    0.3331877938732939,
                    0.3346954309496436,
                    0.33620306802599337,
                    0.3377107051023431,
                    0.3392183421786928,
                    0.3407259792550426,
                    0.34223361633139227,
                    0.3437412534077421,
                    0.34524889048409185,
                    0.3467565275604416,
                    0.3482641646367913,
                    0.349771801713141,
                    0.3512794387894908,
                    0.35278707586584046,
                    0.3542947129421903,
                    0.35580235001854,
                    0.35730998709488976,
                    0.3588176241712395,
                    0.3603252612475893,
                    0.361832898323939,
                    0.36334053540028877,
                    0.36484817247663853,
                    0.36635580955298824,
                    0.36786344662933795,
                    0.3693710837056878,
                    0.3708787207820375,
                    0.3723863578583873,
                    0.37389399493473696,
                    0.3754016320110867,
                    0.3769092690874365,
                    0.37841690616378626,
                    0.37992454324013597,
                    0.38143218031648574,
                    0.38293981739283545,
                    0.3844474544691852,
                    0.3859550915455349,
                    0.38746272862188463,
                    0.38897036569823445,
                    0.39047800277458417,
                    0.39198563985093393,
                    0.39349327692728364,
                    0.3950009140036334,
                    0.3965085510799831,
                    0.39801618815633294,
                    0.3995238252326826,
                    0.4010314623090324,
                    0.4025390993853821,
                    0.40404673646173195,
                    0.4055543735380816,
                    0.40706201061443137,
                    0.4085696476907811,
                    0.41007728476713096,
                    0.4115849218434806,
                    0.4130925589198304,
                    0.4146001959961801,
                    0.41610783307252985,
                    0.4176154701488796,
                    0.4191231072252294,
                    0.42063074430157904,
                    0.4221383813779289,
                    0.42364601845427863,
                    0.42515365553062834,
                    0.42666129260697816,
                    0.42816892968332787,
                    0.4296765667596776,
                    0.43118420383602724,
                    0.43269184091237706,
                    0.4341994779887268,
                    0.4357071150650766,
                    0.4372147521414263,
                    0.43872238921777607,
                    0.44023002629412583,
                    0.4417376633704756,
                    0.44324530044682525,
                    0.444752937523175,
                    0.4462605745995248,
                    0.44776821167587455,
                    0.44927584875222426,
                    0.450783485828574,
                    0.45229112290492374,
                    0.4537987599812735,
                    0.4553063970576232,
                    0.45681403413397303,
                    0.45832167121032275,
                    0.4598293082866725,
                    0.4613369453630222,
                    0.46284458243937204,
                    0.46435221951572175,
                    0.4658598565920715,
                    0.46736749366842123,
                    0.46887513074477094,
                    0.4703827678211207,
                    0.4718904048974705,
                    0.47339804197382024,
                    0.47490567905016984,
                    0.4764133161265197,
                    0.4779209532028695,
                    0.4794285902792192,
                    0.4809362273555689,
                    0.48244386443191867,
                    0.48395150150826843,
                    0.4854591385846182,
                    0.4869667756609679,
                    0.4884744127373177,
                    0.4899820498136674,
                    0.49148968689001715,
                    0.4929973239663669,
                    0.4945049610427167,
                    0.4960125981190664,
                    0.49752023519541616,
                    0.49902787227176587,
                    0.5005355093481157,
                    0.5020431464244653,
                    0.5035507835008151,
                    0.5050584205771649,
                    0.5065660576535146,
                    0.5080736947298644,
                    0.5095813318062141,
                    0.5110889688825638,
                    0.5125966059589135,
                    0.5141042430352634,
                    0.5156118801116132,
                    0.5171195171879628,
                    0.5186271542643126,
                    0.5201347913406623,
                    0.521642428417012,
                    0.5231500654933618,
                    0.5246577025697117,
                    0.5261653396460614,
                    0.527672976722411,
                    0.5291806137987608,
                    0.5306882508751105,
                    0.5321958879514603,
                    0.53370352502781,
                    0.5352111621041598,
                    0.5367187991805096,
                    0.5382264362568593,
                    0.539734073333209,
                    0.5412417104095588,
                    0.5427493474859085,
                    0.5442569845622582,
                    0.5457646216386081,
                    0.5472722587149578,
                    0.5487798957913076,
                    0.5502875328676572,
                    0.551795169944007,
                    0.5533028070203567,
                    0.5548104440967064,
                    0.5563180811730561,
                    0.557825718249406,
                    0.5593333553257557,
                    0.5608409924021056,
                    0.5623486294784552,
                    0.563856266554805,
                    0.5653639036311547,
                    0.5668715407075045,
                    0.5683791777838543,
                    0.569886814860204,
                    0.5713944519365537,
                    0.5729020890129034,
                    0.5744097260892531,
                    0.5759173631656029,
                    0.5774250002419526,
                    0.5789326373183024,
                    0.5804402743946522,
                    0.5819479114710019,
                    0.5834555485473516,
                    0.5849631856237013,
                    0.5864708227000511,
                    0.5879784597764008,
                    0.5894860968527507,
                    0.5909937339291004,
                    0.5925013710054502,
                    0.5940090080817999,
                    0.5955166451581496,
                    0.5970242822344994,
                    0.598531919310849,
                    0.6000395563871989,
                    0.6015471934635486,
                    0.6030548305398984
                  ],
                  "y": [
                    0.02,
                    0.020803432070163826,
                    0.021606864140327652,
                    0.022410296210491478,
                    0.023213728280655304,
                    0.02401716035081913,
                    0.024820592420982956,
                    0.02562402449114678,
                    0.026427456561310608,
                    0.027230888631474433,
                    0.02803432070163826,
                    0.028837752771802085,
                    0.029641184841965915,
                    0.030444616912129737,
                    0.031248048982293566,
                    0.03205148105245739,
                    0.03285491312262122,
                    0.033658345192785044,
                    0.03446177726294887,
                    0.035265209333112696,
                    0.03606864140327652,
                    0.03687207347344035,
                    0.037675505543604174,
                    0.038478937613768,
                    0.039282369683931825,
                    0.04008580175409565,
                    0.04088923382425948,
                    0.0416926658944233,
                    0.04249609796458713,
                    0.043299530034750955,
                    0.04410296210491478,
                    0.04490639417507861,
                    0.04570982624524243,
                    0.04651325831540626,
                    0.047316690385570084,
                    0.04812012245573391,
                    0.048923554525897736,
                    0.04972698659606156,
                    0.05053041866622539,
                    0.051333850736389214,
                    0.05213728280655304,
                    0.052940714876716866,
                    0.05374414694688069,
                    0.05454757901704452,
                    0.05535101108720834,
                    0.05615444315737217,
                    0.056957875227535995,
                    0.05776130729769982,
                    0.05856473936786365,
                    0.05936817143802747,
                    0.0601716035081913,
                    0.060975035578355125,
                    0.06177846764851895,
                    0.06258189971868278,
                    0.0633853317888466,
                    0.06418876385901043,
                    0.06499219592917425,
                    0.06579562799933808,
                    0.0665990600695019,
                    0.06740249213966573,
                    0.06820592420982956,
                    0.06900935627999338,
                    0.06981278835015721,
                    0.07061622042032104,
                    0.07141965249048486,
                    0.07222308456064869,
                    0.07302651663081253,
                    0.07382994870097634,
                    0.07463338077114016,
                    0.07543681284130399,
                    0.07624024491146782,
                    0.07704367698163164,
                    0.07784710905179547,
                    0.0786505411219593,
                    0.07945397319212312,
                    0.08025740526228695,
                    0.08106083733245077,
                    0.08186426940261461,
                    0.08266770147277842,
                    0.08347113354294225,
                    0.08427456561310608,
                    0.08507799768326992,
                    0.08588142975343373,
                    0.08668486182359757,
                    0.08748829389376138,
                    0.0882917259639252,
                    0.08909515803408903,
                    0.08989859010425287,
                    0.09070202217441668,
                    0.09150545424458052,
                    0.09230888631474435,
                    0.09311231838490816,
                    0.093915750455072,
                    0.09471918252523583,
                    0.09552261459539965,
                    0.09632604666556346,
                    0.0971294787357273,
                    0.09793291080589113,
                    0.09873634287605494,
                    0.09953977494621878,
                    0.1003432070163826,
                    0.10114663908654642,
                    0.10195007115671025,
                    0.10275350322687407,
                    0.1035569352970379,
                    0.10436036736720174,
                    0.10516379943736556,
                    0.10596723150752937,
                    0.10677066357769321,
                    0.10757409564785704,
                    0.10837752771802085,
                    0.10918095978818469,
                    0.10998439185834852,
                    0.11078782392851234,
                    0.11159125599867617,
                    0.11239468806884,
                    0.11319812013900381,
                    0.11400155220916763,
                    0.11480498427933146,
                    0.11560841634949529,
                    0.11641184841965913,
                    0.11721528048982294,
                    0.11801871255998676,
                    0.1188221446301506,
                    0.11962557670031441,
                    0.12042900877047825,
                    0.12123244084064207,
                    0.1220358729108059,
                    0.12283930498096973,
                    0.12364273705113356,
                    0.12444616912129738,
                    0.1252496011914612,
                    0.12605303326162504,
                    0.12685646533178885,
                    0.1276598974019527,
                    0.1284633294721165,
                    0.12926676154228034,
                    0.13007019361244415,
                    0.130873625682608,
                    0.13167705775277183,
                    0.13248048982293564,
                    0.13328392189309946,
                    0.13408735396326327,
                    0.13489078603342708,
                    0.13569421810359095,
                    0.13649765017375473,
                    0.1373010822439186,
                    0.13810451431408238,
                    0.13890794638424625,
                    0.13971137845441006,
                    0.14051481052457387,
                    0.14131824259473771,
                    0.14212167466490153,
                    0.14292510673506537,
                    0.1437285388052292,
                    0.14453197087539302,
                    0.14533540294555683,
                    0.14613883501572067,
                    0.14694226708588448,
                    0.14774569915604832,
                    0.14854913122621213,
                    0.14935256329637597,
                    0.1501559953665398,
                    0.15095942743670362,
                    0.15176285950686744,
                    0.15256629157703128,
                    0.15336972364719512,
                    0.15417315571735893,
                    0.15497658778752274,
                    0.15578001985768658,
                    0.1565834519278504,
                    0.15738688399801423,
                    0.15819031606817804,
                    0.15899374813834188,
                    0.15979718020850572,
                    0.16060061227866954,
                    0.16140404434883335,
                    0.1622074764189972,
                    0.16301090848916103,
                    0.1638143405593248,
                    0.16461777262948868,
                    0.1654212046996525,
                    0.1662246367698163,
                    0.16702806883998014,
                    0.16783150091014398,
                    0.1686349329803078,
                    0.16943836505047163,
                    0.17024179712063545,
                    0.17104522919079929,
                    0.1718486612609631,
                    0.1726520933311269,
                    0.17345552540129078,
                    0.1742589574714546,
                    0.17506238954161837,
                    0.17586582161178224,
                    0.17666925368194603,
                    0.17747268575210987,
                    0.1782761178222737,
                    0.17907954989243755,
                    0.17988298196260136,
                    0.18068641403276517,
                    0.181489846102929,
                    0.18229327817309282,
                    0.18309671024325666,
                    0.18390014231342047,
                    0.1847035743835843,
                    0.18550700645374812,
                    0.18631043852391194,
                    0.18711387059407578,
                    0.1879173026642396,
                    0.18872073473440346,
                    0.18952416680456727,
                    0.1903275988747311,
                    0.19113103094489492,
                    0.19193446301505873,
                    0.19273789508522257,
                    0.1935413271553864,
                    0.1943447592255502,
                    0.19514819129571406,
                    0.19595162336587787,
                    0.1967550554360417,
                    0.19755848750620553,
                    0.19836191957636937,
                    0.19916535164653318,
                    0.19996878371669702,
                    0.20077221578686083,
                    0.20157564785702467,
                    0.20237907992718848,
                    0.20318251199735232,
                    0.20398594406751613,
                    0.20478937613767997,
                    0.20559280820784379,
                    0.2063962402780076,
                    0.20719967234817144,
                    0.20800310441833525,
                    0.20880653648849912,
                    0.2096099685586629,
                    0.21041340062882677,
                    0.21121683269899055,
                    0.2120202647691544,
                    0.21282369683931823,
                    0.21362712890948202,
                    0.21443056097964586,
                    0.2152339930498097,
                    0.2160374251199735,
                    0.21684085719013735,
                    0.2176442892603012,
                    0.21844772133046503,
                    0.2192511534006288,
                    0.22005458547079265,
                    0.2208580175409565,
                    0.22166144961112033,
                    0.22246488168128412,
                    0.22326831375144798,
                    0.2240717458216118,
                    0.2248751778917756,
                    0.22567860996193945,
                    0.22648204203210323,
                    0.2272854741022671,
                    0.2280889061724309,
                    0.22889233824259475,
                    0.22969577031275856,
                    0.2304992023829224,
                    0.23130263445308621,
                    0.23210606652325008,
                    0.23290949859341387,
                    0.23371293066357768,
                    0.23451636273374152,
                    0.23531979480390536,
                    0.23612322687406914,
                    0.236926658944233,
                    0.23773009101439682,
                    0.23853352308456066,
                    0.23933695515472445,
                    0.2401403872248883,
                    0.24094381929505213,
                    0.24174725136521596,
                    0.24255068343537978,
                    0.24335411550554364,
                    0.2441575475757074,
                    0.24496097964587127,
                    0.24576441171603508,
                    0.2465678437861989,
                    0.24737127585636276,
                    0.24817470792652654,
                    0.2489781399966904,
                    0.24978157206685417,
                    0.25058500413701806,
                    0.2513884362071819,
                    0.25219186827734574,
                    0.2529953003475095,
                    0.25379873241767337,
                    0.2546021644878372,
                    0.25540559655800105,
                    0.2562090286281648,
                    0.25701246069832867,
                    0.2578158927684925,
                    0.25861932483865635,
                    0.2594227569088201,
                    0.260226188978984,
                    0.2610296210491478,
                    0.26183305311931165,
                    0.26263648518947547,
                    0.2634399172596393,
                    0.2642433493298031,
                    0.26504678139996696,
                    0.26585021347013077,
                    0.26665364554029464,
                    0.26745707761045845,
                    0.2682605096806222,
                    0.2690639417507861,
                    0.26986737382094983,
                    0.2706708058911137,
                    0.27147423796127756,
                    0.2722776700314414,
                    0.2730811021016052,
                    0.273884534171769,
                    0.2746879662419328,
                    0.2754913983120967,
                    0.2762948303822605,
                    0.2770982624524243,
                    0.2779016945225881,
                    0.278705126592752,
                    0.2795085586629158,
                    0.28031199073307966,
                    0.2811154228032435,
                    0.2819188548734073,
                    0.2827222869435711,
                    0.2835257190137349,
                    0.2843291510838987,
                    0.2851325831540626,
                    0.2859360152242264,
                    0.28673944729439027,
                    0.2875428793645541,
                    0.2883463114347179,
                    0.2891497435048817,
                    0.2899531755750455,
                    0.2907566076452094,
                    0.2915600397153732,
                    0.292363471785537,
                    0.2931669038557008,
                    0.2939703359258647,
                    0.2947737679960285,
                    0.2955772000661923,
                    0.2963806321363561,
                    0.29718406420652,
                    0.2979874962766838,
                    0.2987909283468476,
                    0.2995943604170115,
                    0.3003977924871753,
                    0.3012012245573391,
                    0.302004656627503,
                    0.30280808869766673,
                    0.3036115207678306,
                    0.3044149528379944,
                    0.3052183849081582,
                    0.3060218169783221,
                    0.30682524904848596,
                    0.30762868111864966,
                    0.30843211318881353,
                    0.3092355452589774,
                    0.3100389773291412,
                    0.310842409399305,
                    0.31164584146946883,
                    0.31244927353963264,
                    0.31325270560979646,
                    0.3140561376799603,
                    0.3148595697501242,
                    0.315663001820288,
                    0.31646643389045176,
                    0.3172698659606156,
                    0.31807329803077944,
                    0.3188767301009433,
                    0.31968016217110706,
                    0.32048359424127093,
                    0.32128702631143474,
                    0.3220904583815986,
                    0.3228938904517624,
                    0.32369732252192623,
                    0.32450075459209005,
                    0.32530418666225386,
                    0.3261076187324177,
                    0.3269110508025816,
                    0.32771448287274535,
                    0.3285179149429092,
                    0.329321347013073,
                    0.3301247790832368,
                    0.33092821115340065,
                    0.3317316432235645,
                    0.3325350752937284,
                    0.3333385073638921,
                    0.33414193943405596,
                    0.33494537150421977,
                    0.3357488035743836,
                    0.33655223564454745,
                    0.33735566771471126,
                    0.33815909978487513,
                    0.3389625318550389,
                    0.33976596392520275,
                    0.3405693959953666,
                    0.3413728280655304
                  ]
                },
                {
                  "fill": "toself",
                  "fillcolor": "rgba(0, 0, 255, 0.1)",
                  "hoverinfo": "skip",
                  "line": {
                    "color": "rgba(0, 0, 255, 0)"
                  },
                  "showlegend": false,
                  "type": "scatter",
                  "x": [
                    0.1302337007913036,
                    0.13040152668314886,
                    0.131184042540832,
                    0.13168324508397564,
                    0.13322862585782408,
                    0.13404690763106034,
                    0.13631822333652435,
                    0.13743670321317691,
                    0.14038385524818092,
                    0.1417790494742327,
                    0.14534363814804938,
                    0.14698955025640498,
                    0.15110955304325813,
                    0.15297952292511802,
                    0.15759314206782155,
                    0.15966126179905518,
                    0.16470967599912628,
                    0.1669517299676448,
                    0.17238078153819505,
                    0.17477476732688146,
                    0.18053577998489367,
                    0.1830621096354866,
                    0.18911208158349418,
                    0.1917535663534776,
                    0.19805496328540612,
                    0.2007966682228899,
                    0.20731699182213265,
                    0.21014602367069035,
                    0.21685727852536119,
                    0.2197625493455257,
                    0.22664068684975167,
                    0.22961267922338277,
                    0.2366370642082121,
                    0.23966761224764765,
                    0.24682053584231808,
                    0.2499026286294138,
                    0.2571688768201738,
                    0.2602964862735297,
                    0.26766296537149803,
                    0.27083089792683207,
                    0.27828631370053203,
                    0.2814900838616091,
                    0.2890246689984288,
                    0.29226039226694844,
                    0.29986567613070514,
                    0.303129978719853,
                    0.31079859344606403,
                    0.3140885363148738,
                    0.32181405374817285,
                    0.32512706873650826,
                    0.3329038633399516,
                    0.3362376994642655,
                    0.344060832991132,
                    0.347413511239708,
                    0.3552786355883103,
                    0.3586484108118099,
                    0.3665516860518913,
                    0.36993701477254776,
                    0.377875039827362,
                    0.38127455298624985,
                    0.3892443068776084,
                    0.39265678670558907,
                    0.40065557862556017,
                    0.4040799389627075,
                    0.412105365733071,
                    0.4155406352371636,
                    0.4235905449644117,
                    0.4270358527448943,
                    0.43510831368242026,
                    0.4385628769753153,
                    0.446656150772521,
                    0.45011926433693716,
                    0.4582317829934362,
                    0.4617028099639837,
                    0.4698331559211372,
                    0.4733115198947781,
                    0.48145840879077045,
                    0.48494358696308604,
                    0.49310585265530876,
                    0.496597369851268,
                    0.5047739513738309,
                    0.5082713748430291,
                    0.5164613050202651,
                    0.5199642398872273,
                    0.5281666353680184,
                    0.5316747206452782,
                    0.5398887731595876,
                    0.5434016782454946,
                    0.55162664691493,
                    0.5551440685100214,
                    0.5633792730696671,
                    0.5751457472653846,
                    0.5869252366404613,
                    0.5987169729918461,
                    0.6105202466967244,
                    0.6223344012986854,
                    0.6341588286762316,
                    0.6459929647227441,
                    0.6578362854765643,
                    0.6696883036480332,
                    0.6815485654972874,
                    0.1302337007913036
                  ],
                  "y": [
                    0.07874999999999996,
                    0.08199999999999996,
                    0.07549999999999996,
                    0.08524999999999996,
                    0.07224999999999995,
                    0.08849999999999997,
                    0.06899999999999998,
                    0.09174999999999997,
                    0.06574999999999998,
                    0.09499999999999995,
                    0.06249999999999997,
                    0.09824999999999995,
                    0.05924999999999997,
                    0.10149999999999995,
                    0.055999999999999966,
                    0.10474999999999995,
                    0.052749999999999964,
                    0.10799999999999996,
                    0.04949999999999996,
                    0.11124999999999996,
                    0.04624999999999996,
                    0.11449999999999996,
                    0.042999999999999955,
                    0.11774999999999997,
                    0.03974999999999998,
                    0.12099999999999997,
                    0.03649999999999998,
                    0.12424999999999994,
                    0.033249999999999974,
                    0.12749999999999995,
                    0.02999999999999997,
                    0.13074999999999995,
                    0.026749999999999968,
                    0.13399999999999995,
                    0.023499999999999965,
                    0.13724999999999996,
                    0.020249999999999976,
                    0.14049999999999996,
                    0.016999999999999973,
                    0.14374999999999996,
                    0.01374999999999997,
                    0.14699999999999994,
                    0.010499999999999982,
                    0.15024999999999997,
                    0.007249999999999979,
                    0.15349999999999994,
                    0.003999999999999976,
                    0.15674999999999997,
                    0.0007499999999999729,
                    0.15999999999999995,
                    -0.00250000000000003,
                    0.16324999999999992,
                    -0.005750000000000019,
                    0.16649999999999995,
                    -0.009000000000000022,
                    0.16974999999999993,
                    -0.012250000000000025,
                    0.17299999999999996,
                    -0.015500000000000014,
                    0.17624999999999993,
                    -0.018750000000000017,
                    0.17949999999999997,
                    -0.02200000000000002,
                    0.18274999999999994,
                    -0.025250000000000022,
                    0.18599999999999992,
                    -0.028500000000000025,
                    0.18924999999999995,
                    -0.031750000000000014,
                    0.19249999999999992,
                    -0.03500000000000002,
                    0.19574999999999995,
                    -0.03825000000000002,
                    0.19899999999999993,
                    -0.041500000000000016,
                    0.20224999999999996,
                    -0.04475000000000001,
                    0.20549999999999993,
                    -0.048000000000000015,
                    0.20874999999999996,
                    -0.05125000000000002,
                    0.21199999999999994,
                    -0.054500000000000014,
                    0.2152499999999999,
                    -0.05775000000000001,
                    0.21849999999999994,
                    -0.06100000000000001,
                    0.22174999999999992,
                    -0.06425000000000002,
                    0.22499999999999998,
                    -0.0675,
                    -0.07075000000000001,
                    -0.07400000000000001,
                    -0.07725000000000001,
                    -0.08050000000000002,
                    -0.08375,
                    -0.08700000000000001,
                    -0.09025000000000001,
                    -0.0935,
                    -0.09675,
                    -0.1,
                    0.07874999999999996
                  ]
                }
              ],
              "layout": {
                "height": 300,
                "margin": {
                  "b": 60,
                  "l": 60,
                  "r": 60,
                  "t": 30
                },
                "modebar": {
                  "remove": [
                    "zoom",
                    "pan",
                    "select",
                    "zoomIn",
                    "zoomOut",
                    "autoScale",
                    "resetScale",
                    "toImage",
                    "sendDataToCloud",
                    "toggleSpikelines",
                    "hoverClosestCartesian",
                    "hoverCompareCartesian"
                  ]
                },
                "paper_bgcolor": "rgba(255, 240, 230, 0.8)",
                "plot_bgcolor": "rgba(235, 245, 255, 0.7)",
                "showlegend": false,
                "template": {
                  "data": {
                    "bar": [
                      {
                        "error_x": {
                          "color": "#2a3f5f"
                        },
                        "error_y": {
                          "color": "#2a3f5f"
                        },
                        "marker": {
                          "line": {
                            "color": "white",
                            "width": 0.5
                          },
                          "pattern": {
                            "fillmode": "overlay",
                            "size": 10,
                            "solidity": 0.2
                          }
                        },
                        "type": "bar"
                      }
                    ],
                    "barpolar": [
                      {
                        "marker": {
                          "line": {
                            "color": "white",
                            "width": 0.5
                          },
                          "pattern": {
                            "fillmode": "overlay",
                            "size": 10,
                            "solidity": 0.2
                          }
                        },
                        "type": "barpolar"
                      }
                    ],
                    "carpet": [
                      {
                        "aaxis": {
                          "endlinecolor": "#2a3f5f",
                          "gridcolor": "#C8D4E3",
                          "linecolor": "#C8D4E3",
                          "minorgridcolor": "#C8D4E3",
                          "startlinecolor": "#2a3f5f"
                        },
                        "baxis": {
                          "endlinecolor": "#2a3f5f",
                          "gridcolor": "#C8D4E3",
                          "linecolor": "#C8D4E3",
                          "minorgridcolor": "#C8D4E3",
                          "startlinecolor": "#2a3f5f"
                        },
                        "type": "carpet"
                      }
                    ],
                    "choropleth": [
                      {
                        "colorbar": {
                          "outlinewidth": 0,
                          "ticks": ""
                        },
                        "type": "choropleth"
                      }
                    ],
                    "contour": [
                      {
                        "colorbar": {
                          "outlinewidth": 0,
                          "ticks": ""
                        },
                        "colorscale": [
                          [
                            0,
                            "#0d0887"
                          ],
                          [
                            0.1111111111111111,
                            "#46039f"
                          ],
                          [
                            0.2222222222222222,
                            "#7201a8"
                          ],
                          [
                            0.3333333333333333,
                            "#9c179e"
                          ],
                          [
                            0.4444444444444444,
                            "#bd3786"
                          ],
                          [
                            0.5555555555555556,
                            "#d8576b"
                          ],
                          [
                            0.6666666666666666,
                            "#ed7953"
                          ],
                          [
                            0.7777777777777778,
                            "#fb9f3a"
                          ],
                          [
                            0.8888888888888888,
                            "#fdca26"
                          ],
                          [
                            1,
                            "#f0f921"
                          ]
                        ],
                        "type": "contour"
                      }
                    ],
                    "contourcarpet": [
                      {
                        "colorbar": {
                          "outlinewidth": 0,
                          "ticks": ""
                        },
                        "type": "contourcarpet"
                      }
                    ],
                    "heatmap": [
                      {
                        "colorbar": {
                          "outlinewidth": 0,
                          "ticks": ""
                        },
                        "colorscale": [
                          [
                            0,
                            "#0d0887"
                          ],
                          [
                            0.1111111111111111,
                            "#46039f"
                          ],
                          [
                            0.2222222222222222,
                            "#7201a8"
                          ],
                          [
                            0.3333333333333333,
                            "#9c179e"
                          ],
                          [
                            0.4444444444444444,
                            "#bd3786"
                          ],
                          [
                            0.5555555555555556,
                            "#d8576b"
                          ],
                          [
                            0.6666666666666666,
                            "#ed7953"
                          ],
                          [
                            0.7777777777777778,
                            "#fb9f3a"
                          ],
                          [
                            0.8888888888888888,
                            "#fdca26"
                          ],
                          [
                            1,
                            "#f0f921"
                          ]
                        ],
                        "type": "heatmap"
                      }
                    ],
                    "heatmapgl": [
                      {
                        "colorbar": {
                          "outlinewidth": 0,
                          "ticks": ""
                        },
                        "colorscale": [
                          [
                            0,
                            "#0d0887"
                          ],
                          [
                            0.1111111111111111,
                            "#46039f"
                          ],
                          [
                            0.2222222222222222,
                            "#7201a8"
                          ],
                          [
                            0.3333333333333333,
                            "#9c179e"
                          ],
                          [
                            0.4444444444444444,
                            "#bd3786"
                          ],
                          [
                            0.5555555555555556,
                            "#d8576b"
                          ],
                          [
                            0.6666666666666666,
                            "#ed7953"
                          ],
                          [
                            0.7777777777777778,
                            "#fb9f3a"
                          ],
                          [
                            0.8888888888888888,
                            "#fdca26"
                          ],
                          [
                            1,
                            "#f0f921"
                          ]
                        ],
                        "type": "heatmapgl"
                      }
                    ],
                    "histogram": [
                      {
                        "marker": {
                          "pattern": {
                            "fillmode": "overlay",
                            "size": 10,
                            "solidity": 0.2
                          }
                        },
                        "type": "histogram"
                      }
                    ],
                    "histogram2d": [
                      {
                        "colorbar": {
                          "outlinewidth": 0,
                          "ticks": ""
                        },
                        "colorscale": [
                          [
                            0,
                            "#0d0887"
                          ],
                          [
                            0.1111111111111111,
                            "#46039f"
                          ],
                          [
                            0.2222222222222222,
                            "#7201a8"
                          ],
                          [
                            0.3333333333333333,
                            "#9c179e"
                          ],
                          [
                            0.4444444444444444,
                            "#bd3786"
                          ],
                          [
                            0.5555555555555556,
                            "#d8576b"
                          ],
                          [
                            0.6666666666666666,
                            "#ed7953"
                          ],
                          [
                            0.7777777777777778,
                            "#fb9f3a"
                          ],
                          [
                            0.8888888888888888,
                            "#fdca26"
                          ],
                          [
                            1,
                            "#f0f921"
                          ]
                        ],
                        "type": "histogram2d"
                      }
                    ],
                    "histogram2dcontour": [
                      {
                        "colorbar": {
                          "outlinewidth": 0,
                          "ticks": ""
                        },
                        "colorscale": [
                          [
                            0,
                            "#0d0887"
                          ],
                          [
                            0.1111111111111111,
                            "#46039f"
                          ],
                          [
                            0.2222222222222222,
                            "#7201a8"
                          ],
                          [
                            0.3333333333333333,
                            "#9c179e"
                          ],
                          [
                            0.4444444444444444,
                            "#bd3786"
                          ],
                          [
                            0.5555555555555556,
                            "#d8576b"
                          ],
                          [
                            0.6666666666666666,
                            "#ed7953"
                          ],
                          [
                            0.7777777777777778,
                            "#fb9f3a"
                          ],
                          [
                            0.8888888888888888,
                            "#fdca26"
                          ],
                          [
                            1,
                            "#f0f921"
                          ]
                        ],
                        "type": "histogram2dcontour"
                      }
                    ],
                    "mesh3d": [
                      {
                        "colorbar": {
                          "outlinewidth": 0,
                          "ticks": ""
                        },
                        "type": "mesh3d"
                      }
                    ],
                    "parcoords": [
                      {
                        "line": {
                          "colorbar": {
                            "outlinewidth": 0,
                            "ticks": ""
                          }
                        },
                        "type": "parcoords"
                      }
                    ],
                    "pie": [
                      {
                        "automargin": true,
                        "type": "pie"
                      }
                    ],
                    "scatter": [
                      {
                        "fillpattern": {
                          "fillmode": "overlay",
                          "size": 10,
                          "solidity": 0.2
                        },
                        "type": "scatter"
                      }
                    ],
                    "scatter3d": [
                      {
                        "line": {
                          "colorbar": {
                            "outlinewidth": 0,
                            "ticks": ""
                          }
                        },
                        "marker": {
                          "colorbar": {
                            "outlinewidth": 0,
                            "ticks": ""
                          }
                        },
                        "type": "scatter3d"
                      }
                    ],
                    "scattercarpet": [
                      {
                        "marker": {
                          "colorbar": {
                            "outlinewidth": 0,
                            "ticks": ""
                          }
                        },
                        "type": "scattercarpet"
                      }
                    ],
                    "scattergeo": [
                      {
                        "marker": {
                          "colorbar": {
                            "outlinewidth": 0,
                            "ticks": ""
                          }
                        },
                        "type": "scattergeo"
                      }
                    ],
                    "scattergl": [
                      {
                        "marker": {
                          "colorbar": {
                            "outlinewidth": 0,
                            "ticks": ""
                          }
                        },
                        "type": "scattergl"
                      }
                    ],
                    "scattermapbox": [
                      {
                        "marker": {
                          "colorbar": {
                            "outlinewidth": 0,
                            "ticks": ""
                          }
                        },
                        "type": "scattermapbox"
                      }
                    ],
                    "scatterpolar": [
                      {
                        "marker": {
                          "colorbar": {
                            "outlinewidth": 0,
                            "ticks": ""
                          }
                        },
                        "type": "scatterpolar"
                      }
                    ],
                    "scatterpolargl": [
                      {
                        "marker": {
                          "colorbar": {
                            "outlinewidth": 0,
                            "ticks": ""
                          }
                        },
                        "type": "scatterpolargl"
                      }
                    ],
                    "scatterternary": [
                      {
                        "marker": {
                          "colorbar": {
                            "outlinewidth": 0,
                            "ticks": ""
                          }
                        },
                        "type": "scatterternary"
                      }
                    ],
                    "surface": [
                      {
                        "colorbar": {
                          "outlinewidth": 0,
                          "ticks": ""
                        },
                        "colorscale": [
                          [
                            0,
                            "#0d0887"
                          ],
                          [
                            0.1111111111111111,
                            "#46039f"
                          ],
                          [
                            0.2222222222222222,
                            "#7201a8"
                          ],
                          [
                            0.3333333333333333,
                            "#9c179e"
                          ],
                          [
                            0.4444444444444444,
                            "#bd3786"
                          ],
                          [
                            0.5555555555555556,
                            "#d8576b"
                          ],
                          [
                            0.6666666666666666,
                            "#ed7953"
                          ],
                          [
                            0.7777777777777778,
                            "#fb9f3a"
                          ],
                          [
                            0.8888888888888888,
                            "#fdca26"
                          ],
                          [
                            1,
                            "#f0f921"
                          ]
                        ],
                        "type": "surface"
                      }
                    ],
                    "table": [
                      {
                        "cells": {
                          "fill": {
                            "color": "#EBF0F8"
                          },
                          "line": {
                            "color": "white"
                          }
                        },
                        "header": {
                          "fill": {
                            "color": "#C8D4E3"
                          },
                          "line": {
                            "color": "white"
                          }
                        },
                        "type": "table"
                      }
                    ]
                  },
                  "layout": {
                    "annotationdefaults": {
                      "arrowcolor": "#2a3f5f",
                      "arrowhead": 0,
                      "arrowwidth": 1
                    },
                    "autotypenumbers": "strict",
                    "coloraxis": {
                      "colorbar": {
                        "outlinewidth": 0,
                        "ticks": ""
                      }
                    },
                    "colorscale": {
                      "diverging": [
                        [
                          0,
                          "#8e0152"
                        ],
                        [
                          0.1,
                          "#c51b7d"
                        ],
                        [
                          0.2,
                          "#de77ae"
                        ],
                        [
                          0.3,
                          "#f1b6da"
                        ],
                        [
                          0.4,
                          "#fde0ef"
                        ],
                        [
                          0.5,
                          "#f7f7f7"
                        ],
                        [
                          0.6,
                          "#e6f5d0"
                        ],
                        [
                          0.7,
                          "#b8e186"
                        ],
                        [
                          0.8,
                          "#7fbc41"
                        ],
                        [
                          0.9,
                          "#4d9221"
                        ],
                        [
                          1,
                          "#276419"
                        ]
                      ],
                      "sequential": [
                        [
                          0,
                          "#0d0887"
                        ],
                        [
                          0.1111111111111111,
                          "#46039f"
                        ],
                        [
                          0.2222222222222222,
                          "#7201a8"
                        ],
                        [
                          0.3333333333333333,
                          "#9c179e"
                        ],
                        [
                          0.4444444444444444,
                          "#bd3786"
                        ],
                        [
                          0.5555555555555556,
                          "#d8576b"
                        ],
                        [
                          0.6666666666666666,
                          "#ed7953"
                        ],
                        [
                          0.7777777777777778,
                          "#fb9f3a"
                        ],
                        [
                          0.8888888888888888,
                          "#fdca26"
                        ],
                        [
                          1,
                          "#f0f921"
                        ]
                      ],
                      "sequentialminus": [
                        [
                          0,
                          "#0d0887"
                        ],
                        [
                          0.1111111111111111,
                          "#46039f"
                        ],
                        [
                          0.2222222222222222,
                          "#7201a8"
                        ],
                        [
                          0.3333333333333333,
                          "#9c179e"
                        ],
                        [
                          0.4444444444444444,
                          "#bd3786"
                        ],
                        [
                          0.5555555555555556,
                          "#d8576b"
                        ],
                        [
                          0.6666666666666666,
                          "#ed7953"
                        ],
                        [
                          0.7777777777777778,
                          "#fb9f3a"
                        ],
                        [
                          0.8888888888888888,
                          "#fdca26"
                        ],
                        [
                          1,
                          "#f0f921"
                        ]
                      ]
                    },
                    "colorway": [
                      "#636efa",
                      "#EF553B",
                      "#00cc96",
                      "#ab63fa",
                      "#FFA15A",
                      "#19d3f3",
                      "#FF6692",
                      "#B6E880",
                      "#FF97FF",
                      "#FECB52"
                    ],
                    "font": {
                      "color": "#2a3f5f"
                    },
                    "geo": {
                      "bgcolor": "white",
                      "lakecolor": "white",
                      "landcolor": "white",
                      "showlakes": true,
                      "showland": true,
                      "subunitcolor": "#C8D4E3"
                    },
                    "hoverlabel": {
                      "align": "left"
                    },
                    "hovermode": "closest",
                    "mapbox": {
                      "style": "light"
                    },
                    "paper_bgcolor": "white",
                    "plot_bgcolor": "white",
                    "polar": {
                      "angularaxis": {
                        "gridcolor": "#EBF0F8",
                        "linecolor": "#EBF0F8",
                        "ticks": ""
                      },
                      "bgcolor": "white",
                      "radialaxis": {
                        "gridcolor": "#EBF0F8",
                        "linecolor": "#EBF0F8",
                        "ticks": ""
                      }
                    },
                    "scene": {
                      "xaxis": {
                        "backgroundcolor": "white",
                        "gridcolor": "#DFE8F3",
                        "gridwidth": 2,
                        "linecolor": "#EBF0F8",
                        "showbackground": true,
                        "ticks": "",
                        "zerolinecolor": "#EBF0F8"
                      },
                      "yaxis": {
                        "backgroundcolor": "white",
                        "gridcolor": "#DFE8F3",
                        "gridwidth": 2,
                        "linecolor": "#EBF0F8",
                        "showbackground": true,
                        "ticks": "",
                        "zerolinecolor": "#EBF0F8"
                      },
                      "zaxis": {
                        "backgroundcolor": "white",
                        "gridcolor": "#DFE8F3",
                        "gridwidth": 2,
                        "linecolor": "#EBF0F8",
                        "showbackground": true,
                        "ticks": "",
                        "zerolinecolor": "#EBF0F8"
                      }
                    },
                    "shapedefaults": {
                      "line": {
                        "color": "#2a3f5f"
                      }
                    },
                    "ternary": {
                      "aaxis": {
                        "gridcolor": "#DFE8F3",
                        "linecolor": "#A2B1C6",
                        "ticks": ""
                      },
                      "baxis": {
                        "gridcolor": "#DFE8F3",
                        "linecolor": "#A2B1C6",
                        "ticks": ""
                      },
                      "bgcolor": "white",
                      "caxis": {
                        "gridcolor": "#DFE8F3",
                        "linecolor": "#A2B1C6",
                        "ticks": ""
                      }
                    },
                    "title": {
                      "x": 0.05
                    },
                    "xaxis": {
                      "automargin": true,
                      "gridcolor": "#EBF0F8",
                      "linecolor": "#EBF0F8",
                      "ticks": "",
                      "title": {
                        "standoff": 15
                      },
                      "zerolinecolor": "#EBF0F8",
                      "zerolinewidth": 2
                    },
                    "yaxis": {
                      "automargin": true,
                      "gridcolor": "#EBF0F8",
                      "linecolor": "#EBF0F8",
                      "ticks": "",
                      "title": {
                        "standoff": 15
                      },
                      "zerolinecolor": "#EBF0F8",
                      "zerolinewidth": 2
                    }
                  }
                },
                "width": 420,
                "xaxis": {
                  "gridcolor": "rgba(180, 180, 200, 0.2)",
                  "linecolor": "rgba(0, 0, 0, 0.4)",
                  "linewidth": 2,
                  "range": [
                    0,
                    0.5
                  ],
                  "rangemode": "tozero",
                  "showline": true,
                  "tickformat": ".0%",
                  "title": {
                    "font": {
                      "color": "#000000",
                      "family": "Arial, sans-serif",
                      "size": 18,
                      "weight": "bold"
                    },
                    "text": "Standard Deviation"
                  }
                },
                "yaxis": {
                  "gridcolor": "rgba(180, 180, 200, 0.2)",
                  "linecolor": "rgba(0, 0, 0, 0.4)",
                  "linewidth": 2,
                  "rangemode": "tozero",
                  "showline": true,
                  "tickformat": ".0%",
                  "title": {
                    "font": {
                      "color": "#000000",
                      "family": "Arial, sans-serif",
                      "size": 18,
                      "weight": "bold"
                    },
                    "text": "Expected Return"
                  }
                }
              }
            }
          },
          "metadata": {},
          "output_type": "display_data"
        }
      ],
      "source": [
        "import plotly.graph_objects as go\n",
        "import plotly.io as pio\n",
        "plotly_template = pio.templates[\"simple_white\"]\n",
        "colors = plotly_template.layout.colorway\n",
        "\n",
        "# frontier of risky assets\n",
        "string = 'asset 1: %{customdata[0]:.0%}<br>'\n",
        "string += 'asset 2: %{customdata[1]:.0%}<br>'\n",
        "string += 'asset 3: %{customdata[2]:.0%}<br>'\n",
        "string += '<extra></extra>'\n",
        "trace1 = go.Scatter(\n",
        "    x=sds,\n",
        "    y=mns,\n",
        "    mode=\"lines\",\n",
        "    customdata=ports,\n",
        "    hovertemplate=string\n",
        ")\n",
        "\n",
        "# tangency portfolio\n",
        "string = \"tangency portfolio<br>\"\n",
        "string += 'asset 1: %{customdata[0]:.0%}<br>'\n",
        "string += 'asset 2: %{customdata[1]:.0%}<br>'\n",
        "string += 'asset 3: %{customdata[2]:.0%}<br>'\n",
        "string += '<extra></extra>'\n",
        "trace3 = go.Scatter(\n",
        "    x=[tang_sd],\n",
        "    y=[tang_mn],\n",
        "    customdata=tang.reshape(1, -1),\n",
        "    hovertemplate=string,\n",
        "    mode=\"markers\",\n",
        "    marker=dict(size=15)\n",
        ")\n",
        "\n",
        "# frontier including risk-free asset\n",
        "ports = np.arange(0, 4.01, 0.01).reshape(-1, 1) * tang.reshape(1, -1)\n",
        "x = np.sqrt(np.diag(ports @ cov @ ports.T))\n",
        "y = rf + ports @ (mn-rf)\n",
        "string = 'asset 1: %{customdata[0]:.0%}<br>'\n",
        "string += 'asset 2: %{customdata[1]:.0%}<br>'\n",
        "string += 'asset 3: %{customdata[2]:.0%}<br>'\n",
        "string += '<extra></extra>'\n",
        "trace4 = go.Scatter(\n",
        "    x=x,\n",
        "    y=y,\n",
        "    mode=\"lines\",\n",
        "    customdata=ports,\n",
        "    hovertemplate=string,\n",
        "    line=dict(color=colors[5])\n",
        ")\n",
        "\n",
        "fig = go.Figure()\n",
        "for trace in (trace1, trace3, trace4):\n",
        "    fig.add_trace(trace)\n",
        "# Create a filled area between the lower and upper arms of the hyperbola\n",
        "# First, we need to separate the upper and lower parts of the frontier\n",
        "# Sort the points by standard deviation\n",
        "sort_idx = np.argsort(sds)\n",
        "sorted_sds = sds[sort_idx]\n",
        "sorted_mns = mns[sort_idx]\n",
        "sorted_ports = ports[sort_idx]\n",
        "\n",
        "# Find the minimum variance portfolio (lowest x value)\n",
        "min_var_idx = np.argmin(sorted_sds)\n",
        "lower_sds = sorted_sds[:min_var_idx+1]\n",
        "lower_mns = sorted_mns[:min_var_idx+1]\n",
        "upper_sds = sorted_sds[min_var_idx:]\n",
        "upper_mns = sorted_mns[min_var_idx:]\n",
        "\n",
        "# Create a filled area between the upper and lower arms\n",
        "fill_x = np.concatenate([upper_sds, lower_sds[::-1]])\n",
        "fill_y = np.concatenate([upper_mns, lower_mns[::-1]])\n",
        "\n",
        "# Add the filled area\n",
        "fig.add_trace(go.Scatter(\n",
        "    x=fill_x,\n",
        "    y=fill_y,\n",
        "    fill='toself',\n",
        "    fillcolor='rgba(0, 0, 255, 0.1)',\n",
        "    line=dict(color='rgba(0, 0, 255, 0)'),\n",
        "    hoverinfo='skip',\n",
        "    showlegend=False\n",
        "))\n",
        "\n",
        "# Set the figure size to 7 x 5 inches\n",
        "fig.update_layout(\n",
        "    width=420,  # 7 inches * 100 pixels per inch\n",
        "    height=300,  # 5 inches * 100 pixels per inch\n",
        "    margin=dict(l=50, r=50, t=50, b=50),  # Add margins to ensure labels are visible\n",
        ")\n",
        "\n",
        "# Set the upper x limit to 50%\n",
        "fig.update_xaxes(range=[0, 0.5])\n",
        "\n",
        "# Add a background shade to the border of the figure\n",
        "\n",
        "\n",
        "# Style the axis lines to stand out against the background\n",
        "fig.update_xaxes(\n",
        "    showline=True,\n",
        "    linewidth=2,\n",
        "    linecolor='rgba(0, 0, 0, 0.3)',\n",
        "    gridcolor='rgba(200, 200, 200, 0.2)'\n",
        ")\n",
        "\n",
        "# Make the plot lines thicker\n",
        "fig.update_traces(\n",
        "    line=dict(width=5),  # Increase line thickness\n",
        "    selector=dict(type='scatter', mode='lines')\n",
        ")\n",
        "\n",
        "# Make axis labels boldface\n",
        "fig.update_layout(\n",
        "    xaxis_title=dict(\n",
        "        text=\"Standard Deviation\",\n",
        "        font=dict(\n",
        "            family=\"Arial, sans-serif\",\n",
        "            size=18,\n",
        "            color=\"#000000\",\n",
        "            weight=\"bold\"\n",
        "        )\n",
        "    ),\n",
        "    yaxis_title=dict(\n",
        "        text=\"Expected Return\",\n",
        "        font=dict(\n",
        "            family=\"Arial, sans-serif\",\n",
        "            size=18,\n",
        "            color=\"#000000\",\n",
        "            weight=\"bold\"\n",
        "        )\n",
        "    )\n",
        ")\n",
        "\n",
        "\n",
        "fig.update_yaxes(\n",
        "    showline=True,\n",
        "    linewidth=2,\n",
        "    linecolor='rgba(0, 0, 0, 0.3)',\n",
        "    gridcolor='rgba(200, 200, 200, 0.2)'\n",
        ")\n",
        "\n",
        "\n",
        "fig.update_layout(\n",
        "    xaxis_rangemode=\"tozero\",\n",
        "    yaxis_rangemode=\"tozero\",\n",
        "    xaxis_tickformat=\".0%\",\n",
        "    yaxis_tickformat=\".0%\",\n",
        "    template=\"plotly_white\",\n",
        "    showlegend=False\n",
        ")\n",
        "\n",
        "fig.update_layout(\n",
        "    plot_bgcolor='white',  # Keep the plot area white\n",
        "    margin=dict(l=60, r=60, t=30, b=60),  # Slightly increase margins to show more of the background\n",
        ")\n",
        "\n",
        "\n",
        "# Set a light red paper background color\n",
        "fig.update_layout(\n",
        "    paper_bgcolor='rgba(255, 235, 235, 0.5)',  # Light red background with some transparency\n",
        ")\n",
        "\n",
        "\n",
        "\n",
        "# Lighten grid lines further\n",
        "fig.update_xaxes(\n",
        "    gridcolor='rgba(220, 220, 220, 0.1)'  # Lighter grid lines\n",
        ")\n",
        "\n",
        "fig.update_yaxes(\n",
        "    gridcolor='rgba(220, 220, 220, 0.1)'  # Lighter grid lines\n",
        ")\n",
        "\n",
        "# Make axis lines more visible against lighter background\n",
        "fig.update_xaxes(\n",
        "    linecolor='rgba(0, 0, 0, 0.5)'  # Darker axis lines\n",
        ")\n",
        "\n",
        "fig.update_yaxes(\n",
        "    linecolor='rgba(0, 0, 0, 0.5)'  # Darker axis lines\n",
        ")\n",
        "\n",
        "\n",
        "# Set a pleasing color scheme with complementary colors\n",
        "# Light blue for the plot area and soft peach for the border\n",
        "fig.update_layout(\n",
        "    plot_bgcolor='rgba(235, 245, 255, 0.7)',  # Light blue for plot area\n",
        "    paper_bgcolor='rgba(255, 240, 230, 0.8)',  # Soft peach for border\n",
        ")\n",
        "\n",
        "# Adjust grid and axis lines to be visible against the new background\n",
        "fig.update_xaxes(\n",
        "    gridcolor='rgba(180, 180, 200, 0.2)',  # Subtle grid lines that work with blue background\n",
        "    linecolor='rgba(0, 0, 0, 0.4)'  # Darker axis lines for contrast\n",
        ")\n",
        "\n",
        "fig.update_yaxes(\n",
        "    gridcolor='rgba(180, 180, 200, 0.2)',  # Subtle grid lines that work with blue background\n",
        "    linecolor='rgba(0, 0, 0, 0.4)'  # Darker axis lines for contrast\n",
        ")\n",
        "# Remove modebar (the icons at the top of the plot)\n",
        "\n",
        "# Fix the modebar display issue by using the correct property\n",
        "# The 'modebar_display' property doesn't exist - we need to use 'displayModeBar' instead\n",
        "\n",
        "# Fix the modebar display issue by using the correct property\n",
        "# The displayModeBar property is not valid for plotly.graph_objs.Layout\n",
        "# Instead, we need to use the config parameter when calling fig.show()\n",
        "\n",
        "# Remove the incorrect property\n",
        "fig.update_layout(\n",
        "    # Remove specific buttons from the modebar\n",
        "    modebar_remove=['zoom', 'pan', 'select', 'zoomIn', 'zoomOut', 'autoScale', 'resetScale', \n",
        "                    'toImage', 'sendDataToCloud', 'toggleSpikelines', \n",
        "                    'hoverClosestCartesian', 'hoverCompareCartesian']\n",
        ")\n",
        "\n",
        "# We'll set the displayModeBar option in the config parameter of fig.show() below\n",
        "# This is the correct way to hide the modebar in Plotly\n",
        "\n",
        "\n",
        "fig.show()"
      ]
    }
  ],
  "metadata": {
    "colab": {
      "provenance": []
    },
    "kernelspec": {
      "display_name": "Python 3",
      "language": "python",
      "name": "python3"
    },
    "language_info": {
      "codemirror_mode": {
        "name": "ipython",
        "version": 3
      },
      "file_extension": ".py",
      "mimetype": "text/x-python",
      "name": "python",
      "nbconvert_exporter": "python",
      "pygments_lexer": "ipython3",
      "version": "3.13.0"
    },
    "orig_nbformat": 4
  },
  "nbformat": 4,
  "nbformat_minor": 0
}
