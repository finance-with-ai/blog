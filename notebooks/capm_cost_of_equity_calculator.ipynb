{
  "cells": [
    {
      "cell_type": "markdown",
      "metadata": {
        "id": "ds_qg1ywpwbh"
      },
      "source": [
        "---\n",
        "\n",
        "Created for [learn-investments.rice-business.org](https://learn-investments.rice-business.org)\n",
        "    \n",
        "By [Kerry Back](https://kerryback.com) and [Kevin Crotty](https://kevin-crotty.com)\n",
        "    \n",
        "Jones Graduate School of Business, Rice University\n",
        "\n",
        "---\n"
      ]
    },
    {
      "cell_type": "markdown",
      "metadata": {
        "id": "WtykA81Ppwbj"
      },
      "source": [
        "# EXAMPLE TICKER"
      ]
    },
    {
      "cell_type": "code",
      "execution_count": 8,
      "metadata": {
        "id": "IVyYKkv3pwbk"
      },
      "outputs": [],
      "source": [
        "ticker = \"WMT\""
      ]
    },
    {
      "cell_type": "markdown",
      "metadata": {
        "id": "6FSPuoStpwbl"
      },
      "source": [
        "# GET DATA"
      ]
    },
    {
      "cell_type": "code",
      "execution_count": 9,
      "metadata": {
        "id": "5Dqtk1UIpwbm"
      },
      "outputs": [],
      "source": [
        "import pandas as pd\n",
        "import yfinance as yf\n",
        "from pandas_datareader import DataReader as pdr\n",
        "import warnings\n",
        "warnings.simplefilter(action='ignore', category=FutureWarning)\n",
        "\n",
        "# get monthly market excess return and risk-free rate for past 60 months from French's data library\n",
        "ff = pdr('F-F_Research_Data_Factors','famafrench',start=2017)[0]\n",
        "ff = ff.iloc[-60:]\n",
        "\n",
        "# get mean annual market excess return since 1926 from French's data library\n",
        "mprem = pdr('F-F_Research_Data_Factors','famafrench',start=1926)[1]['Mkt-RF'].mean()\n",
        "\n",
        "# get current 3-month Treasury bill yield from FRED\n",
        "rf = pdr('DGS3MO','fred',start=2022).iloc[-1].item()\n",
        "\n",
        "# pull data from yahoo for ticker\n",
        "ret = yf.download(\n",
        "    ticker,\n",
        "    start='2017-01-01',\n",
        "    progress=False,\n",
        "    auto_adjust=False\n",
        "  )['Adj Close']\n",
        "ret = ret.resample('M').last().pct_change()*100\n",
        "ret.index = ret.index.to_period('M')\n",
        "ret.columns = [\"ret\"]\n",
        "\n",
        "# merge with French data, reducing to 60 months in the process\n",
        "df = ff.join(ret,how='left')\n",
        "\n",
        "# compute excess returns for the ticker\n",
        "df['ret'] -= df.RF"
      ]
    },
    {
      "cell_type": "markdown",
      "metadata": {
        "id": "RPndDq21pwbn"
      },
      "source": [
        "# RUN MARKET MODEL REGRESSION"
      ]
    },
    {
      "cell_type": "code",
      "execution_count": 10,
      "metadata": {
        "id": "n9caC2ZBpwbo"
      },
      "outputs": [],
      "source": [
        "import statsmodels.api as sm\n",
        "\n",
        "# run regression of excess return on market excess return and get beta\n",
        "result = sm.OLS(df.ret,sm.add_constant(df['Mkt-RF'])).fit()\n",
        "beta = result.params['Mkt-RF']"
      ]
    },
    {
      "cell_type": "markdown",
      "metadata": {
        "id": "pwf-Wk_Mpwbo"
      },
      "source": [
        "# CALCULATE COST OF EQUITY"
      ]
    },
    {
      "cell_type": "code",
      "execution_count": 11,
      "metadata": {
        "id": "-tmYlv3xpwbp",
        "outputId": "3dfd9a07-d68c-4e87-dad2-c3758f601dd3"
      },
      "outputs": [
        {
          "name": "stdout",
          "output_type": "stream",
          "text": [
            "Beta:\t\t\t0.51\n",
            "Market Risk Premium:\t8.80\n",
            "WMT Risk Premium:\t4.46\n",
            "Risk-free Rate:\t\t4.33\n",
            "WMT Cost of Equity:\t8.79\n"
          ]
        }
      ],
      "source": [
        "# compute cost of equity\n",
        "eret = rf + beta*mprem\n",
        "\n",
        "\n",
        "print(f'Beta:\\t\\t\\t{beta:.2f}')\n",
        "print(f'Market Risk Premium:\\t{mprem:.2f}')\n",
        "print(f'{ticker} Risk Premium:\\t{beta*mprem:.2f}')\n",
        "print(f'Risk-free Rate:\\t\\t{rf:.2f}')\n",
        "print(f'{ticker} Cost of Equity:\\t{eret:.2f}')"
      ]
    },
    {
      "cell_type": "markdown",
      "metadata": {
        "id": "TplrGsPSpwbr"
      },
      "source": [
        "# FIGURE"
      ]
    },
    {
      "cell_type": "code",
      "execution_count": 12,
      "metadata": {
        "id": "5dCLJ_BvUC_A",
        "outputId": "e520da9d-80fc-4480-b7c7-a16d5c0c2a20"
      },
      "outputs": [
        {
          "data": {
            "application/vnd.plotly.v1+json": {
              "config": {
                "plotlyServerURL": "https://plot.ly"
              },
              "data": [
                {
                  "customdata": [
                    [
                      "2020-01"
                    ],
                    [
                      "2020-02"
                    ],
                    [
                      "2020-03"
                    ],
                    [
                      "2020-04"
                    ],
                    [
                      "2020-05"
                    ],
                    [
                      "2020-06"
                    ],
                    [
                      "2020-07"
                    ],
                    [
                      "2020-08"
                    ],
                    [
                      "2020-09"
                    ],
                    [
                      "2020-10"
                    ],
                    [
                      "2020-11"
                    ],
                    [
                      "2020-12"
                    ],
                    [
                      "2021-01"
                    ],
                    [
                      "2021-02"
                    ],
                    [
                      "2021-03"
                    ],
                    [
                      "2021-04"
                    ],
                    [
                      "2021-05"
                    ],
                    [
                      "2021-06"
                    ],
                    [
                      "2021-07"
                    ],
                    [
                      "2021-08"
                    ],
                    [
                      "2021-09"
                    ],
                    [
                      "2021-10"
                    ],
                    [
                      "2021-11"
                    ],
                    [
                      "2021-12"
                    ],
                    [
                      "2022-01"
                    ],
                    [
                      "2022-02"
                    ],
                    [
                      "2022-03"
                    ],
                    [
                      "2022-04"
                    ],
                    [
                      "2022-05"
                    ],
                    [
                      "2022-06"
                    ],
                    [
                      "2022-07"
                    ],
                    [
                      "2022-08"
                    ],
                    [
                      "2022-09"
                    ],
                    [
                      "2022-10"
                    ],
                    [
                      "2022-11"
                    ],
                    [
                      "2022-12"
                    ],
                    [
                      "2023-01"
                    ],
                    [
                      "2023-02"
                    ],
                    [
                      "2023-03"
                    ],
                    [
                      "2023-04"
                    ],
                    [
                      "2023-05"
                    ],
                    [
                      "2023-06"
                    ],
                    [
                      "2023-07"
                    ],
                    [
                      "2023-08"
                    ],
                    [
                      "2023-09"
                    ],
                    [
                      "2023-10"
                    ],
                    [
                      "2023-11"
                    ],
                    [
                      "2023-12"
                    ],
                    [
                      "2024-01"
                    ],
                    [
                      "2024-02"
                    ],
                    [
                      "2024-03"
                    ],
                    [
                      "2024-04"
                    ],
                    [
                      "2024-05"
                    ],
                    [
                      "2024-06"
                    ],
                    [
                      "2024-07"
                    ],
                    [
                      "2024-08"
                    ],
                    [
                      "2024-09"
                    ],
                    [
                      "2024-10"
                    ],
                    [
                      "2024-11"
                    ],
                    [
                      "2024-12"
                    ]
                  ],
                  "hovertemplate": "<b>%{hovertext}</b><br><br><extra></extra>",
                  "hovertext": [
                    "2020-01",
                    "2020-02",
                    "2020-03",
                    "2020-04",
                    "2020-05",
                    "2020-06",
                    "2020-07",
                    "2020-08",
                    "2020-09",
                    "2020-10",
                    "2020-11",
                    "2020-12",
                    "2021-01",
                    "2021-02",
                    "2021-03",
                    "2021-04",
                    "2021-05",
                    "2021-06",
                    "2021-07",
                    "2021-08",
                    "2021-09",
                    "2021-10",
                    "2021-11",
                    "2021-12",
                    "2022-01",
                    "2022-02",
                    "2022-03",
                    "2022-04",
                    "2022-05",
                    "2022-06",
                    "2022-07",
                    "2022-08",
                    "2022-09",
                    "2022-10",
                    "2022-11",
                    "2022-12",
                    "2023-01",
                    "2023-02",
                    "2023-03",
                    "2023-04",
                    "2023-05",
                    "2023-06",
                    "2023-07",
                    "2023-08",
                    "2023-09",
                    "2023-10",
                    "2023-11",
                    "2023-12",
                    "2024-01",
                    "2024-02",
                    "2024-03",
                    "2024-04",
                    "2024-05",
                    "2024-06",
                    "2024-07",
                    "2024-08",
                    "2024-09",
                    "2024-10",
                    "2024-11",
                    "2024-12"
                  ],
                  "legendgroup": "",
                  "marker": {
                    "color": "#636efa",
                    "line": {
                      "color": "DarkSlateGrey",
                      "width": 2
                    },
                    "size": 12,
                    "symbol": "circle"
                  },
                  "mode": "markers",
                  "name": "",
                  "orientation": "v",
                  "showlegend": false,
                  "type": "scatter",
                  "x": [
                    -0.0011,
                    -0.08130000000000001,
                    -0.13390000000000002,
                    0.1365,
                    0.0558,
                    0.0246,
                    0.057699999999999994,
                    0.07629999999999999,
                    -0.0363,
                    -0.021,
                    0.1247,
                    0.0463,
                    -0.0003,
                    0.0278,
                    0.0308,
                    0.0493,
                    0.0029,
                    0.0275,
                    0.0127,
                    0.0291,
                    -0.0437,
                    0.0665,
                    -0.0155,
                    0.031,
                    -0.0625,
                    -0.0229,
                    0.030600000000000002,
                    -0.0946,
                    -0.0034000000000000002,
                    -0.08439999999999999,
                    0.09570000000000001,
                    -0.0377,
                    -0.0935,
                    0.0783,
                    0.0461,
                    -0.0641,
                    0.0664,
                    -0.0259,
                    0.025099999999999997,
                    0.0060999999999999995,
                    0.0034999999999999996,
                    0.0647,
                    0.0321,
                    -0.0239,
                    -0.0524,
                    -0.0318,
                    0.0883,
                    0.0487,
                    0.006999999999999999,
                    0.0507,
                    0.028300000000000002,
                    -0.0467,
                    0.0434,
                    0.0277,
                    0.0124,
                    0.0161,
                    0.0174,
                    -0.0097,
                    0.06509999999999999,
                    -0.0317
                  ],
                  "xaxis": "x",
                  "y": [
                    -0.03790374895879314,
                    -0.060681374453633995,
                    0.05853213772210006,
                    0.0697945680809644,
                    0.025039254459283445,
                    -0.03459919479609486,
                    0.08021374875594622,
                    0.07734092909520628,
                    0.007533878457518284,
                    -0.008390901652027504,
                    0.10108915195194611,
                    -0.053199645738104435,
                    -0.025490045423011264,
                    -0.07523651942541698,
                    0.04985453650577476,
                    0.030037382609054752,
                    0.019139214225549983,
                    -0.007110966854431688,
                    0.010849299406826773,
                    0.04275711097494339,
                    -0.058879424055175766,
                    0.07203346843735048,
                    -0.05882753395168228,
                    0.032912688591963495,
                    -0.033727234466425005,
                    -0.03325936101830307,
                    0.10596655988868674,
                    0.02723010286979143,
                    -0.15646994648966342,
                    -0.055408237147891407,
                    0.08531619485603228,
                    0.0062580372175793505,
                    -0.02340137582769973,
                    0.0950787856722863,
                    0.06799145055325896,
                    -0.0695347225776636,
                    0.01116977213707854,
                    -0.015494233071720528,
                    0.0380825315451852,
                    0.02037251829796111,
                    -0.027062208335306988,
                    0.06619815732176626,
                    0.012550653930399397,
                    0.016318655800975527,
                    -0.020781249444465164,
                    0.01705947433194958,
                    -0.05164316044530797,
                    0.012049972545905755,
                    0.043508037199527935,
                    0.059824223767523256,
                    0.025813130802900566,
                    -0.018328065227903607,
                    0.1074385583647934,
                    0.02555327496313863,
                    0.00923508757864328,
                    0.12355280116287207,
                    0.04157816551192273,
                    0.010960595276471322,
                    0.12473703494855526,
                    -0.024779096074700822
                  ],
                  "yaxis": "y"
                },
                {
                  "hovertemplate": "<b>OLS trendline</b><br>ret = 0.506721 * mkt + 0.00931743<br>R<sup>2</sup>=0.243568<br><br><extra></extra>",
                  "legendgroup": "",
                  "marker": {
                    "color": "#636efa",
                    "symbol": "circle"
                  },
                  "mode": "lines",
                  "name": "",
                  "showlegend": false,
                  "type": "scatter",
                  "x": [
                    -0.13390000000000002,
                    -0.0946,
                    -0.0935,
                    -0.08439999999999999,
                    -0.08130000000000001,
                    -0.0641,
                    -0.0625,
                    -0.0524,
                    -0.0467,
                    -0.0437,
                    -0.0377,
                    -0.0363,
                    -0.0318,
                    -0.0317,
                    -0.0259,
                    -0.0239,
                    -0.0229,
                    -0.021,
                    -0.0155,
                    -0.0097,
                    -0.0034000000000000002,
                    -0.0011,
                    -0.0003,
                    0.0029,
                    0.0034999999999999996,
                    0.0060999999999999995,
                    0.006999999999999999,
                    0.0124,
                    0.0127,
                    0.0161,
                    0.0174,
                    0.0246,
                    0.025099999999999997,
                    0.0275,
                    0.0277,
                    0.0278,
                    0.028300000000000002,
                    0.0291,
                    0.030600000000000002,
                    0.0308,
                    0.031,
                    0.0321,
                    0.0434,
                    0.0461,
                    0.0463,
                    0.0487,
                    0.0493,
                    0.0507,
                    0.0558,
                    0.057699999999999994,
                    0.0647,
                    0.06509999999999999,
                    0.0664,
                    0.0665,
                    0.07629999999999999,
                    0.0783,
                    0.0883,
                    0.09570000000000001,
                    0.1247,
                    0.1365
                  ],
                  "xaxis": "x",
                  "y": [
                    -0.05853250918152156,
                    -0.038618374904378285,
                    -0.03806098183300786,
                    -0.033449820969852544,
                    -0.031878985950535906,
                    -0.023163385198198397,
                    -0.022352631639841414,
                    -0.017234749802712994,
                    -0.014346440251066258,
                    -0.012826277329146927,
                    -0.009785951485308258,
                    -0.009076542121745903,
                    -0.006796297738866907,
                    -0.006745625641469593,
                    -0.003806643992425548,
                    -0.002793202044479328,
                    -0.0022864810705062154,
                    -0.0013237112199573058,
                    0.001463254136894807,
                    0.004402235785938851,
                    0.007594577921969451,
                    0.008760036162107607,
                    0.009165412941286095,
                    0.010786920058000051,
                    0.011090952642383918,
                    0.012408427174714007,
                    0.012864476051289805,
                    0.015600769310744608,
                    0.01575278560293654,
                    0.01747563691444512,
                    0.01813437418061016,
                    0.021782765193216563,
                    0.022036125680203116,
                    0.023252256017738584,
                    0.02335360021253321,
                    0.023404272309930516,
                    0.023657632796917072,
                    0.024063009576095563,
                    0.024823091037055232,
                    0.024924435231849854,
                    0.025025779426644475,
                    0.025583172498014894,
                    0.031309119503911055,
                    0.03267726613363845,
                    0.03277861032843307,
                    0.03399474066596854,
                    0.0342987732503524,
                    0.035008182613914765,
                    0.03759245958117763,
                    0.03855522943172654,
                    0.042102276249538315,
                    0.04230496463912756,
                    0.04296370190529261,
                    0.04301437400268992,
                    0.047980239547626403,
                    0.04899368149557263,
                    0.05406089123530374,
                    0.057810626442704766,
                    0.07250553468792499,
                    0.0784848421808077
                  ],
                  "yaxis": "y"
                }
              ],
              "layout": {
                "legend": {
                  "tracegroupgap": 0
                },
                "margin": {
                  "t": 60
                },
                "template": {
                  "data": {
                    "bar": [
                      {
                        "error_x": {
                          "color": "#2a3f5f"
                        },
                        "error_y": {
                          "color": "#2a3f5f"
                        },
                        "marker": {
                          "line": {
                            "color": "#E5ECF6",
                            "width": 0.5
                          },
                          "pattern": {
                            "fillmode": "overlay",
                            "size": 10,
                            "solidity": 0.2
                          }
                        },
                        "type": "bar"
                      }
                    ],
                    "barpolar": [
                      {
                        "marker": {
                          "line": {
                            "color": "#E5ECF6",
                            "width": 0.5
                          },
                          "pattern": {
                            "fillmode": "overlay",
                            "size": 10,
                            "solidity": 0.2
                          }
                        },
                        "type": "barpolar"
                      }
                    ],
                    "carpet": [
                      {
                        "aaxis": {
                          "endlinecolor": "#2a3f5f",
                          "gridcolor": "white",
                          "linecolor": "white",
                          "minorgridcolor": "white",
                          "startlinecolor": "#2a3f5f"
                        },
                        "baxis": {
                          "endlinecolor": "#2a3f5f",
                          "gridcolor": "white",
                          "linecolor": "white",
                          "minorgridcolor": "white",
                          "startlinecolor": "#2a3f5f"
                        },
                        "type": "carpet"
                      }
                    ],
                    "choropleth": [
                      {
                        "colorbar": {
                          "outlinewidth": 0,
                          "ticks": ""
                        },
                        "type": "choropleth"
                      }
                    ],
                    "contour": [
                      {
                        "colorbar": {
                          "outlinewidth": 0,
                          "ticks": ""
                        },
                        "colorscale": [
                          [
                            0,
                            "#0d0887"
                          ],
                          [
                            0.1111111111111111,
                            "#46039f"
                          ],
                          [
                            0.2222222222222222,
                            "#7201a8"
                          ],
                          [
                            0.3333333333333333,
                            "#9c179e"
                          ],
                          [
                            0.4444444444444444,
                            "#bd3786"
                          ],
                          [
                            0.5555555555555556,
                            "#d8576b"
                          ],
                          [
                            0.6666666666666666,
                            "#ed7953"
                          ],
                          [
                            0.7777777777777778,
                            "#fb9f3a"
                          ],
                          [
                            0.8888888888888888,
                            "#fdca26"
                          ],
                          [
                            1,
                            "#f0f921"
                          ]
                        ],
                        "type": "contour"
                      }
                    ],
                    "contourcarpet": [
                      {
                        "colorbar": {
                          "outlinewidth": 0,
                          "ticks": ""
                        },
                        "type": "contourcarpet"
                      }
                    ],
                    "heatmap": [
                      {
                        "colorbar": {
                          "outlinewidth": 0,
                          "ticks": ""
                        },
                        "colorscale": [
                          [
                            0,
                            "#0d0887"
                          ],
                          [
                            0.1111111111111111,
                            "#46039f"
                          ],
                          [
                            0.2222222222222222,
                            "#7201a8"
                          ],
                          [
                            0.3333333333333333,
                            "#9c179e"
                          ],
                          [
                            0.4444444444444444,
                            "#bd3786"
                          ],
                          [
                            0.5555555555555556,
                            "#d8576b"
                          ],
                          [
                            0.6666666666666666,
                            "#ed7953"
                          ],
                          [
                            0.7777777777777778,
                            "#fb9f3a"
                          ],
                          [
                            0.8888888888888888,
                            "#fdca26"
                          ],
                          [
                            1,
                            "#f0f921"
                          ]
                        ],
                        "type": "heatmap"
                      }
                    ],
                    "heatmapgl": [
                      {
                        "colorbar": {
                          "outlinewidth": 0,
                          "ticks": ""
                        },
                        "colorscale": [
                          [
                            0,
                            "#0d0887"
                          ],
                          [
                            0.1111111111111111,
                            "#46039f"
                          ],
                          [
                            0.2222222222222222,
                            "#7201a8"
                          ],
                          [
                            0.3333333333333333,
                            "#9c179e"
                          ],
                          [
                            0.4444444444444444,
                            "#bd3786"
                          ],
                          [
                            0.5555555555555556,
                            "#d8576b"
                          ],
                          [
                            0.6666666666666666,
                            "#ed7953"
                          ],
                          [
                            0.7777777777777778,
                            "#fb9f3a"
                          ],
                          [
                            0.8888888888888888,
                            "#fdca26"
                          ],
                          [
                            1,
                            "#f0f921"
                          ]
                        ],
                        "type": "heatmapgl"
                      }
                    ],
                    "histogram": [
                      {
                        "marker": {
                          "pattern": {
                            "fillmode": "overlay",
                            "size": 10,
                            "solidity": 0.2
                          }
                        },
                        "type": "histogram"
                      }
                    ],
                    "histogram2d": [
                      {
                        "colorbar": {
                          "outlinewidth": 0,
                          "ticks": ""
                        },
                        "colorscale": [
                          [
                            0,
                            "#0d0887"
                          ],
                          [
                            0.1111111111111111,
                            "#46039f"
                          ],
                          [
                            0.2222222222222222,
                            "#7201a8"
                          ],
                          [
                            0.3333333333333333,
                            "#9c179e"
                          ],
                          [
                            0.4444444444444444,
                            "#bd3786"
                          ],
                          [
                            0.5555555555555556,
                            "#d8576b"
                          ],
                          [
                            0.6666666666666666,
                            "#ed7953"
                          ],
                          [
                            0.7777777777777778,
                            "#fb9f3a"
                          ],
                          [
                            0.8888888888888888,
                            "#fdca26"
                          ],
                          [
                            1,
                            "#f0f921"
                          ]
                        ],
                        "type": "histogram2d"
                      }
                    ],
                    "histogram2dcontour": [
                      {
                        "colorbar": {
                          "outlinewidth": 0,
                          "ticks": ""
                        },
                        "colorscale": [
                          [
                            0,
                            "#0d0887"
                          ],
                          [
                            0.1111111111111111,
                            "#46039f"
                          ],
                          [
                            0.2222222222222222,
                            "#7201a8"
                          ],
                          [
                            0.3333333333333333,
                            "#9c179e"
                          ],
                          [
                            0.4444444444444444,
                            "#bd3786"
                          ],
                          [
                            0.5555555555555556,
                            "#d8576b"
                          ],
                          [
                            0.6666666666666666,
                            "#ed7953"
                          ],
                          [
                            0.7777777777777778,
                            "#fb9f3a"
                          ],
                          [
                            0.8888888888888888,
                            "#fdca26"
                          ],
                          [
                            1,
                            "#f0f921"
                          ]
                        ],
                        "type": "histogram2dcontour"
                      }
                    ],
                    "mesh3d": [
                      {
                        "colorbar": {
                          "outlinewidth": 0,
                          "ticks": ""
                        },
                        "type": "mesh3d"
                      }
                    ],
                    "parcoords": [
                      {
                        "line": {
                          "colorbar": {
                            "outlinewidth": 0,
                            "ticks": ""
                          }
                        },
                        "type": "parcoords"
                      }
                    ],
                    "pie": [
                      {
                        "automargin": true,
                        "type": "pie"
                      }
                    ],
                    "scatter": [
                      {
                        "fillpattern": {
                          "fillmode": "overlay",
                          "size": 10,
                          "solidity": 0.2
                        },
                        "type": "scatter"
                      }
                    ],
                    "scatter3d": [
                      {
                        "line": {
                          "colorbar": {
                            "outlinewidth": 0,
                            "ticks": ""
                          }
                        },
                        "marker": {
                          "colorbar": {
                            "outlinewidth": 0,
                            "ticks": ""
                          }
                        },
                        "type": "scatter3d"
                      }
                    ],
                    "scattercarpet": [
                      {
                        "marker": {
                          "colorbar": {
                            "outlinewidth": 0,
                            "ticks": ""
                          }
                        },
                        "type": "scattercarpet"
                      }
                    ],
                    "scattergeo": [
                      {
                        "marker": {
                          "colorbar": {
                            "outlinewidth": 0,
                            "ticks": ""
                          }
                        },
                        "type": "scattergeo"
                      }
                    ],
                    "scattergl": [
                      {
                        "marker": {
                          "colorbar": {
                            "outlinewidth": 0,
                            "ticks": ""
                          }
                        },
                        "type": "scattergl"
                      }
                    ],
                    "scattermapbox": [
                      {
                        "marker": {
                          "colorbar": {
                            "outlinewidth": 0,
                            "ticks": ""
                          }
                        },
                        "type": "scattermapbox"
                      }
                    ],
                    "scatterpolar": [
                      {
                        "marker": {
                          "colorbar": {
                            "outlinewidth": 0,
                            "ticks": ""
                          }
                        },
                        "type": "scatterpolar"
                      }
                    ],
                    "scatterpolargl": [
                      {
                        "marker": {
                          "colorbar": {
                            "outlinewidth": 0,
                            "ticks": ""
                          }
                        },
                        "type": "scatterpolargl"
                      }
                    ],
                    "scatterternary": [
                      {
                        "marker": {
                          "colorbar": {
                            "outlinewidth": 0,
                            "ticks": ""
                          }
                        },
                        "type": "scatterternary"
                      }
                    ],
                    "surface": [
                      {
                        "colorbar": {
                          "outlinewidth": 0,
                          "ticks": ""
                        },
                        "colorscale": [
                          [
                            0,
                            "#0d0887"
                          ],
                          [
                            0.1111111111111111,
                            "#46039f"
                          ],
                          [
                            0.2222222222222222,
                            "#7201a8"
                          ],
                          [
                            0.3333333333333333,
                            "#9c179e"
                          ],
                          [
                            0.4444444444444444,
                            "#bd3786"
                          ],
                          [
                            0.5555555555555556,
                            "#d8576b"
                          ],
                          [
                            0.6666666666666666,
                            "#ed7953"
                          ],
                          [
                            0.7777777777777778,
                            "#fb9f3a"
                          ],
                          [
                            0.8888888888888888,
                            "#fdca26"
                          ],
                          [
                            1,
                            "#f0f921"
                          ]
                        ],
                        "type": "surface"
                      }
                    ],
                    "table": [
                      {
                        "cells": {
                          "fill": {
                            "color": "#EBF0F8"
                          },
                          "line": {
                            "color": "white"
                          }
                        },
                        "header": {
                          "fill": {
                            "color": "#C8D4E3"
                          },
                          "line": {
                            "color": "white"
                          }
                        },
                        "type": "table"
                      }
                    ]
                  },
                  "layout": {
                    "annotationdefaults": {
                      "arrowcolor": "#2a3f5f",
                      "arrowhead": 0,
                      "arrowwidth": 1
                    },
                    "autotypenumbers": "strict",
                    "coloraxis": {
                      "colorbar": {
                        "outlinewidth": 0,
                        "ticks": ""
                      }
                    },
                    "colorscale": {
                      "diverging": [
                        [
                          0,
                          "#8e0152"
                        ],
                        [
                          0.1,
                          "#c51b7d"
                        ],
                        [
                          0.2,
                          "#de77ae"
                        ],
                        [
                          0.3,
                          "#f1b6da"
                        ],
                        [
                          0.4,
                          "#fde0ef"
                        ],
                        [
                          0.5,
                          "#f7f7f7"
                        ],
                        [
                          0.6,
                          "#e6f5d0"
                        ],
                        [
                          0.7,
                          "#b8e186"
                        ],
                        [
                          0.8,
                          "#7fbc41"
                        ],
                        [
                          0.9,
                          "#4d9221"
                        ],
                        [
                          1,
                          "#276419"
                        ]
                      ],
                      "sequential": [
                        [
                          0,
                          "#0d0887"
                        ],
                        [
                          0.1111111111111111,
                          "#46039f"
                        ],
                        [
                          0.2222222222222222,
                          "#7201a8"
                        ],
                        [
                          0.3333333333333333,
                          "#9c179e"
                        ],
                        [
                          0.4444444444444444,
                          "#bd3786"
                        ],
                        [
                          0.5555555555555556,
                          "#d8576b"
                        ],
                        [
                          0.6666666666666666,
                          "#ed7953"
                        ],
                        [
                          0.7777777777777778,
                          "#fb9f3a"
                        ],
                        [
                          0.8888888888888888,
                          "#fdca26"
                        ],
                        [
                          1,
                          "#f0f921"
                        ]
                      ],
                      "sequentialminus": [
                        [
                          0,
                          "#0d0887"
                        ],
                        [
                          0.1111111111111111,
                          "#46039f"
                        ],
                        [
                          0.2222222222222222,
                          "#7201a8"
                        ],
                        [
                          0.3333333333333333,
                          "#9c179e"
                        ],
                        [
                          0.4444444444444444,
                          "#bd3786"
                        ],
                        [
                          0.5555555555555556,
                          "#d8576b"
                        ],
                        [
                          0.6666666666666666,
                          "#ed7953"
                        ],
                        [
                          0.7777777777777778,
                          "#fb9f3a"
                        ],
                        [
                          0.8888888888888888,
                          "#fdca26"
                        ],
                        [
                          1,
                          "#f0f921"
                        ]
                      ]
                    },
                    "colorway": [
                      "#636efa",
                      "#EF553B",
                      "#00cc96",
                      "#ab63fa",
                      "#FFA15A",
                      "#19d3f3",
                      "#FF6692",
                      "#B6E880",
                      "#FF97FF",
                      "#FECB52"
                    ],
                    "font": {
                      "color": "#2a3f5f"
                    },
                    "geo": {
                      "bgcolor": "white",
                      "lakecolor": "white",
                      "landcolor": "#E5ECF6",
                      "showlakes": true,
                      "showland": true,
                      "subunitcolor": "white"
                    },
                    "hoverlabel": {
                      "align": "left"
                    },
                    "hovermode": "closest",
                    "mapbox": {
                      "style": "light"
                    },
                    "paper_bgcolor": "white",
                    "plot_bgcolor": "#E5ECF6",
                    "polar": {
                      "angularaxis": {
                        "gridcolor": "white",
                        "linecolor": "white",
                        "ticks": ""
                      },
                      "bgcolor": "#E5ECF6",
                      "radialaxis": {
                        "gridcolor": "white",
                        "linecolor": "white",
                        "ticks": ""
                      }
                    },
                    "scene": {
                      "xaxis": {
                        "backgroundcolor": "#E5ECF6",
                        "gridcolor": "white",
                        "gridwidth": 2,
                        "linecolor": "white",
                        "showbackground": true,
                        "ticks": "",
                        "zerolinecolor": "white"
                      },
                      "yaxis": {
                        "backgroundcolor": "#E5ECF6",
                        "gridcolor": "white",
                        "gridwidth": 2,
                        "linecolor": "white",
                        "showbackground": true,
                        "ticks": "",
                        "zerolinecolor": "white"
                      },
                      "zaxis": {
                        "backgroundcolor": "#E5ECF6",
                        "gridcolor": "white",
                        "gridwidth": 2,
                        "linecolor": "white",
                        "showbackground": true,
                        "ticks": "",
                        "zerolinecolor": "white"
                      }
                    },
                    "shapedefaults": {
                      "line": {
                        "color": "#2a3f5f"
                      }
                    },
                    "ternary": {
                      "aaxis": {
                        "gridcolor": "white",
                        "linecolor": "white",
                        "ticks": ""
                      },
                      "baxis": {
                        "gridcolor": "white",
                        "linecolor": "white",
                        "ticks": ""
                      },
                      "bgcolor": "#E5ECF6",
                      "caxis": {
                        "gridcolor": "white",
                        "linecolor": "white",
                        "ticks": ""
                      }
                    },
                    "title": {
                      "x": 0.05
                    },
                    "xaxis": {
                      "automargin": true,
                      "gridcolor": "white",
                      "linecolor": "white",
                      "ticks": "",
                      "title": {
                        "standoff": 15
                      },
                      "zerolinecolor": "white",
                      "zerolinewidth": 2
                    },
                    "yaxis": {
                      "automargin": true,
                      "gridcolor": "white",
                      "linecolor": "white",
                      "ticks": "",
                      "title": {
                        "standoff": 15
                      },
                      "zerolinecolor": "white",
                      "zerolinewidth": 2
                    }
                  }
                },
                "xaxis": {
                  "anchor": "y",
                  "domain": [
                    0,
                    1
                  ],
                  "tickformat": ".0%",
                  "title": {
                    "text": "Market Excess Return"
                  }
                },
                "yaxis": {
                  "anchor": "x",
                  "domain": [
                    0,
                    1
                  ],
                  "tickformat": ".0%",
                  "title": {
                    "text": "WMT Excess Return"
                  }
                }
              }
            }
          },
          "metadata": {},
          "output_type": "display_data"
        }
      ],
      "source": [
        "import plotly.express as px\n",
        "\n",
        "df = df[[\"Mkt-RF\", \"ret\"]].reset_index()\n",
        "df.columns = [\"date\", \"mkt\", \"ret\"]\n",
        "df[\"date\"] = df.date.astype(str)\n",
        "df['mkt'] = df['mkt']/100\n",
        "df['ret'] = df['ret']/100\n",
        "\n",
        "fig = px.scatter(\n",
        "    df,\n",
        "    x=\"mkt\",\n",
        "    y=\"ret\",\n",
        "    trendline=\"ols\",\n",
        "    hover_data=dict(ret=False, mkt=False, date=False),\n",
        "    hover_name=\"date\",\n",
        ")\n",
        "\n",
        "fig.update_traces(\n",
        "    marker=dict(\n",
        "        size=12,\n",
        "        line=dict(width=2, color=\"DarkSlateGrey\")\n",
        "    ),\n",
        "    selector=dict(mode=\"markers\"),\n",
        ")\n",
        "\n",
        "fig.update_layout(\n",
        "    xaxis_title=\"Market Excess Return\",\n",
        "    yaxis_title=ticker.upper() + \" Excess Return\",\n",
        "    xaxis_tickformat=\".0%\",\n",
        "    yaxis_tickformat=\".0%\",\n",
        "    template=\"plotly\"\n",
        ")\n",
        "fig.show()"
      ]
    },
    {
      "cell_type": "code",
      "execution_count": 13,
      "metadata": {},
      "outputs": [],
      "source": [
        "fig.write_image(\"../posts/05-capm/capm.png\", width=500, height=300)"
      ]
    }
  ],
  "metadata": {
    "colab": {
      "name": "capm cost of equity calculator.ipynb",
      "provenance": []
    },
    "kernelspec": {
      "display_name": "Python 3",
      "name": "python3"
    },
    "language_info": {
      "codemirror_mode": {
        "name": "ipython",
        "version": 3
      },
      "file_extension": ".py",
      "mimetype": "text/x-python",
      "name": "python",
      "nbconvert_exporter": "python",
      "pygments_lexer": "ipython3",
      "version": "3.13.0"
    }
  },
  "nbformat": 4,
  "nbformat_minor": 0
}
