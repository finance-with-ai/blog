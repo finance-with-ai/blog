{
  "cells": [
    {
      "cell_type": "code",
      "execution_count": 20,
      "metadata": {},
      "outputs": [],
      "source": [
        "import numpy as np\n",
        "import matplotlib.pyplot as plt\n",
        "from scipy.stats import triang\n",
        "import random\n",
        "\n",
        "\n",
        "# Set random seed for reproducibility\n",
        "np.random.seed(42)\n",
        "random.seed(42)\n",
        "\n",
        "# Generate 20 random numbers from a tent distribution (using triangular distribution)\n",
        "# Tent distribution with range 0.3 to 1.7 and peak at 1\n",
        "c = (1 - 0.3) / (1.7 - 0.3)  # Calculate c parameter for triangular distribution\n",
        "x = triang.rvs(c, loc=0.3, scale=1.4, size=20)\n",
        "\n",
        "# Generate 20 random numbers from normal distribution with mean 0 and std dev 0.01\n",
        "z = np.random.normal(0, 0.01, 20)\n",
        "\n",
        "# Define y = 0.8*x + z\n",
        "y = 0.08 * x + z\n"
      ]
    },
    {
      "cell_type": "code",
      "execution_count": 32,
      "metadata": {},
      "outputs": [
        {
          "data": {
            "text/plain": [
              "1433.6"
            ]
          },
          "execution_count": 32,
          "metadata": {},
          "output_type": "execute_result"
        }
      ],
      "source": [
        "1024*14/10"
      ]
    },
    {
      "cell_type": "code",
      "execution_count": 31,
      "metadata": {},
      "outputs": [
        {
          "data": {
            "application/vnd.plotly.v1+json": {
              "config": {
                "plotlyServerURL": "https://plot.ly"
              },
              "data": [
                {
                  "marker": {
                    "color": "white",
                    "opacity": 0.7,
                    "size": 12
                  },
                  "mode": "markers",
                  "name": "Data Points",
                  "type": "scatter",
                  "x": [
                    0.9058459511050769,
                    1.4802274363841514,
                    1.1875100615379623,
                    1.0728519429298182,
                    0.6910220807493967,
                    0.690991854044913,
                    0.5385831928800423,
                    1.3378572420431918,
                    1.074774209991578,
                    1.165127235915049,
                    0.44203099805988266,
                    1.5282782923412257,
                    1.2947763432182338,
                    0.7561713805848747,
                    0.7221237589415674,
                    0.7239533224971413,
                    0.8460379090322823,
                    1.0175494911714058,
                    0.9506197954791058,
                    0.834232680949117
                  ],
                  "y": [
                    0.062339364885061914,
                    0.12156066823668486,
                    0.08592056416782488,
                    0.07170511842103254,
                    0.06993825414916728,
                    0.05302158531872769,
                    0.043761937477282624,
                    0.09278109750132078,
                    0.08053810955407441,
                    0.0943194047703026,
                    0.023852544070567586,
                    0.12601924357075478,
                    0.09757572055827066,
                    0.057576772948857206,
                    0.05175283459303143,
                    0.07643904764486069,
                    0.06754806047520324,
                    0.07082685000415347,
                    0.08427503275936035,
                    0.05453017797621913
                  ]
                },
                {
                  "line": {
                    "color": "red",
                    "width": 4
                  },
                  "mode": "lines",
                  "name": "Security Market Line",
                  "type": "scatter",
                  "x": [
                    0,
                    2
                  ],
                  "y": [
                    0,
                    0.16
                  ]
                }
              ],
              "layout": {
                "height": 300,
                "margin": {
                  "b": 60,
                  "l": 60,
                  "r": 60,
                  "t": 60
                },
                "showlegend": false,
                "template": {
                  "data": {
                    "bar": [
                      {
                        "error_x": {
                          "color": "#f2f5fa"
                        },
                        "error_y": {
                          "color": "#f2f5fa"
                        },
                        "marker": {
                          "line": {
                            "color": "rgb(17,17,17)",
                            "width": 0.5
                          },
                          "pattern": {
                            "fillmode": "overlay",
                            "size": 10,
                            "solidity": 0.2
                          }
                        },
                        "type": "bar"
                      }
                    ],
                    "barpolar": [
                      {
                        "marker": {
                          "line": {
                            "color": "rgb(17,17,17)",
                            "width": 0.5
                          },
                          "pattern": {
                            "fillmode": "overlay",
                            "size": 10,
                            "solidity": 0.2
                          }
                        },
                        "type": "barpolar"
                      }
                    ],
                    "carpet": [
                      {
                        "aaxis": {
                          "endlinecolor": "#A2B1C6",
                          "gridcolor": "#506784",
                          "linecolor": "#506784",
                          "minorgridcolor": "#506784",
                          "startlinecolor": "#A2B1C6"
                        },
                        "baxis": {
                          "endlinecolor": "#A2B1C6",
                          "gridcolor": "#506784",
                          "linecolor": "#506784",
                          "minorgridcolor": "#506784",
                          "startlinecolor": "#A2B1C6"
                        },
                        "type": "carpet"
                      }
                    ],
                    "choropleth": [
                      {
                        "colorbar": {
                          "outlinewidth": 0,
                          "ticks": ""
                        },
                        "type": "choropleth"
                      }
                    ],
                    "contour": [
                      {
                        "colorbar": {
                          "outlinewidth": 0,
                          "ticks": ""
                        },
                        "colorscale": [
                          [
                            0,
                            "#0d0887"
                          ],
                          [
                            0.1111111111111111,
                            "#46039f"
                          ],
                          [
                            0.2222222222222222,
                            "#7201a8"
                          ],
                          [
                            0.3333333333333333,
                            "#9c179e"
                          ],
                          [
                            0.4444444444444444,
                            "#bd3786"
                          ],
                          [
                            0.5555555555555556,
                            "#d8576b"
                          ],
                          [
                            0.6666666666666666,
                            "#ed7953"
                          ],
                          [
                            0.7777777777777778,
                            "#fb9f3a"
                          ],
                          [
                            0.8888888888888888,
                            "#fdca26"
                          ],
                          [
                            1,
                            "#f0f921"
                          ]
                        ],
                        "type": "contour"
                      }
                    ],
                    "contourcarpet": [
                      {
                        "colorbar": {
                          "outlinewidth": 0,
                          "ticks": ""
                        },
                        "type": "contourcarpet"
                      }
                    ],
                    "heatmap": [
                      {
                        "colorbar": {
                          "outlinewidth": 0,
                          "ticks": ""
                        },
                        "colorscale": [
                          [
                            0,
                            "#0d0887"
                          ],
                          [
                            0.1111111111111111,
                            "#46039f"
                          ],
                          [
                            0.2222222222222222,
                            "#7201a8"
                          ],
                          [
                            0.3333333333333333,
                            "#9c179e"
                          ],
                          [
                            0.4444444444444444,
                            "#bd3786"
                          ],
                          [
                            0.5555555555555556,
                            "#d8576b"
                          ],
                          [
                            0.6666666666666666,
                            "#ed7953"
                          ],
                          [
                            0.7777777777777778,
                            "#fb9f3a"
                          ],
                          [
                            0.8888888888888888,
                            "#fdca26"
                          ],
                          [
                            1,
                            "#f0f921"
                          ]
                        ],
                        "type": "heatmap"
                      }
                    ],
                    "heatmapgl": [
                      {
                        "colorbar": {
                          "outlinewidth": 0,
                          "ticks": ""
                        },
                        "colorscale": [
                          [
                            0,
                            "#0d0887"
                          ],
                          [
                            0.1111111111111111,
                            "#46039f"
                          ],
                          [
                            0.2222222222222222,
                            "#7201a8"
                          ],
                          [
                            0.3333333333333333,
                            "#9c179e"
                          ],
                          [
                            0.4444444444444444,
                            "#bd3786"
                          ],
                          [
                            0.5555555555555556,
                            "#d8576b"
                          ],
                          [
                            0.6666666666666666,
                            "#ed7953"
                          ],
                          [
                            0.7777777777777778,
                            "#fb9f3a"
                          ],
                          [
                            0.8888888888888888,
                            "#fdca26"
                          ],
                          [
                            1,
                            "#f0f921"
                          ]
                        ],
                        "type": "heatmapgl"
                      }
                    ],
                    "histogram": [
                      {
                        "marker": {
                          "pattern": {
                            "fillmode": "overlay",
                            "size": 10,
                            "solidity": 0.2
                          }
                        },
                        "type": "histogram"
                      }
                    ],
                    "histogram2d": [
                      {
                        "colorbar": {
                          "outlinewidth": 0,
                          "ticks": ""
                        },
                        "colorscale": [
                          [
                            0,
                            "#0d0887"
                          ],
                          [
                            0.1111111111111111,
                            "#46039f"
                          ],
                          [
                            0.2222222222222222,
                            "#7201a8"
                          ],
                          [
                            0.3333333333333333,
                            "#9c179e"
                          ],
                          [
                            0.4444444444444444,
                            "#bd3786"
                          ],
                          [
                            0.5555555555555556,
                            "#d8576b"
                          ],
                          [
                            0.6666666666666666,
                            "#ed7953"
                          ],
                          [
                            0.7777777777777778,
                            "#fb9f3a"
                          ],
                          [
                            0.8888888888888888,
                            "#fdca26"
                          ],
                          [
                            1,
                            "#f0f921"
                          ]
                        ],
                        "type": "histogram2d"
                      }
                    ],
                    "histogram2dcontour": [
                      {
                        "colorbar": {
                          "outlinewidth": 0,
                          "ticks": ""
                        },
                        "colorscale": [
                          [
                            0,
                            "#0d0887"
                          ],
                          [
                            0.1111111111111111,
                            "#46039f"
                          ],
                          [
                            0.2222222222222222,
                            "#7201a8"
                          ],
                          [
                            0.3333333333333333,
                            "#9c179e"
                          ],
                          [
                            0.4444444444444444,
                            "#bd3786"
                          ],
                          [
                            0.5555555555555556,
                            "#d8576b"
                          ],
                          [
                            0.6666666666666666,
                            "#ed7953"
                          ],
                          [
                            0.7777777777777778,
                            "#fb9f3a"
                          ],
                          [
                            0.8888888888888888,
                            "#fdca26"
                          ],
                          [
                            1,
                            "#f0f921"
                          ]
                        ],
                        "type": "histogram2dcontour"
                      }
                    ],
                    "mesh3d": [
                      {
                        "colorbar": {
                          "outlinewidth": 0,
                          "ticks": ""
                        },
                        "type": "mesh3d"
                      }
                    ],
                    "parcoords": [
                      {
                        "line": {
                          "colorbar": {
                            "outlinewidth": 0,
                            "ticks": ""
                          }
                        },
                        "type": "parcoords"
                      }
                    ],
                    "pie": [
                      {
                        "automargin": true,
                        "type": "pie"
                      }
                    ],
                    "scatter": [
                      {
                        "marker": {
                          "line": {
                            "color": "#283442"
                          }
                        },
                        "type": "scatter"
                      }
                    ],
                    "scatter3d": [
                      {
                        "line": {
                          "colorbar": {
                            "outlinewidth": 0,
                            "ticks": ""
                          }
                        },
                        "marker": {
                          "colorbar": {
                            "outlinewidth": 0,
                            "ticks": ""
                          }
                        },
                        "type": "scatter3d"
                      }
                    ],
                    "scattercarpet": [
                      {
                        "marker": {
                          "colorbar": {
                            "outlinewidth": 0,
                            "ticks": ""
                          }
                        },
                        "type": "scattercarpet"
                      }
                    ],
                    "scattergeo": [
                      {
                        "marker": {
                          "colorbar": {
                            "outlinewidth": 0,
                            "ticks": ""
                          }
                        },
                        "type": "scattergeo"
                      }
                    ],
                    "scattergl": [
                      {
                        "marker": {
                          "line": {
                            "color": "#283442"
                          }
                        },
                        "type": "scattergl"
                      }
                    ],
                    "scattermapbox": [
                      {
                        "marker": {
                          "colorbar": {
                            "outlinewidth": 0,
                            "ticks": ""
                          }
                        },
                        "type": "scattermapbox"
                      }
                    ],
                    "scatterpolar": [
                      {
                        "marker": {
                          "colorbar": {
                            "outlinewidth": 0,
                            "ticks": ""
                          }
                        },
                        "type": "scatterpolar"
                      }
                    ],
                    "scatterpolargl": [
                      {
                        "marker": {
                          "colorbar": {
                            "outlinewidth": 0,
                            "ticks": ""
                          }
                        },
                        "type": "scatterpolargl"
                      }
                    ],
                    "scatterternary": [
                      {
                        "marker": {
                          "colorbar": {
                            "outlinewidth": 0,
                            "ticks": ""
                          }
                        },
                        "type": "scatterternary"
                      }
                    ],
                    "surface": [
                      {
                        "colorbar": {
                          "outlinewidth": 0,
                          "ticks": ""
                        },
                        "colorscale": [
                          [
                            0,
                            "#0d0887"
                          ],
                          [
                            0.1111111111111111,
                            "#46039f"
                          ],
                          [
                            0.2222222222222222,
                            "#7201a8"
                          ],
                          [
                            0.3333333333333333,
                            "#9c179e"
                          ],
                          [
                            0.4444444444444444,
                            "#bd3786"
                          ],
                          [
                            0.5555555555555556,
                            "#d8576b"
                          ],
                          [
                            0.6666666666666666,
                            "#ed7953"
                          ],
                          [
                            0.7777777777777778,
                            "#fb9f3a"
                          ],
                          [
                            0.8888888888888888,
                            "#fdca26"
                          ],
                          [
                            1,
                            "#f0f921"
                          ]
                        ],
                        "type": "surface"
                      }
                    ],
                    "table": [
                      {
                        "cells": {
                          "fill": {
                            "color": "#506784"
                          },
                          "line": {
                            "color": "rgb(17,17,17)"
                          }
                        },
                        "header": {
                          "fill": {
                            "color": "#2a3f5f"
                          },
                          "line": {
                            "color": "rgb(17,17,17)"
                          }
                        },
                        "type": "table"
                      }
                    ]
                  },
                  "layout": {
                    "annotationdefaults": {
                      "arrowcolor": "#f2f5fa",
                      "arrowhead": 0,
                      "arrowwidth": 1
                    },
                    "autotypenumbers": "strict",
                    "coloraxis": {
                      "colorbar": {
                        "outlinewidth": 0,
                        "ticks": ""
                      }
                    },
                    "colorscale": {
                      "diverging": [
                        [
                          0,
                          "#8e0152"
                        ],
                        [
                          0.1,
                          "#c51b7d"
                        ],
                        [
                          0.2,
                          "#de77ae"
                        ],
                        [
                          0.3,
                          "#f1b6da"
                        ],
                        [
                          0.4,
                          "#fde0ef"
                        ],
                        [
                          0.5,
                          "#f7f7f7"
                        ],
                        [
                          0.6,
                          "#e6f5d0"
                        ],
                        [
                          0.7,
                          "#b8e186"
                        ],
                        [
                          0.8,
                          "#7fbc41"
                        ],
                        [
                          0.9,
                          "#4d9221"
                        ],
                        [
                          1,
                          "#276419"
                        ]
                      ],
                      "sequential": [
                        [
                          0,
                          "#0d0887"
                        ],
                        [
                          0.1111111111111111,
                          "#46039f"
                        ],
                        [
                          0.2222222222222222,
                          "#7201a8"
                        ],
                        [
                          0.3333333333333333,
                          "#9c179e"
                        ],
                        [
                          0.4444444444444444,
                          "#bd3786"
                        ],
                        [
                          0.5555555555555556,
                          "#d8576b"
                        ],
                        [
                          0.6666666666666666,
                          "#ed7953"
                        ],
                        [
                          0.7777777777777778,
                          "#fb9f3a"
                        ],
                        [
                          0.8888888888888888,
                          "#fdca26"
                        ],
                        [
                          1,
                          "#f0f921"
                        ]
                      ],
                      "sequentialminus": [
                        [
                          0,
                          "#0d0887"
                        ],
                        [
                          0.1111111111111111,
                          "#46039f"
                        ],
                        [
                          0.2222222222222222,
                          "#7201a8"
                        ],
                        [
                          0.3333333333333333,
                          "#9c179e"
                        ],
                        [
                          0.4444444444444444,
                          "#bd3786"
                        ],
                        [
                          0.5555555555555556,
                          "#d8576b"
                        ],
                        [
                          0.6666666666666666,
                          "#ed7953"
                        ],
                        [
                          0.7777777777777778,
                          "#fb9f3a"
                        ],
                        [
                          0.8888888888888888,
                          "#fdca26"
                        ],
                        [
                          1,
                          "#f0f921"
                        ]
                      ]
                    },
                    "colorway": [
                      "#636efa",
                      "#EF553B",
                      "#00cc96",
                      "#ab63fa",
                      "#FFA15A",
                      "#19d3f3",
                      "#FF6692",
                      "#B6E880",
                      "#FF97FF",
                      "#FECB52"
                    ],
                    "font": {
                      "color": "#f2f5fa"
                    },
                    "geo": {
                      "bgcolor": "rgb(17,17,17)",
                      "lakecolor": "rgb(17,17,17)",
                      "landcolor": "rgb(17,17,17)",
                      "showlakes": true,
                      "showland": true,
                      "subunitcolor": "#506784"
                    },
                    "hoverlabel": {
                      "align": "left"
                    },
                    "hovermode": "closest",
                    "mapbox": {
                      "style": "dark"
                    },
                    "paper_bgcolor": "rgb(17,17,17)",
                    "plot_bgcolor": "rgb(17,17,17)",
                    "polar": {
                      "angularaxis": {
                        "gridcolor": "#506784",
                        "linecolor": "#506784",
                        "ticks": ""
                      },
                      "bgcolor": "rgb(17,17,17)",
                      "radialaxis": {
                        "gridcolor": "#506784",
                        "linecolor": "#506784",
                        "ticks": ""
                      }
                    },
                    "scene": {
                      "xaxis": {
                        "backgroundcolor": "rgb(17,17,17)",
                        "gridcolor": "#506784",
                        "gridwidth": 2,
                        "linecolor": "#506784",
                        "showbackground": true,
                        "ticks": "",
                        "zerolinecolor": "#C8D4E3"
                      },
                      "yaxis": {
                        "backgroundcolor": "rgb(17,17,17)",
                        "gridcolor": "#506784",
                        "gridwidth": 2,
                        "linecolor": "#506784",
                        "showbackground": true,
                        "ticks": "",
                        "zerolinecolor": "#C8D4E3"
                      },
                      "zaxis": {
                        "backgroundcolor": "rgb(17,17,17)",
                        "gridcolor": "#506784",
                        "gridwidth": 2,
                        "linecolor": "#506784",
                        "showbackground": true,
                        "ticks": "",
                        "zerolinecolor": "#C8D4E3"
                      }
                    },
                    "shapedefaults": {
                      "line": {
                        "color": "#f2f5fa"
                      }
                    },
                    "sliderdefaults": {
                      "bgcolor": "#C8D4E3",
                      "bordercolor": "rgb(17,17,17)",
                      "borderwidth": 1,
                      "tickwidth": 0
                    },
                    "ternary": {
                      "aaxis": {
                        "gridcolor": "#506784",
                        "linecolor": "#506784",
                        "ticks": ""
                      },
                      "baxis": {
                        "gridcolor": "#506784",
                        "linecolor": "#506784",
                        "ticks": ""
                      },
                      "bgcolor": "rgb(17,17,17)",
                      "caxis": {
                        "gridcolor": "#506784",
                        "linecolor": "#506784",
                        "ticks": ""
                      }
                    },
                    "title": {
                      "x": 0.05
                    },
                    "updatemenudefaults": {
                      "bgcolor": "#506784",
                      "borderwidth": 0
                    },
                    "xaxis": {
                      "automargin": true,
                      "gridcolor": "#283442",
                      "linecolor": "#506784",
                      "ticks": "",
                      "title": {
                        "standoff": 15
                      },
                      "zerolinecolor": "#283442",
                      "zerolinewidth": 2
                    },
                    "yaxis": {
                      "automargin": true,
                      "gridcolor": "#283442",
                      "linecolor": "#506784",
                      "ticks": "",
                      "title": {
                        "standoff": 15
                      },
                      "zerolinecolor": "#283442",
                      "zerolinewidth": 2
                    }
                  }
                },
                "title": {
                  "font": {
                    "size": 20
                  },
                  "text": "Security Market Line",
                  "x": 0.5,
                  "xanchor": "center",
                  "y": 0.95
                },
                "width": 420,
                "xaxis": {
                  "gridcolor": "gray",
                  "range": [
                    0,
                    2
                  ],
                  "ticktext": [
                    "0",
                    "0.5",
                    "1",
                    "1.5",
                    "2"
                  ],
                  "tickvals": [
                    0,
                    0.5,
                    1,
                    1.5,
                    2
                  ],
                  "title": {
                    "text": "Beta"
                  }
                },
                "yaxis": {
                  "gridcolor": "gray",
                  "range": [
                    0,
                    0.16
                  ],
                  "ticktext": [
                    "0",
                    "0.05",
                    "0.10",
                    "0.15"
                  ],
                  "tickvals": [
                    0,
                    0.05,
                    0.1,
                    0.15
                  ],
                  "title": {
                    "text": "Mean Excess Return"
                  }
                }
              }
            }
          },
          "metadata": {},
          "output_type": "display_data"
        }
      ],
      "source": [
        "import plotly.graph_objects as go\n",
        "\n",
        "# Create the figure\n",
        "fig = go.Figure()\n",
        "\n",
        "# Add scatter points\n",
        "fig.add_trace(\n",
        "    go.Scatter(\n",
        "        x=x, \n",
        "        y=y,\n",
        "        mode='markers',\n",
        "        marker=dict(\n",
        "            size=12,\n",
        "            color='white',\n",
        "            opacity=0.7\n",
        "        ),\n",
        "        name='Data Points'\n",
        "    )\n",
        ")\n",
        "\n",
        "# Add the Security Market Line\n",
        "fig.add_trace(\n",
        "    go.Scatter(\n",
        "        x=x1,\n",
        "        y=y1,\n",
        "        mode='lines',\n",
        "        line=dict(\n",
        "            color='red',\n",
        "            width=4\n",
        "        ),\n",
        "        name='Security Market Line'\n",
        "    )\n",
        ")\n",
        "\n",
        "# Update layout with dark theme\n",
        "fig.update_layout(\n",
        "    template='plotly_dark',\n",
        "    width=800,\n",
        "    height=800,\n",
        "    showlegend=False,\n",
        "    title=dict(\n",
        "        text='Security Market Line',\n",
        "        x=0.5,\n",
        "        y=0.95,\n",
        "        xanchor='center',\n",
        "        font=dict(size=20)\n",
        "    ),\n",
        "    xaxis=dict(\n",
        "        title='Beta',\n",
        "        range=[0, 2],\n",
        "        ticktext=['0', '0.5', '1', '1.5', '2'],\n",
        "        tickvals=[0, 0.5, 1, 1.5, 2],\n",
        "        gridcolor='gray'\n",
        "    ),\n",
        "    yaxis=dict(\n",
        "        title='Mean Excess Return',\n",
        "        range=[0, 0.16],\n",
        "        ticktext=['0', '0.05', '0.10', '0.15'],\n",
        "        tickvals=[0, 0.05, 0.1, 0.15],\n",
        "        gridcolor='gray'\n",
        "    ),\n",
        ")\n",
        "\n",
        "fig.update_layout(\n",
        "    width=420,  # 7 inches * 100 pixels per inch\n",
        "    height=300,  # 5 inches * 100 pixels per inch\n",
        "    margin=dict(l=60, r=60, t=60, b=60),  # Add margins to ensure labels are visible\n",
        ")\n",
        "fig.show()"
      ]
    },
    {
      "cell_type": "code",
      "execution_count": 26,
      "metadata": {},
      "outputs": [
        {
          "data": {
            "image/png": "[encoded data removed]",
            "text/plain": [
              "<Figure size 900x500 with 1 Axes>"
            ]
          },
          "metadata": {},
          "output_type": "display_data"
        }
      ],
      "source": [
        "\n",
        "# Create figure with background color\n",
        "fig, ax = plt.subplots(figsize=(9, 5))\n",
        "fig.set_facecolor('#f4f1e5')  # Set figure/margin background color\n",
        "ax.set_facecolor('white')     # Set plot area background color\n",
        "\n",
        "# Plot scatter points\n",
        "ax.scatter(x, y, s=120, alpha=0.7)\n",
        "\n",
        "# Plot the beta line\n",
        "x1 = np.array([0, 2])  # x range\n",
        "y1 = 0.08 * x1  # y = beta * x\n",
        "ax.plot(x1, y1, linewidth=4, color=\"red\")\n",
        "\n",
        "# Style settings\n",
        "ax.grid(True, color='lightgray')\n",
        "\n",
        "plt.annotate('Security Market Line', xy=(0.2, 0.14), xytext=(0.2, 0.14),\n",
        "             color='red', fontsize=16)\n",
        "\n",
        "\n",
        "# Set axis labels with fontsize 14\n",
        "plt.xlabel('Beta', fontsize=12, family=\"sans-serif\")\n",
        "plt.ylabel('Mean Excess Return', fontsize=12)\n",
        "plt.yticks([0, 0.05, 0.1, 0.15])\n",
        "plt.xticks([0, 0.5, 1, 1.5, 2])\n",
        "plt.xlim(0, 2)\n",
        "plt.ylim(0, 0.16)\n",
        "\n",
        "plt.tick_params(axis='both', which='major', labelsize=9)\n",
        "\n",
        "# Add padding around the plot while keeping square shape\n",
        "plt.subplots_adjust(left=0.3, right=0.7, top=0.7, bottom=0.3)\n",
        "\n",
        "# Save with consistent background color\n",
        "plt.savefig(\"../posts/03-capm/capm.jpg\", \n",
        "            facecolor='#f4f1e5',\n",
        "            bbox_inches='tight',\n",
        "            dpi=600)"
      ]
    },
    {
      "cell_type": "code",
      "execution_count": 28,
      "metadata": {},
      "outputs": [
        {
          "data": {
            "text/plain": [
              "447.14285714285717"
            ]
          },
          "execution_count": 28,
          "metadata": {},
          "output_type": "execute_result"
        }
      ],
      "source": [
        "5*626/7\n"
      ]
    },
    {
      "cell_type": "code",
      "execution_count": 15,
      "metadata": {},
      "outputs": [
        {
          "data": {
            "image/png": "[encoded data removed]",
            "text/plain": [
              "<Figure size 800x800 with 1 Axes>"
            ]
          },
          "metadata": {},
          "output_type": "display_data"
        }
      ],
      "source": [
        "# Create figure with background color and adjusted margins\n",
        "fig = plt.figure(figsize=(8, 8))  # Larger figure size to accommodate padding\n",
        "ax = fig.add_axes([0.3, 0.3, 0.4, 0.4])  # More padding: [left, bottom, width, height]\n",
        "ax.set_facecolor('white')\n",
        "fig.set_facecolor('#f4f1e5')\n",
        "\n",
        "# Plot scatter points\n",
        "ax.scatter(x, y, s=120, alpha=0.7)\n",
        "\n",
        "# Plot the beta line\n",
        "x1 = np.array([0, 2])\n",
        "y1 = 0.08 * x1\n",
        "ax.plot(x1, y1, linewidth=4, color=\"red\")\n",
        "\n",
        "# Style settings\n",
        "ax.grid(True, color='lightgray')\n",
        "\n",
        "ax.annotate('Security Market Line', xy=(0.25, 0.14), xytext=(0.25, 0.14),\n",
        "           color='red', fontsize=16)\n",
        "\n",
        "# Set axis labels with fontsize 12\n",
        "ax.set_xlabel('Beta', fontsize=12)\n",
        "ax.set_ylabel('Mean Excess Return', fontsize=12)\n",
        "ax.set_yticks([0, 0.05, 0.1, 0.15])\n",
        "ax.set_xticks([0, 0.5, 1, 1.5, 2])\n",
        "ax.set_xlim(0, 2)\n",
        "ax.set_ylim(0, 0.16)\n",
        "\n",
        "ax.tick_params(axis='both', which='major', labelsize=9)\n",
        "\n",
        "# Save with consistent background color\n",
        "plt.savefig(\"../posts/03-capm/capm.jpg\", \n",
        "            facecolor='#f4f1e5',\n",
        "            bbox_inches='tight',\n",
        "            dpi=300)"
      ]
    },
    {
      "cell_type": "code",
      "execution_count": 13,
      "metadata": {},
      "outputs": [
        {
          "data": {
            "image/png": "[encoded data removed]",
            "text/plain": [
              "<Figure size 800x800 with 1 Axes>"
            ]
          },
          "metadata": {},
          "output_type": "display_data"
        }
      ],
      "source": [
        "# Create figure with background color\n",
        "fig, ax = plt.subplots(figsize=(8, 8))\n",
        "fig.set_facecolor('#f4f1e5')  # Set figure/margin background color\n",
        "ax.set_facecolor('white')     # Set plot area background color\n",
        "\n",
        "# Plot scatter points\n",
        "ax.scatter(x, y, s=120, alpha=0.7)\n",
        "\n",
        "# Plot the beta line\n",
        "x1 = np.array([0, 2])  # x range\n",
        "y1 = 0.08 * x1  # y = beta * x\n",
        "ax.plot(x1, y1, linewidth=4, color=\"red\")\n",
        "\n",
        "# Style settings\n",
        "ax.grid(True, color='lightgray')\n",
        "\n",
        "plt.annotate('Security Market Line', xy=(0.25, 0.14), xytext=(0.25, 0.14),\n",
        "             color='red', fontsize=16)\n",
        "\n",
        "# Set axis labels with fontsize 14\n",
        "plt.xlabel('Beta', fontsize=12)\n",
        "plt.ylabel('Mean Excess Return', fontsize=12)\n",
        "plt.yticks([0, 0.05, 0.1, 0.15])\n",
        "plt.xticks([0, 0.5, 1, 1.5, 2])\n",
        "plt.xlim(0, 2)\n",
        "plt.ylim(0, 0.16)\n",
        "\n",
        "plt.tick_params(axis='both', which='major', labelsize=9)\n",
        "\n",
        "\n",
        "# Add padding around the plot while keeping square shape\n",
        "plt.subplots_adjust(left=0.3, right=0.7, top=0.7, bottom=0.3)\n",
        "\n",
        "# Save with consistent background color\n",
        "plt.savefig(\"../posts/03-capm/capm.jpg\", \n",
        "            facecolor='#f4f1e5',\n",
        "            bbox_inches='tight',\n",
        "            dpi=300)"
      ]
    },
    {
      "cell_type": "markdown",
      "metadata": {
        "id": "6FSPuoStpwbl"
      },
      "source": [
        "# GET DATA"
      ]
    },
    {
      "cell_type": "code",
      "execution_count": 4,
      "metadata": {
        "id": "5Dqtk1UIpwbm"
      },
      "outputs": [],
      "source": [
        "import pandas as pd\n",
        "import yfinance as yf\n",
        "from pandas_datareader import DataReader as pdr\n",
        "import warnings\n",
        "warnings.simplefilter(action='ignore', category=FutureWarning)\n",
        "\n",
        "# get monthly market excess return and risk-free rate for past 60 months from French's data library\n",
        "ff = pdr('F-F_Research_Data_Factors','famafrench',start=2017)[0]\n",
        "ff = ff.iloc[-60:]\n",
        "\n",
        "# get mean annual market excess return since 1926 from French's data library\n",
        "mprem = pdr('F-F_Research_Data_Factors','famafrench',start=1926)[1]['Mkt-RF'].mean()\n",
        "\n",
        "# get current 3-month Treasury bill yield from FRED\n",
        "rf = pdr('DGS3MO','fred',start=2022).iloc[-1].item()\n",
        "\n",
        "# pull data from yahoo for ticker\n",
        "ret = yf.download(\n",
        "    ticker,\n",
        "    start='2017-01-01',\n",
        "    progress=False,\n",
        "    auto_adjust=False\n",
        "  )['Adj Close']\n",
        "ret = ret.resample('M').last().pct_change()*100\n",
        "ret.index = ret.index.to_period('M')\n",
        "ret.columns = [\"ret\"]\n",
        "\n",
        "# merge with French data, reducing to 60 months in the process\n",
        "df = ff.join(ret,how='left')\n",
        "\n",
        "# compute excess returns for the ticker\n",
        "df['ret'] -= df.RF"
      ]
    },
    {
      "cell_type": "markdown",
      "metadata": {
        "id": "RPndDq21pwbn"
      },
      "source": [
        "# RUN MARKET MODEL REGRESSION"
      ]
    },
    {
      "cell_type": "code",
      "execution_count": 5,
      "metadata": {
        "id": "n9caC2ZBpwbo"
      },
      "outputs": [],
      "source": [
        "import statsmodels.api as sm\n",
        "\n",
        "# run regression of excess return on market excess return and get beta\n",
        "result = sm.OLS(df.ret,sm.add_constant(df['Mkt-RF'])).fit()\n",
        "beta = result.params['Mkt-RF']"
      ]
    },
    {
      "cell_type": "markdown",
      "metadata": {
        "id": "pwf-Wk_Mpwbo"
      },
      "source": [
        "# CALCULATE COST OF EQUITY"
      ]
    },
    {
      "cell_type": "code",
      "execution_count": 6,
      "metadata": {
        "id": "-tmYlv3xpwbp",
        "outputId": "3dfd9a07-d68c-4e87-dad2-c3758f601dd3"
      },
      "outputs": [
        {
          "name": "stdout",
          "output_type": "stream",
          "text": [
            "Beta:\t\t\t0.51\n",
            "Market Risk Premium:\t8.80\n",
            "WMT Risk Premium:\t4.46\n",
            "Risk-free Rate:\t\t4.34\n",
            "WMT Cost of Equity:\t8.80\n"
          ]
        }
      ],
      "source": [
        "# compute cost of equity\n",
        "eret = rf + beta*mprem\n",
        "\n",
        "\n",
        "print(f'Beta:\\t\\t\\t{beta:.2f}')\n",
        "print(f'Market Risk Premium:\\t{mprem:.2f}')\n",
        "print(f'{ticker} Risk Premium:\\t{beta*mprem:.2f}')\n",
        "print(f'Risk-free Rate:\\t\\t{rf:.2f}')\n",
        "print(f'{ticker} Cost of Equity:\\t{eret:.2f}')"
      ]
    },
    {
      "cell_type": "markdown",
      "metadata": {
        "id": "TplrGsPSpwbr"
      },
      "source": [
        "# FIGURE"
      ]
    },
    {
      "cell_type": "code",
      "execution_count": 7,
      "metadata": {},
      "outputs": [],
      "source": [
        "import matplotlib.pyplot as plt\n",
        "import seaborn as sns\n",
        "\n",
        "df = df[[\"Mkt-RF\", \"ret\"]].reset_index()\n",
        "df.columns = [\"date\", \"mkt\", \"ret\"]\n",
        "df[\"date\"] = df.date.astype(str)\n"
      ]
    },
    {
      "cell_type": "code",
      "execution_count": 8,
      "metadata": {},
      "outputs": [
        {
          "data": {
            "image/png": "[encoded data removed]",
            "text/plain": [
              "<Figure size 600x400 with 1 Axes>"
            ]
          },
          "metadata": {},
          "output_type": "display_data"
        }
      ],
      "source": [
        "fig, ax = plt.subplots(figsize=(6, 4)) \n",
        "sns.set_style(\"whitegrid\", {'axes.facecolor': '#f4f1e5'})\n",
        "# Set the style parameters for the regression plot\n",
        "# Increase line thickness and marker size\n",
        "sns.set_context(\"notebook\", font_scale=1.2)\n",
        "# Define custom parameters for the regression plot\n",
        "scatter_kws = {'s': 120, 'alpha': 0.7}  # Larger markers (s controls size)\n",
        "line_kws = {'lw': 4}   # Thicker line (lw controls width)\n",
        "\n",
        "\n",
        "sns.regplot(x=df.mkt, y=df.ret, ci=False, ax=ax,\n",
        "            scatter_kws=scatter_kws, line_kws=line_kws)\n",
        "# Set axis labels with larger font size\n",
        "ax.set_xlabel(None)\n",
        "ax.set_ylabel(None)\n",
        "# Set axis limits to (-15, 15)\n",
        "ax.set_xlim(-15, 15)\n",
        "ax.set_ylim(-10, 15)\n",
        "plt.subplots_adjust(left=0, right=1, top=1, bottom=0)\n",
        "\n",
        "\n",
        "\n",
        "\n",
        "# Increase tick label font size\n",
        "ax.tick_params(axis='both', which='major', labelsize=0)\n",
        "plt.savefig(\"../posts/03-capm/capm.jpg\")\n",
        "\n"
      ]
    },
    {
      "cell_type": "code",
      "execution_count": 9,
      "metadata": {
        "id": "5dCLJ_BvUC_A",
        "outputId": "e520da9d-80fc-4480-b7c7-a16d5c0c2a20"
      },
      "outputs": [
        {
          "data": {
            "application/vnd.plotly.v1+json": {
              "config": {
                "plotlyServerURL": "https://plot.ly"
              },
              "data": [
                {
                  "customdata": [
                    [
                      "2020-01"
                    ],
                    [
                      "2020-02"
                    ],
                    [
                      "2020-03"
                    ],
                    [
                      "2020-04"
                    ],
                    [
                      "2020-05"
                    ],
                    [
                      "2020-06"
                    ],
                    [
                      "2020-07"
                    ],
                    [
                      "2020-08"
                    ],
                    [
                      "2020-09"
                    ],
                    [
                      "2020-10"
                    ],
                    [
                      "2020-11"
                    ],
                    [
                      "2020-12"
                    ],
                    [
                      "2021-01"
                    ],
                    [
                      "2021-02"
                    ],
                    [
                      "2021-03"
                    ],
                    [
                      "2021-04"
                    ],
                    [
                      "2021-05"
                    ],
                    [
                      "2021-06"
                    ],
                    [
                      "2021-07"
                    ],
                    [
                      "2021-08"
                    ],
                    [
                      "2021-09"
                    ],
                    [
                      "2021-10"
                    ],
                    [
                      "2021-11"
                    ],
                    [
                      "2021-12"
                    ],
                    [
                      "2022-01"
                    ],
                    [
                      "2022-02"
                    ],
                    [
                      "2022-03"
                    ],
                    [
                      "2022-04"
                    ],
                    [
                      "2022-05"
                    ],
                    [
                      "2022-06"
                    ],
                    [
                      "2022-07"
                    ],
                    [
                      "2022-08"
                    ],
                    [
                      "2022-09"
                    ],
                    [
                      "2022-10"
                    ],
                    [
                      "2022-11"
                    ],
                    [
                      "2022-12"
                    ],
                    [
                      "2023-01"
                    ],
                    [
                      "2023-02"
                    ],
                    [
                      "2023-03"
                    ],
                    [
                      "2023-04"
                    ],
                    [
                      "2023-05"
                    ],
                    [
                      "2023-06"
                    ],
                    [
                      "2023-07"
                    ],
                    [
                      "2023-08"
                    ],
                    [
                      "2023-09"
                    ],
                    [
                      "2023-10"
                    ],
                    [
                      "2023-11"
                    ],
                    [
                      "2023-12"
                    ],
                    [
                      "2024-01"
                    ],
                    [
                      "2024-02"
                    ],
                    [
                      "2024-03"
                    ],
                    [
                      "2024-04"
                    ],
                    [
                      "2024-05"
                    ],
                    [
                      "2024-06"
                    ],
                    [
                      "2024-07"
                    ],
                    [
                      "2024-08"
                    ],
                    [
                      "2024-09"
                    ],
                    [
                      "2024-10"
                    ],
                    [
                      "2024-11"
                    ],
                    [
                      "2024-12"
                    ]
                  ],
                  "hovertemplate": "<b>%{hovertext}</b><br><br><extra></extra>",
                  "hovertext": [
                    "2020-01",
                    "2020-02",
                    "2020-03",
                    "2020-04",
                    "2020-05",
                    "2020-06",
                    "2020-07",
                    "2020-08",
                    "2020-09",
                    "2020-10",
                    "2020-11",
                    "2020-12",
                    "2021-01",
                    "2021-02",
                    "2021-03",
                    "2021-04",
                    "2021-05",
                    "2021-06",
                    "2021-07",
                    "2021-08",
                    "2021-09",
                    "2021-10",
                    "2021-11",
                    "2021-12",
                    "2022-01",
                    "2022-02",
                    "2022-03",
                    "2022-04",
                    "2022-05",
                    "2022-06",
                    "2022-07",
                    "2022-08",
                    "2022-09",
                    "2022-10",
                    "2022-11",
                    "2022-12",
                    "2023-01",
                    "2023-02",
                    "2023-03",
                    "2023-04",
                    "2023-05",
                    "2023-06",
                    "2023-07",
                    "2023-08",
                    "2023-09",
                    "2023-10",
                    "2023-11",
                    "2023-12",
                    "2024-01",
                    "2024-02",
                    "2024-03",
                    "2024-04",
                    "2024-05",
                    "2024-06",
                    "2024-07",
                    "2024-08",
                    "2024-09",
                    "2024-10",
                    "2024-11",
                    "2024-12"
                  ],
                  "legendgroup": "",
                  "marker": {
                    "color": "#636efa",
                    "line": {
                      "color": "DarkSlateGrey",
                      "width": 2
                    },
                    "size": 12,
                    "symbol": "circle"
                  },
                  "mode": "markers",
                  "name": "",
                  "orientation": "v",
                  "showlegend": false,
                  "type": "scatter",
                  "x": [
                    -0.0011,
                    -0.08130000000000001,
                    -0.13390000000000002,
                    0.1365,
                    0.0558,
                    0.0246,
                    0.057699999999999994,
                    0.07629999999999999,
                    -0.0363,
                    -0.021,
                    0.1247,
                    0.0463,
                    -0.0003,
                    0.0278,
                    0.0308,
                    0.0493,
                    0.0029,
                    0.0275,
                    0.0127,
                    0.0291,
                    -0.0437,
                    0.0665,
                    -0.0155,
                    0.031,
                    -0.0625,
                    -0.0229,
                    0.030600000000000002,
                    -0.0946,
                    -0.0034000000000000002,
                    -0.08439999999999999,
                    0.09570000000000001,
                    -0.0377,
                    -0.0935,
                    0.0783,
                    0.0461,
                    -0.0641,
                    0.0664,
                    -0.0259,
                    0.025099999999999997,
                    0.0060999999999999995,
                    0.0034999999999999996,
                    0.0647,
                    0.0321,
                    -0.0239,
                    -0.0524,
                    -0.0318,
                    0.0883,
                    0.0487,
                    0.006999999999999999,
                    0.0507,
                    0.028300000000000002,
                    -0.0467,
                    0.0434,
                    0.0277,
                    0.0124,
                    0.0161,
                    0.0174,
                    -0.0097,
                    0.06509999999999999,
                    -0.0317
                  ],
                  "xaxis": "x",
                  "y": [
                    -0.03790425031791725,
                    -0.060681374453633995,
                    0.058532367459571105,
                    0.06979401103239424,
                    0.025039566038598016,
                    -0.03459939245277611,
                    0.0802137651977266,
                    0.07734103852021777,
                    0.00753405500846237,
                    -0.008390988202011018,
                    0.10108915195194611,
                    -0.053199565821594914,
                    -0.02549004328014205,
                    -0.0752368592969872,
                    0.049854550511215345,
                    0.03003765823236426,
                    0.019139214225549983,
                    -0.007111136790310613,
                    0.010849472416687655,
                    0.04275694165896149,
                    -0.05887910886884285,
                    0.07203319721140122,
                    -0.05882745821601887,
                    0.032912774091147894,
                    -0.03372731444175103,
                    -0.033259446674063886,
                    0.10596665788909897,
                    0.02723010286979143,
                    -0.15646986851467395,
                    -0.0554083244893065,
                    0.08531599932738144,
                    0.006258218711803667,
                    -0.023401286543316732,
                    0.09507859429424133,
                    0.0679916227464973,
                    -0.06953471743487163,
                    0.011169687764711002,
                    -0.015494233071720528,
                    0.03808244859157211,
                    0.020372599833293596,
                    -0.027062130557796223,
                    0.0661980720845714,
                    0.01255057950849387,
                    0.01631865732436472,
                    -0.020781178943951848,
                    0.017059620098191102,
                    -0.051643225036491144,
                    0.012049896453825119,
                    0.04350811086312671,
                    0.059824219268173696,
                    0.025812996719769745,
                    -0.018328001985299786,
                    0.1074385583647934,
                    0.02555327496313863,
                    0.00923508757864328,
                    0.12355280116287207,
                    0.04157816551192273,
                    0.010960595276471322,
                    0.12473703494855526,
                    -0.024779096074700822
                  ],
                  "yaxis": "y"
                },
                {
                  "hovertemplate": "<b>OLS trendline</b><br>ret = 0.50672 * mkt + 0.00931743<br>R<sup>2</sup>=0.243567<br><br><extra></extra>",
                  "legendgroup": "",
                  "marker": {
                    "color": "#636efa",
                    "symbol": "circle"
                  },
                  "mode": "lines",
                  "name": "",
                  "showlegend": false,
                  "type": "scatter",
                  "x": [
                    -0.13390000000000002,
                    -0.0946,
                    -0.0935,
                    -0.08439999999999999,
                    -0.08130000000000001,
                    -0.0641,
                    -0.0625,
                    -0.0524,
                    -0.0467,
                    -0.0437,
                    -0.0377,
                    -0.0363,
                    -0.0318,
                    -0.0317,
                    -0.0259,
                    -0.0239,
                    -0.0229,
                    -0.021,
                    -0.0155,
                    -0.0097,
                    -0.0034000000000000002,
                    -0.0011,
                    -0.0003,
                    0.0029,
                    0.0034999999999999996,
                    0.0060999999999999995,
                    0.006999999999999999,
                    0.0124,
                    0.0127,
                    0.0161,
                    0.0174,
                    0.0246,
                    0.025099999999999997,
                    0.0275,
                    0.0277,
                    0.0278,
                    0.028300000000000002,
                    0.0291,
                    0.030600000000000002,
                    0.0308,
                    0.031,
                    0.0321,
                    0.0434,
                    0.0461,
                    0.0463,
                    0.0487,
                    0.0493,
                    0.0507,
                    0.0558,
                    0.057699999999999994,
                    0.0647,
                    0.06509999999999999,
                    0.0664,
                    0.0665,
                    0.07629999999999999,
                    0.0783,
                    0.0883,
                    0.09570000000000001,
                    0.1247,
                    0.1365
                  ],
                  "xaxis": "x",
                  "y": [
                    -0.05853237286996739,
                    -0.038618278101063885,
                    -0.038060886135522054,
                    -0.0334497344205851,
                    -0.03187890251769451,
                    -0.023163319056495022,
                    -0.022352567106615994,
                    -0.017234695423004667,
                    -0.014346391601560645,
                    -0.012826231695537482,
                    -0.009785911883491143,
                    -0.009076503927347001,
                    -0.0067962640683122515,
                    -0.00674559207144481,
                    -0.0038066162531333533,
                    -0.002793176315784577,
                    -0.002286456347110187,
                    -0.0013236884066288486,
                    0.0014632714210802925,
                    0.004402247239391748,
                    0.007594583042040399,
                    0.008760038969991495,
                    0.009165414944931005,
                    0.01078691884468905,
                    0.011090950825893684,
                    0.012408422744447097,
                    0.012864470716254045,
                    0.015600758547095746,
                    0.015752774537698064,
                    0.01747562243119099,
                    0.01813435839046769,
                    0.02178274216492329,
                    0.022036102149260488,
                    0.02325223007407902,
                    0.0233535740678139,
                    0.02340424606468134,
                    0.023657606049018533,
                    0.024062982023958044,
                    0.02482306197696963,
                    0.024924405970704507,
                    0.025025749964439382,
                    0.02558314192998121,
                    0.031309077576001806,
                    0.03267722149142266,
                    0.032778565485157535,
                    0.03399469340997607,
                    0.0342987253911807,
                    0.035008133347324846,
                    0.03759240518756424,
                    0.03855517312804557,
                    0.0421022129087663,
                    0.04230490089623605,
                    0.04296363685551276,
                    0.043014308852380195,
                    0.0479801645453892,
                    0.048993604482737985,
                    0.05406080416948188,
                    0.057810531937672355,
                    0.07250541102922964,
                    0.07848470665958743
                  ],
                  "yaxis": "y"
                }
              ],
              "layout": {
                "legend": {
                  "tracegroupgap": 0
                },
                "margin": {
                  "t": 60
                },
                "template": {
                  "data": {
                    "bar": [
                      {
                        "error_x": {
                          "color": "#2a3f5f"
                        },
                        "error_y": {
                          "color": "#2a3f5f"
                        },
                        "marker": {
                          "line": {
                            "color": "#E5ECF6",
                            "width": 0.5
                          },
                          "pattern": {
                            "fillmode": "overlay",
                            "size": 10,
                            "solidity": 0.2
                          }
                        },
                        "type": "bar"
                      }
                    ],
                    "barpolar": [
                      {
                        "marker": {
                          "line": {
                            "color": "#E5ECF6",
                            "width": 0.5
                          },
                          "pattern": {
                            "fillmode": "overlay",
                            "size": 10,
                            "solidity": 0.2
                          }
                        },
                        "type": "barpolar"
                      }
                    ],
                    "carpet": [
                      {
                        "aaxis": {
                          "endlinecolor": "#2a3f5f",
                          "gridcolor": "white",
                          "linecolor": "white",
                          "minorgridcolor": "white",
                          "startlinecolor": "#2a3f5f"
                        },
                        "baxis": {
                          "endlinecolor": "#2a3f5f",
                          "gridcolor": "white",
                          "linecolor": "white",
                          "minorgridcolor": "white",
                          "startlinecolor": "#2a3f5f"
                        },
                        "type": "carpet"
                      }
                    ],
                    "choropleth": [
                      {
                        "colorbar": {
                          "outlinewidth": 0,
                          "ticks": ""
                        },
                        "type": "choropleth"
                      }
                    ],
                    "contour": [
                      {
                        "colorbar": {
                          "outlinewidth": 0,
                          "ticks": ""
                        },
                        "colorscale": [
                          [
                            0,
                            "#0d0887"
                          ],
                          [
                            0.1111111111111111,
                            "#46039f"
                          ],
                          [
                            0.2222222222222222,
                            "#7201a8"
                          ],
                          [
                            0.3333333333333333,
                            "#9c179e"
                          ],
                          [
                            0.4444444444444444,
                            "#bd3786"
                          ],
                          [
                            0.5555555555555556,
                            "#d8576b"
                          ],
                          [
                            0.6666666666666666,
                            "#ed7953"
                          ],
                          [
                            0.7777777777777778,
                            "#fb9f3a"
                          ],
                          [
                            0.8888888888888888,
                            "#fdca26"
                          ],
                          [
                            1,
                            "#f0f921"
                          ]
                        ],
                        "type": "contour"
                      }
                    ],
                    "contourcarpet": [
                      {
                        "colorbar": {
                          "outlinewidth": 0,
                          "ticks": ""
                        },
                        "type": "contourcarpet"
                      }
                    ],
                    "heatmap": [
                      {
                        "colorbar": {
                          "outlinewidth": 0,
                          "ticks": ""
                        },
                        "colorscale": [
                          [
                            0,
                            "#0d0887"
                          ],
                          [
                            0.1111111111111111,
                            "#46039f"
                          ],
                          [
                            0.2222222222222222,
                            "#7201a8"
                          ],
                          [
                            0.3333333333333333,
                            "#9c179e"
                          ],
                          [
                            0.4444444444444444,
                            "#bd3786"
                          ],
                          [
                            0.5555555555555556,
                            "#d8576b"
                          ],
                          [
                            0.6666666666666666,
                            "#ed7953"
                          ],
                          [
                            0.7777777777777778,
                            "#fb9f3a"
                          ],
                          [
                            0.8888888888888888,
                            "#fdca26"
                          ],
                          [
                            1,
                            "#f0f921"
                          ]
                        ],
                        "type": "heatmap"
                      }
                    ],
                    "heatmapgl": [
                      {
                        "colorbar": {
                          "outlinewidth": 0,
                          "ticks": ""
                        },
                        "colorscale": [
                          [
                            0,
                            "#0d0887"
                          ],
                          [
                            0.1111111111111111,
                            "#46039f"
                          ],
                          [
                            0.2222222222222222,
                            "#7201a8"
                          ],
                          [
                            0.3333333333333333,
                            "#9c179e"
                          ],
                          [
                            0.4444444444444444,
                            "#bd3786"
                          ],
                          [
                            0.5555555555555556,
                            "#d8576b"
                          ],
                          [
                            0.6666666666666666,
                            "#ed7953"
                          ],
                          [
                            0.7777777777777778,
                            "#fb9f3a"
                          ],
                          [
                            0.8888888888888888,
                            "#fdca26"
                          ],
                          [
                            1,
                            "#f0f921"
                          ]
                        ],
                        "type": "heatmapgl"
                      }
                    ],
                    "histogram": [
                      {
                        "marker": {
                          "pattern": {
                            "fillmode": "overlay",
                            "size": 10,
                            "solidity": 0.2
                          }
                        },
                        "type": "histogram"
                      }
                    ],
                    "histogram2d": [
                      {
                        "colorbar": {
                          "outlinewidth": 0,
                          "ticks": ""
                        },
                        "colorscale": [
                          [
                            0,
                            "#0d0887"
                          ],
                          [
                            0.1111111111111111,
                            "#46039f"
                          ],
                          [
                            0.2222222222222222,
                            "#7201a8"
                          ],
                          [
                            0.3333333333333333,
                            "#9c179e"
                          ],
                          [
                            0.4444444444444444,
                            "#bd3786"
                          ],
                          [
                            0.5555555555555556,
                            "#d8576b"
                          ],
                          [
                            0.6666666666666666,
                            "#ed7953"
                          ],
                          [
                            0.7777777777777778,
                            "#fb9f3a"
                          ],
                          [
                            0.8888888888888888,
                            "#fdca26"
                          ],
                          [
                            1,
                            "#f0f921"
                          ]
                        ],
                        "type": "histogram2d"
                      }
                    ],
                    "histogram2dcontour": [
                      {
                        "colorbar": {
                          "outlinewidth": 0,
                          "ticks": ""
                        },
                        "colorscale": [
                          [
                            0,
                            "#0d0887"
                          ],
                          [
                            0.1111111111111111,
                            "#46039f"
                          ],
                          [
                            0.2222222222222222,
                            "#7201a8"
                          ],
                          [
                            0.3333333333333333,
                            "#9c179e"
                          ],
                          [
                            0.4444444444444444,
                            "#bd3786"
                          ],
                          [
                            0.5555555555555556,
                            "#d8576b"
                          ],
                          [
                            0.6666666666666666,
                            "#ed7953"
                          ],
                          [
                            0.7777777777777778,
                            "#fb9f3a"
                          ],
                          [
                            0.8888888888888888,
                            "#fdca26"
                          ],
                          [
                            1,
                            "#f0f921"
                          ]
                        ],
                        "type": "histogram2dcontour"
                      }
                    ],
                    "mesh3d": [
                      {
                        "colorbar": {
                          "outlinewidth": 0,
                          "ticks": ""
                        },
                        "type": "mesh3d"
                      }
                    ],
                    "parcoords": [
                      {
                        "line": {
                          "colorbar": {
                            "outlinewidth": 0,
                            "ticks": ""
                          }
                        },
                        "type": "parcoords"
                      }
                    ],
                    "pie": [
                      {
                        "automargin": true,
                        "type": "pie"
                      }
                    ],
                    "scatter": [
                      {
                        "fillpattern": {
                          "fillmode": "overlay",
                          "size": 10,
                          "solidity": 0.2
                        },
                        "type": "scatter"
                      }
                    ],
                    "scatter3d": [
                      {
                        "line": {
                          "colorbar": {
                            "outlinewidth": 0,
                            "ticks": ""
                          }
                        },
                        "marker": {
                          "colorbar": {
                            "outlinewidth": 0,
                            "ticks": ""
                          }
                        },
                        "type": "scatter3d"
                      }
                    ],
                    "scattercarpet": [
                      {
                        "marker": {
                          "colorbar": {
                            "outlinewidth": 0,
                            "ticks": ""
                          }
                        },
                        "type": "scattercarpet"
                      }
                    ],
                    "scattergeo": [
                      {
                        "marker": {
                          "colorbar": {
                            "outlinewidth": 0,
                            "ticks": ""
                          }
                        },
                        "type": "scattergeo"
                      }
                    ],
                    "scattergl": [
                      {
                        "marker": {
                          "colorbar": {
                            "outlinewidth": 0,
                            "ticks": ""
                          }
                        },
                        "type": "scattergl"
                      }
                    ],
                    "scattermapbox": [
                      {
                        "marker": {
                          "colorbar": {
                            "outlinewidth": 0,
                            "ticks": ""
                          }
                        },
                        "type": "scattermapbox"
                      }
                    ],
                    "scatterpolar": [
                      {
                        "marker": {
                          "colorbar": {
                            "outlinewidth": 0,
                            "ticks": ""
                          }
                        },
                        "type": "scatterpolar"
                      }
                    ],
                    "scatterpolargl": [
                      {
                        "marker": {
                          "colorbar": {
                            "outlinewidth": 0,
                            "ticks": ""
                          }
                        },
                        "type": "scatterpolargl"
                      }
                    ],
                    "scatterternary": [
                      {
                        "marker": {
                          "colorbar": {
                            "outlinewidth": 0,
                            "ticks": ""
                          }
                        },
                        "type": "scatterternary"
                      }
                    ],
                    "surface": [
                      {
                        "colorbar": {
                          "outlinewidth": 0,
                          "ticks": ""
                        },
                        "colorscale": [
                          [
                            0,
                            "#0d0887"
                          ],
                          [
                            0.1111111111111111,
                            "#46039f"
                          ],
                          [
                            0.2222222222222222,
                            "#7201a8"
                          ],
                          [
                            0.3333333333333333,
                            "#9c179e"
                          ],
                          [
                            0.4444444444444444,
                            "#bd3786"
                          ],
                          [
                            0.5555555555555556,
                            "#d8576b"
                          ],
                          [
                            0.6666666666666666,
                            "#ed7953"
                          ],
                          [
                            0.7777777777777778,
                            "#fb9f3a"
                          ],
                          [
                            0.8888888888888888,
                            "#fdca26"
                          ],
                          [
                            1,
                            "#f0f921"
                          ]
                        ],
                        "type": "surface"
                      }
                    ],
                    "table": [
                      {
                        "cells": {
                          "fill": {
                            "color": "#EBF0F8"
                          },
                          "line": {
                            "color": "white"
                          }
                        },
                        "header": {
                          "fill": {
                            "color": "#C8D4E3"
                          },
                          "line": {
                            "color": "white"
                          }
                        },
                        "type": "table"
                      }
                    ]
                  },
                  "layout": {
                    "annotationdefaults": {
                      "arrowcolor": "#2a3f5f",
                      "arrowhead": 0,
                      "arrowwidth": 1
                    },
                    "autotypenumbers": "strict",
                    "coloraxis": {
                      "colorbar": {
                        "outlinewidth": 0,
                        "ticks": ""
                      }
                    },
                    "colorscale": {
                      "diverging": [
                        [
                          0,
                          "#8e0152"
                        ],
                        [
                          0.1,
                          "#c51b7d"
                        ],
                        [
                          0.2,
                          "#de77ae"
                        ],
                        [
                          0.3,
                          "#f1b6da"
                        ],
                        [
                          0.4,
                          "#fde0ef"
                        ],
                        [
                          0.5,
                          "#f7f7f7"
                        ],
                        [
                          0.6,
                          "#e6f5d0"
                        ],
                        [
                          0.7,
                          "#b8e186"
                        ],
                        [
                          0.8,
                          "#7fbc41"
                        ],
                        [
                          0.9,
                          "#4d9221"
                        ],
                        [
                          1,
                          "#276419"
                        ]
                      ],
                      "sequential": [
                        [
                          0,
                          "#0d0887"
                        ],
                        [
                          0.1111111111111111,
                          "#46039f"
                        ],
                        [
                          0.2222222222222222,
                          "#7201a8"
                        ],
                        [
                          0.3333333333333333,
                          "#9c179e"
                        ],
                        [
                          0.4444444444444444,
                          "#bd3786"
                        ],
                        [
                          0.5555555555555556,
                          "#d8576b"
                        ],
                        [
                          0.6666666666666666,
                          "#ed7953"
                        ],
                        [
                          0.7777777777777778,
                          "#fb9f3a"
                        ],
                        [
                          0.8888888888888888,
                          "#fdca26"
                        ],
                        [
                          1,
                          "#f0f921"
                        ]
                      ],
                      "sequentialminus": [
                        [
                          0,
                          "#0d0887"
                        ],
                        [
                          0.1111111111111111,
                          "#46039f"
                        ],
                        [
                          0.2222222222222222,
                          "#7201a8"
                        ],
                        [
                          0.3333333333333333,
                          "#9c179e"
                        ],
                        [
                          0.4444444444444444,
                          "#bd3786"
                        ],
                        [
                          0.5555555555555556,
                          "#d8576b"
                        ],
                        [
                          0.6666666666666666,
                          "#ed7953"
                        ],
                        [
                          0.7777777777777778,
                          "#fb9f3a"
                        ],
                        [
                          0.8888888888888888,
                          "#fdca26"
                        ],
                        [
                          1,
                          "#f0f921"
                        ]
                      ]
                    },
                    "colorway": [
                      "#636efa",
                      "#EF553B",
                      "#00cc96",
                      "#ab63fa",
                      "#FFA15A",
                      "#19d3f3",
                      "#FF6692",
                      "#B6E880",
                      "#FF97FF",
                      "#FECB52"
                    ],
                    "font": {
                      "color": "#2a3f5f"
                    },
                    "geo": {
                      "bgcolor": "white",
                      "lakecolor": "white",
                      "landcolor": "#E5ECF6",
                      "showlakes": true,
                      "showland": true,
                      "subunitcolor": "white"
                    },
                    "hoverlabel": {
                      "align": "left"
                    },
                    "hovermode": "closest",
                    "mapbox": {
                      "style": "light"
                    },
                    "paper_bgcolor": "white",
                    "plot_bgcolor": "#E5ECF6",
                    "polar": {
                      "angularaxis": {
                        "gridcolor": "white",
                        "linecolor": "white",
                        "ticks": ""
                      },
                      "bgcolor": "#E5ECF6",
                      "radialaxis": {
                        "gridcolor": "white",
                        "linecolor": "white",
                        "ticks": ""
                      }
                    },
                    "scene": {
                      "xaxis": {
                        "backgroundcolor": "#E5ECF6",
                        "gridcolor": "white",
                        "gridwidth": 2,
                        "linecolor": "white",
                        "showbackground": true,
                        "ticks": "",
                        "zerolinecolor": "white"
                      },
                      "yaxis": {
                        "backgroundcolor": "#E5ECF6",
                        "gridcolor": "white",
                        "gridwidth": 2,
                        "linecolor": "white",
                        "showbackground": true,
                        "ticks": "",
                        "zerolinecolor": "white"
                      },
                      "zaxis": {
                        "backgroundcolor": "#E5ECF6",
                        "gridcolor": "white",
                        "gridwidth": 2,
                        "linecolor": "white",
                        "showbackground": true,
                        "ticks": "",
                        "zerolinecolor": "white"
                      }
                    },
                    "shapedefaults": {
                      "line": {
                        "color": "#2a3f5f"
                      }
                    },
                    "ternary": {
                      "aaxis": {
                        "gridcolor": "white",
                        "linecolor": "white",
                        "ticks": ""
                      },
                      "baxis": {
                        "gridcolor": "white",
                        "linecolor": "white",
                        "ticks": ""
                      },
                      "bgcolor": "#E5ECF6",
                      "caxis": {
                        "gridcolor": "white",
                        "linecolor": "white",
                        "ticks": ""
                      }
                    },
                    "title": {
                      "x": 0.05
                    },
                    "xaxis": {
                      "automargin": true,
                      "gridcolor": "white",
                      "linecolor": "white",
                      "ticks": "",
                      "title": {
                        "standoff": 15
                      },
                      "zerolinecolor": "white",
                      "zerolinewidth": 2
                    },
                    "yaxis": {
                      "automargin": true,
                      "gridcolor": "white",
                      "linecolor": "white",
                      "ticks": "",
                      "title": {
                        "standoff": 15
                      },
                      "zerolinecolor": "white",
                      "zerolinewidth": 2
                    }
                  }
                },
                "xaxis": {
                  "anchor": "y",
                  "domain": [
                    0,
                    1
                  ],
                  "tickformat": ".0%",
                  "title": {
                    "text": "Market Excess Return"
                  }
                },
                "yaxis": {
                  "anchor": "x",
                  "domain": [
                    0,
                    1
                  ],
                  "tickformat": ".0%",
                  "title": {
                    "text": "WMT Excess Return"
                  }
                }
              }
            }
          },
          "metadata": {},
          "output_type": "display_data"
        }
      ],
      "source": [
        "import plotly.express as px\n",
        "\n",
        "\n",
        "df['mkt'] = df['mkt']/100\n",
        "df['ret'] = df['ret']/100\n",
        "\n",
        "fig = px.scatter(\n",
        "    df,\n",
        "    x=\"mkt\",\n",
        "    y=\"ret\",\n",
        "    trendline=\"ols\",\n",
        "    hover_data=dict(ret=False, mkt=False, date=False),\n",
        "    hover_name=\"date\",\n",
        ")\n",
        "\n",
        "fig.update_traces(\n",
        "    marker=dict(\n",
        "        size=12,\n",
        "        line=dict(width=2, color=\"DarkSlateGrey\")\n",
        "    ),\n",
        "    selector=dict(mode=\"markers\"),\n",
        ")\n",
        "\n",
        "fig.update_layout(\n",
        "    xaxis_title=\"Market Excess Return\",\n",
        "    yaxis_title=ticker.upper() + \" Excess Return\",\n",
        "    xaxis_tickformat=\".0%\",\n",
        "    yaxis_tickformat=\".0%\",\n",
        "    template=\"plotly\"\n",
        ")\n",
        "fig.show()"
      ]
    },
    {
      "cell_type": "code",
      "execution_count": 10,
      "metadata": {},
      "outputs": [
        {
          "ename": "FileNotFoundError",
          "evalue": "[Errno 2] No such file or directory: '..\\\\posts\\\\05-capm\\\\capm.jpg'",
          "output_type": "error",
          "traceback": [
            "\u001b[1;31m---------------------------------------------------------------------------\u001b[0m",
            "\u001b[1;31mFileNotFoundError\u001b[0m                         Traceback (most recent call last)",
            "Cell \u001b[1;32mIn[10], line 1\u001b[0m\n\u001b[1;32m----> 1\u001b[0m \u001b[43mfig\u001b[49m\u001b[38;5;241;43m.\u001b[39;49m\u001b[43mwrite_image\u001b[49m\u001b[43m(\u001b[49m\u001b[38;5;124;43m\"\u001b[39;49m\u001b[38;5;124;43m../posts/05-capm/capm.jpg\u001b[39;49m\u001b[38;5;124;43m\"\u001b[39;49m\u001b[43m,\u001b[49m\u001b[43m \u001b[49m\u001b[43mwidth\u001b[49m\u001b[38;5;241;43m=\u001b[39;49m\u001b[38;5;241;43m800\u001b[39;49m\u001b[43m,\u001b[49m\u001b[43m \u001b[49m\u001b[43mheight\u001b[49m\u001b[38;5;241;43m=\u001b[39;49m\u001b[38;5;241;43m500\u001b[39;49m\u001b[43m)\u001b[49m\n",
            "File \u001b[1;32mc:\\Users\\kerry\\AppData\\Local\\Programs\\Python\\Python313\\Lib\\site-packages\\plotly\\basedatatypes.py:3835\u001b[0m, in \u001b[0;36mBaseFigure.write_image\u001b[1;34m(self, *args, **kwargs)\u001b[0m\n\u001b[0;32m   3775\u001b[0m \u001b[38;5;250m\u001b[39m\u001b[38;5;124;03m\"\"\"\u001b[39;00m\n\u001b[0;32m   3776\u001b[0m \u001b[38;5;124;03mConvert a figure to a static image and write it to a file or writeable\u001b[39;00m\n\u001b[0;32m   3777\u001b[0m \u001b[38;5;124;03mobject\u001b[39;00m\n\u001b[1;32m   (...)\u001b[0m\n\u001b[0;32m   3831\u001b[0m \u001b[38;5;124;03mNone\u001b[39;00m\n\u001b[0;32m   3832\u001b[0m \u001b[38;5;124;03m\"\"\"\u001b[39;00m\n\u001b[0;32m   3833\u001b[0m \u001b[38;5;28;01mimport\u001b[39;00m \u001b[38;5;21;01mplotly\u001b[39;00m\u001b[38;5;21;01m.\u001b[39;00m\u001b[38;5;21;01mio\u001b[39;00m \u001b[38;5;28;01mas\u001b[39;00m \u001b[38;5;21;01mpio\u001b[39;00m\n\u001b[1;32m-> 3835\u001b[0m \u001b[38;5;28;01mreturn\u001b[39;00m \u001b[43mpio\u001b[49m\u001b[38;5;241;43m.\u001b[39;49m\u001b[43mwrite_image\u001b[49m\u001b[43m(\u001b[49m\u001b[38;5;28;43mself\u001b[39;49m\u001b[43m,\u001b[49m\u001b[43m \u001b[49m\u001b[38;5;241;43m*\u001b[39;49m\u001b[43margs\u001b[49m\u001b[43m,\u001b[49m\u001b[43m \u001b[49m\u001b[38;5;241;43m*\u001b[39;49m\u001b[38;5;241;43m*\u001b[39;49m\u001b[43mkwargs\u001b[49m\u001b[43m)\u001b[49m\n",
            "File \u001b[1;32mc:\\Users\\kerry\\AppData\\Local\\Programs\\Python\\Python313\\Lib\\site-packages\\plotly\\io\\_kaleido.py:296\u001b[0m, in \u001b[0;36mwrite_image\u001b[1;34m(fig, file, format, scale, width, height, validate, engine)\u001b[0m\n\u001b[0;32m    286\u001b[0m         \u001b[38;5;28;01mraise\u001b[39;00m \u001b[38;5;167;01mValueError\u001b[39;00m(\n\u001b[0;32m    287\u001b[0m \u001b[38;5;250m            \u001b[39m\u001b[38;5;124;03m\"\"\"\u001b[39;00m\n\u001b[0;32m    288\u001b[0m \u001b[38;5;124;03mThe 'file' argument '{file}' is not a string, pathlib.Path object, or file descriptor.\u001b[39;00m\n\u001b[1;32m   (...)\u001b[0m\n\u001b[0;32m    291\u001b[0m             )\n\u001b[0;32m    292\u001b[0m         )\n\u001b[0;32m    293\u001b[0m     \u001b[38;5;28;01melse\u001b[39;00m:\n\u001b[0;32m    294\u001b[0m         \u001b[38;5;66;03m# We previously succeeded in interpreting `file` as a pathlib object.\u001b[39;00m\n\u001b[0;32m    295\u001b[0m         \u001b[38;5;66;03m# Now we can use `write_bytes()`.\u001b[39;00m\n\u001b[1;32m--> 296\u001b[0m         \u001b[43mpath\u001b[49m\u001b[38;5;241;43m.\u001b[39;49m\u001b[43mwrite_bytes\u001b[49m\u001b[43m(\u001b[49m\u001b[43mimg_data\u001b[49m\u001b[43m)\u001b[49m\n",
            "File \u001b[1;32mc:\\Users\\kerry\\AppData\\Local\\Programs\\Python\\Python313\\Lib\\pathlib\\_abc.py:641\u001b[0m, in \u001b[0;36mPathBase.write_bytes\u001b[1;34m(self, data)\u001b[0m\n\u001b[0;32m    639\u001b[0m \u001b[38;5;66;03m# type-check for the buffer interface before truncating the file\u001b[39;00m\n\u001b[0;32m    640\u001b[0m view \u001b[38;5;241m=\u001b[39m \u001b[38;5;28mmemoryview\u001b[39m(data)\n\u001b[1;32m--> 641\u001b[0m \u001b[38;5;28;01mwith\u001b[39;00m \u001b[38;5;28;43mself\u001b[39;49m\u001b[38;5;241;43m.\u001b[39;49m\u001b[43mopen\u001b[49m\u001b[43m(\u001b[49m\u001b[43mmode\u001b[49m\u001b[38;5;241;43m=\u001b[39;49m\u001b[38;5;124;43m'\u001b[39;49m\u001b[38;5;124;43mwb\u001b[39;49m\u001b[38;5;124;43m'\u001b[39;49m\u001b[43m)\u001b[49m \u001b[38;5;28;01mas\u001b[39;00m f:\n\u001b[0;32m    642\u001b[0m     \u001b[38;5;28;01mreturn\u001b[39;00m f\u001b[38;5;241m.\u001b[39mwrite(view)\n",
            "File \u001b[1;32mc:\\Users\\kerry\\AppData\\Local\\Programs\\Python\\Python313\\Lib\\pathlib\\_local.py:537\u001b[0m, in \u001b[0;36mPath.open\u001b[1;34m(self, mode, buffering, encoding, errors, newline)\u001b[0m\n\u001b[0;32m    535\u001b[0m \u001b[38;5;28;01mif\u001b[39;00m \u001b[38;5;124m\"\u001b[39m\u001b[38;5;124mb\u001b[39m\u001b[38;5;124m\"\u001b[39m \u001b[38;5;129;01mnot\u001b[39;00m \u001b[38;5;129;01min\u001b[39;00m mode:\n\u001b[0;32m    536\u001b[0m     encoding \u001b[38;5;241m=\u001b[39m io\u001b[38;5;241m.\u001b[39mtext_encoding(encoding)\n\u001b[1;32m--> 537\u001b[0m \u001b[38;5;28;01mreturn\u001b[39;00m \u001b[43mio\u001b[49m\u001b[38;5;241;43m.\u001b[39;49m\u001b[43mopen\u001b[49m\u001b[43m(\u001b[49m\u001b[38;5;28;43mself\u001b[39;49m\u001b[43m,\u001b[49m\u001b[43m \u001b[49m\u001b[43mmode\u001b[49m\u001b[43m,\u001b[49m\u001b[43m \u001b[49m\u001b[43mbuffering\u001b[49m\u001b[43m,\u001b[49m\u001b[43m \u001b[49m\u001b[43mencoding\u001b[49m\u001b[43m,\u001b[49m\u001b[43m \u001b[49m\u001b[43merrors\u001b[49m\u001b[43m,\u001b[49m\u001b[43m \u001b[49m\u001b[43mnewline\u001b[49m\u001b[43m)\u001b[49m\n",
            "\u001b[1;31mFileNotFoundError\u001b[0m: [Errno 2] No such file or directory: '..\\\\posts\\\\05-capm\\\\capm.jpg'"
          ]
        }
      ],
      "source": [
        "fig.write_image(\"../posts/05-capm/capm.jpg\", width=800, height=500)"
      ]
    },
    {
      "cell_type": "code",
      "execution_count": null,
      "metadata": {},
      "outputs": [],
      "source": []
    }
  ],
  "metadata": {
    "colab": {
      "name": "capm cost of equity calculator.ipynb",
      "provenance": []
    },
    "kernelspec": {
      "display_name": "Python 3",
      "name": "python3"
    },
    "language_info": {
      "codemirror_mode": {
        "name": "ipython",
        "version": 3
      },
      "file_extension": ".py",
      "mimetype": "text/x-python",
      "name": "python",
      "nbconvert_exporter": "python",
      "pygments_lexer": "ipython3",
      "version": "3.13.0"
    }
  },
  "nbformat": 4,
  "nbformat_minor": 0
}
