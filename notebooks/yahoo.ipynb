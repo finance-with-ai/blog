# Get SPY data and create plots
import yfinance as yf
import pandas as pd
import seaborn as sns
import matplotlib.pyplot as plt
import numpy as np

# Set seaborn style
sns.set_style('whitegrid')

# Get SPY data
spy = yf.download('SPY', start='1970-01-01', end='2025-05-05', interval='1wk')
returns = spy['Close'].pct_change()
cum_returns = (1 + returns).cumprod() - 1

# Create figure
fig, (ax1, ax2) = plt.subplots(1, 2, figsize=(15, 6))

# Plot cumulative returns
ax1.plot(cum_returns.index, cum_returns * 100)
ax1.set_title('Cumulative Returns (%)')
ax1.set_xlabel('Date')
ax1.set_ylabel('Return (%)')

# Plot histogram of returns
sns.histplot(returns * 100, kde=True, ax=ax2)
ax2.set_title('Distribution of Weekly Returns (%)')
ax2.set_xlabel('Return (%)')
ax2.set_ylabel('Count')

plt.tight_layout()
plt.show()

# Print summary statistics
print('\
Summary Statistics of Weekly Returns (%):')
print(returns.describe() * 100)