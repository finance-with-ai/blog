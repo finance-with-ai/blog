{
 "cells": [
  {
   "cell_type": "code",
   "metadata": {},
   "source": [
    "import requests\n",
    "import pandas as pd\n",
    "import zipfile\n",
    "import io\n",
    "from pathlib import Path\n",
    "\n",
    "all_dfs = []\n",
    "for year in range(2015, 2026):\n",
    "    url = f'https://storage.fasb.org/GAAP%20Taxonomy%20{year}.zip'\n",
    "    print(f'Downloading: {url}')\n",
    "    try:\n",
    "        response = requests.get(url)\n",
    "        response.raise_for_status()\n",
    "        with zipfile.ZipFile(io.BytesIO(response.content)) as z:\n",
    "            for fname in z.namelist():\n",
    "                if fname.lower().endswith('.csv'):\n",
    "                    with z.open(fname) as f:\n",
    "                        try:\n    "                            df = pd.read_csv(f)\n",
    "                        except Exception as e:\n",
    "                            print(f'Failed to read {fname} for {year}:', e)\n",
    "                            continue\n",
    "                        df['year'] = year\n",
    "                        all_dfs.append(df)\n",
    "    except Exception as e:\n",
    "        print(f'Failed to process {url}:', e)\n",
    "        continue\n",
    "\n",
    "if all_dfs:\n",
    "    combined_df = pd.concat(all_dfs, ignore_index=True)\n",
    "    combined_df.to_excel('GAAPTaxonomies.xlsx', index=False)\n",
    "    print('Saved GAAPTaxonomies.xlsx')\n",
    "else:\n",
    "    print('No dataframes to concatenate!')"
   ]
  }
 ],
 "metadata": {
  "kernelspec": {
   "display_name": "Python 3",
   "language": "python",
   "name": "python3"
  },
  "language_info": {
   "name": "python",
   "version": "3.x"
  }
 },
 "nbformat": 4,
 "nbformat_minor": 2
}
